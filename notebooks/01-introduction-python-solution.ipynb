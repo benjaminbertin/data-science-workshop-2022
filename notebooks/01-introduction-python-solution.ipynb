{
 "cells": [
  {
   "cell_type": "markdown",
   "id": "d53017ad",
   "metadata": {},
   "source": [
    "# 1. Introduction à Python\n",
    "\n",
    "<img align=\"center\" src=\"https://preview.redd.it/44aw5j979ve61.png?auto=webp&s=a0285d3a6e42e88b15bd738bc483412bb3efb019\"/>"
   ]
  },
  {
   "cell_type": "markdown",
   "id": "9be8e3df",
   "metadata": {},
   "source": [
    "## 1.1 Types de données élémentaires\n",
    "\n",
    "La librairie standard de Python fournit plusieurs types de données élémentaires tel que des entiers (int), des booléens (bool), des nombres à virgule flottante (float) ou des chaines de caractères (string). Une synthèse de ces types est présentée ci-dessous :\n",
    "\n",
    "\n",
    "| &nbsp;  |      Data Type    |   Example   | \n",
    "|:--------|:-----------------:|:------------|\n",
    "|Number   | Integer           | x = 4       |\n",
    "| &nbsp;  | Long integer      | x = 15L     | \n",
    "| &nbsp;  | Floating point    | x = 3.142   | \n",
    "| &nbsp;  | Boolean           | x = True    |\n",
    "|Text     | Character         | x = 'c'     |\n",
    "| &nbsp;  | String            | x = \"this\" or x = 'this' |"
   ]
  },
  {
   "cell_type": "code",
   "execution_count": null,
   "id": "2e464395",
   "metadata": {},
   "outputs": [],
   "source": [
    "x = 4              # integer\n",
    "print(x, type(x))\n",
    "\n",
    "y = True           # boolean (True, False)\n",
    "print(y, type(y))\n",
    "\n",
    "z = 3.7            # floating point\n",
    "print(z, type(z))\n",
    "\n",
    "s = \"This is a string\"    # string\n",
    "print(s, type(s))"
   ]
  },
  {
   "cell_type": "markdown",
   "id": "56eb2111",
   "metadata": {},
   "source": [
    "La cellule suivante présente quelques opérations basiques sur les entiers et les nombes à virgule flottante :"
   ]
  },
  {
   "cell_type": "code",
   "execution_count": null,
   "id": "f62ef569",
   "metadata": {},
   "outputs": [],
   "source": [
    "x = 4            # integer\n",
    "x1 = x + 4       # addition \n",
    "x2 = x * 3       # multiplication\n",
    "x += 2           # equivalent to x = x + 2\n",
    "x3 = x       \n",
    "x *= 3           # equivalent to x = x * 3\n",
    "x4 = x      \n",
    "x5 = x % 4       # modulo (remainder) operator\n",
    "\n",
    "z = 3.7          # floating point number\n",
    "z1 = z - 2       # subtraction\n",
    "z2 = z / 3       # division\n",
    "z3 = z // 3      # integer division\n",
    "z4 = z ** 2      # square of z \n",
    "z5 = z4 ** 0.5   # square root\n",
    "z6 = pow(z,2)    # equivalent to square of z\n",
    "z7 = round(z)    # rounding z to its nearest integer \n",
    "z8 = int(z)      # type casting float to int\n",
    "\n",
    "print(x,x1,x2,x3,x4,x5)\n",
    "print(z,z1,z2,z3,z4)\n",
    "print(z5,z6,z7,z8)"
   ]
  },
  {
   "cell_type": "markdown",
   "id": "02d9d851",
   "metadata": {},
   "source": [
    "La cellule suivante présente certaines fonctions fournit par le module `math` de Python sur des entiers et des nombres à virgule flottante :"
   ]
  },
  {
   "cell_type": "code",
   "execution_count": null,
   "id": "27091321",
   "metadata": {},
   "outputs": [],
   "source": [
    "import math\n",
    "\n",
    "x = 4\n",
    "print(math.sqrt(x))      # sqrt(4) = 2\n",
    "print(math.pow(x,2))     # 4**2 = 16\n",
    "print(math.exp(x))       # exp(4) = 54.6\n",
    "print(math.log(x,2))     # log based 2  (default is natural logarithm)\n",
    "print(math.fabs(-4))     # absolute value\n",
    "print(math.factorial(x)) # 4! = 4 x 3 x 2 x 1 = 24\n",
    "\n",
    "z = 0.2\n",
    "print(math.ceil(z))      # ceiling function\n",
    "print(math.floor(z))     # floor function\n",
    "print(math.trunc(z))     # truncate function\n",
    "\n",
    "z = 3*math.pi            # math.pi = 3.141592653589793 \n",
    "print(math.sin(z))       # sine function\n",
    "print(math.tanh(z))      # arctan function\n",
    "\n",
    "x = math.nan             # not a number\n",
    "print(math.isnan(x))\n",
    "\n",
    "x = math.inf             # infinity\n",
    "print(math.isinf(x))"
   ]
  },
  {
   "cell_type": "markdown",
   "id": "e09627ce",
   "metadata": {},
   "source": [
    "La cellule suivante présente certains opérations et fonctions de manipulation de **chaines de caractères** :"
   ]
  },
  {
   "cell_type": "code",
   "execution_count": null,
   "id": "d07e5da3",
   "metadata": {},
   "outputs": [],
   "source": [
    "s1 = \"This\"\n",
    "\n",
    "print(s1[1:])                    # print last three characters \n",
    "print(len(s1))                               # get the string length\n",
    "print(\"Length of string is \" + str(len(s1))) # type casting int to str\n",
    "print(s1.upper())                            # convert to upper case\n",
    "print(s1.lower())                            # convert to lower case\n",
    "\n",
    "s2 = \"This is a string\"\n",
    "words = s2.split(' ')             # split the string into words\n",
    "print(words[0])\n",
    "print(s2.replace('a','another'))  # replace \"a\" with \"another\"\n",
    "print(s2.replace('is','at'))      # replace \"is\" with \"at\"\n",
    "print(s2.find(\"a\"))               # find the position of \"a\" in s2\n",
    "print(s1 in s2)                   # check if s1 is a substring of s2\n",
    "\n",
    "print(s1 == 'This')               # equality comparison\n",
    "print(s1 < 'That')                # inequality comparison\n",
    "print(s2 + \" too\")                # string concatenation\n",
    "print((s1 + \" \")* 3)              # replicate the string 3 times"
   ]
  },
  {
   "cell_type": "markdown",
   "id": "282e952f",
   "metadata": {},
   "source": [
    "## 1.2 Types de données composés\n",
    "\n",
    "Les exemples suivants montrent comment créer et manipuler une **liste** d'objets :"
   ]
  },
  {
   "cell_type": "code",
   "execution_count": null,
   "id": "a6e79f5b",
   "metadata": {},
   "outputs": [],
   "source": [
    "intlist = [1, 3, 5, 7, 9]\n",
    "print(type(intlist))\n",
    "print(intlist)\n",
    "intlist2 = list(range(0,10,2))   # range[startvalue, endvalue, stepsize]\n",
    "print(intlist2)\n",
    "\n",
    "print(intlist[2])                # get the third element of the list\n",
    "print(intlist[:2])               # get the first two elements\n",
    "print(intlist[2:])               # get the last three elements of the list\n",
    "print(len(intlist)) # get the number of elements in the list\n",
    "print(sum(intlist))              # sums up elements of the list\n",
    "\n",
    "intlist.append(11)               # insert 11 to end of the list\n",
    "print(intlist)\n",
    "print(intlist.pop())             # remove last element of the list\n",
    "print(intlist)\n",
    "print(intlist + [11,13,15])      # concatenate two lists\n",
    "print(intlist * 3)               # replicate the list\n",
    "intlist.insert(2,4)              # insert item 4 at index 2  \n",
    "print(intlist)\n",
    "intlist.sort(reverse=True)       # sort elements in descending order\n",
    "print(intlist)"
   ]
  },
  {
   "cell_type": "code",
   "execution_count": null,
   "id": "87d74146",
   "metadata": {},
   "outputs": [],
   "source": [
    "mylist = ['this', 'is', 'a', 'list']\n",
    "print(mylist)\n",
    "print(type(mylist))\n",
    "\n",
    "print(\"list\" in mylist)          # check whether \"list\" is in mylist\n",
    "print(mylist[2])                 # show the 3rd element of the list\n",
    "print(mylist[:2])                # show the first two elements of the list\n",
    "print(mylist[2:])                # show the last two elements of the list\n",
    "mylist.append(\"too\")             # insert element to end of the list\n",
    "\n",
    "separator = \" \"\n",
    "print(separator.join(mylist))    # merge all elements of the list into a string\n",
    "\n",
    "mylist.remove(\"is\")              # remove element from list\n",
    "print(mylist)"
   ]
  },
  {
   "cell_type": "markdown",
   "id": "26c20f9c",
   "metadata": {},
   "source": [
    "La cellule suivante présente comment créer et manipuler un **dictionnaire** :"
   ]
  },
  {
   "cell_type": "code",
   "execution_count": null,
   "id": "c798a5c1",
   "metadata": {},
   "outputs": [],
   "source": [
    "abbrev = {}\n",
    "abbrev['MI'] = \"Michigan\"\n",
    "abbrev['MN'] = \"Minnesota\"\n",
    "abbrev['TX'] = \"Texas\"\n",
    "abbrev['CA'] = \"California\"\n",
    "\n",
    "print(abbrev)\n",
    "print(abbrev.keys())            # get the keys of the dictionary\n",
    "print(abbrev.values())          # get the values of the dictionary\n",
    "print(len(abbrev))              # get number of key-value pairs\n",
    "\n",
    "print(abbrev.get('MI'))\n",
    "print(\"FL\" in abbrev)\n",
    "print(\"CA\" in abbrev)\n",
    "\n",
    "keys = ['apples', 'oranges', 'bananas', 'cherries']\n",
    "values = [3, 4, 2, 10]\n",
    "print(list(zip(keys, values)))\n",
    "fruits = dict(zip(keys, values))\n",
    "print(fruits)\n",
    "print(sorted(fruits))     # sort keys of dictionary\n",
    "\n",
    "from operator import itemgetter\n",
    "print(sorted(fruits.items(), key=itemgetter(0)))    # sort by key of dictionary\n",
    "print(sorted(fruits.items(), key=itemgetter(1)))    # sort by value of dictionary"
   ]
  },
  {
   "cell_type": "markdown",
   "id": "3483af0b",
   "metadata": {},
   "source": [
    "## 1.3 Structure de contrôle\n",
    "\n",
    "Comme les autres langages, Python inclus les instructions `if`, `for` et `while`:"
   ]
  },
  {
   "cell_type": "code",
   "execution_count": null,
   "id": "45928e18",
   "metadata": {},
   "outputs": [],
   "source": [
    "# using if-else statement\n",
    "\n",
    "x = 10\n",
    "\n",
    "if x % 2 == 0:\n",
    "    print(\"x =\", x, \"is even\")\n",
    "else:\n",
    "    print(\"x =\", x, \"is odd\")\n",
    "\n",
    "if x > 0:\n",
    "    print(\"x =\", x, \"is positive\")\n",
    "elif x < 0:\n",
    "    print(\"x =\", x, \"is negative\")\n",
    "else:\n",
    "    print(\"x =\", x, \"is neither positive nor negative\")"
   ]
  },
  {
   "cell_type": "code",
   "execution_count": null,
   "id": "e6c5b59b",
   "metadata": {},
   "outputs": [],
   "source": [
    "# using for loop with a list\n",
    "\n",
    "mylist = ['this', 'is', 'a', 'list']\n",
    "for word in mylist:\n",
    "    print(word.replace(\"is\", \"at\"))\n",
    "\n",
    "# number of characters in each word\n",
    "mylist2 = []\n",
    "for word in mylist:\n",
    "    mylist2.append(len(word))\n",
    "print(mylist2)\n",
    "mylist2 = [len(word) for word in mylist]   # same with list comprehension syntax\n",
    "print(mylist2)\n",
    "\n",
    "# using for loop with list of tuples\n",
    "\n",
    "states = [('MI', 'Michigan', 'Lansing'),('CA', 'California', 'Sacramento'),\n",
    "          ('TX', 'Texas', 'Austin')]\n",
    "\n",
    "sorted_capitals = [state[2] for state in states]\n",
    "sorted_capitals.sort()\n",
    "print(sorted_capitals)\n",
    "\n",
    "# using for loop with dictionary\n",
    "\n",
    "fruits = {'apples': 3, 'oranges': 4, 'bananas': 2, 'cherries': 10}\n",
    "fruitnames = [k for (k,v) in fruits.items()]\n",
    "print(fruitnames)"
   ]
  },
  {
   "cell_type": "code",
   "execution_count": null,
   "id": "e0fb4fed",
   "metadata": {},
   "outputs": [],
   "source": [
    "# using while loop\n",
    "\n",
    "mylist = list(range(-10,10))\n",
    "print(mylist)\n",
    "\n",
    "i = 0\n",
    "while (mylist[i] < 0):\n",
    "    i = i + 1\n",
    "    \n",
    "print(\"First non-negative number:\", mylist[i])"
   ]
  },
  {
   "cell_type": "markdown",
   "id": "c9cd533b",
   "metadata": {},
   "source": [
    "## 1.4 Fonctions\n",
    "\n",
    "Les fonctions en Python peuvent être nommées ou non. Les fonctions non nommées sont créées en utilisant le mot clef `lambda`."
   ]
  },
  {
   "cell_type": "code",
   "execution_count": null,
   "id": "415e96f7",
   "metadata": {},
   "outputs": [],
   "source": [
    "myfunc = lambda x: 3*x**2 - 2*x + 3      # example of an unnamed quadratic function\n",
    "\n",
    "print(myfunc(2))"
   ]
  },
  {
   "cell_type": "code",
   "execution_count": null,
   "id": "b40e1496",
   "metadata": {},
   "outputs": [],
   "source": [
    "import math\n",
    "\n",
    "# The following function will discard missing values from a list\n",
    "def discard(inlist, sortFlag=False):    # default value for sortFlag is False \n",
    "    outlist = []\n",
    "    for item in inlist:\n",
    "        if not math.isnan(item):\n",
    "            outlist.append(item)\n",
    "    outlist = [item for item in inlist if not math.isnan(item)]    # equivalent with list comprehension\n",
    "    if sortFlag:\n",
    "        outlist.sort()\n",
    "    return outlist\n",
    "\n",
    "mylist = [12, math.nan, 23, -11, 45, math.nan, 71]\n",
    "\n",
    "print(discard(mylist,True))"
   ]
  },
  {
   "cell_type": "markdown",
   "id": "cb05cc1c",
   "metadata": {},
   "source": [
    "## 1.5 Lecture écriture de fichier\n",
    "\n",
    "\n",
    "L'écriture et la lecture de fichier en Python se fait comme suit :"
   ]
  },
  {
   "cell_type": "code",
   "execution_count": null,
   "id": "597bca39",
   "metadata": {},
   "outputs": [],
   "source": [
    "states = [('MI', 'Michigan', 'Lansing'),('CA', 'California', 'Sacramento'),\n",
    "          ('TX', 'Texas', 'Austin'), ('MN', 'Minnesota', 'St Paul')]\n",
    "\n",
    "with open('states.txt', 'w') as f:\n",
    "    f.write('\\n'.join('%s,%s,%s' % state for state in states))\n",
    "\n",
    "states_read = []\n",
    "with open('states.txt', 'r') as f:\n",
    "    for line in f:\n",
    "        fields = line.strip().split(sep=',')    # split each line into its respective fields\n",
    "        print('State=',fields[1],'(',fields[0],')','Capital:', fields[2])\n",
    "        states_read.append((fields[0], fields[1], fields[2]))\n",
    "states_read"
   ]
  },
  {
   "cell_type": "code",
   "execution_count": null,
   "id": "1fdbe6fb",
   "metadata": {},
   "outputs": [],
   "source": [
    "!head 'data/CO2 Emissions_Canada.csv'"
   ]
  },
  {
   "cell_type": "markdown",
   "id": "863173a3",
   "metadata": {},
   "source": [
    "**Excercice :** lisez le fichier `CO2 Emissions_Canada.csv`, stockez les données dans une liste et répondez aux questions suivantes :\n",
    "* Combien de ligne le fichier contient-il ?\n",
    "* Quel est le CO2 maximum émis par km par un véhicule ? (et quel est ce véhicule ?)\n",
    "* Combien de CO2 les véhicules émettent en moyenne ?\n",
    "\n",
    "Attention :\n",
    "* Il est nécessaire de transformer les types des données lues en entier avec l'instruction `int(variable)`\n",
    "* La première ligne du CSV contient l'en-tête des colonnes, pensez à l'enlever de la liste avant analyse"
   ]
  },
  {
   "cell_type": "markdown",
   "id": "1c72b37e",
   "metadata": {},
   "source": [
    "Lecture du fichier CSV et construction d'une liste des lignes:"
   ]
  },
  {
   "cell_type": "code",
   "execution_count": null,
   "id": "2807d855",
   "metadata": {},
   "outputs": [],
   "source": [
    "data = []\n",
    "with open('/data/CO2_Emissions_Canada.csv', 'r') as f:\n",
    "    for line in f:\n",
    "        fields = line.strip().split(sep=',')    # split each line into its respective fields\n",
    "        data.append(fields)"
   ]
  },
  {
   "cell_type": "markdown",
   "id": "3d274892",
   "metadata": {},
   "source": [
    "Nombre de lignes du fichier:"
   ]
  },
  {
   "cell_type": "code",
   "execution_count": null,
   "id": "1d86a3b1",
   "metadata": {},
   "outputs": [],
   "source": [
    "len(data)"
   ]
  },
  {
   "cell_type": "markdown",
   "id": "754e80ea",
   "metadata": {},
   "source": [
    "Affichage du contenu du premier élément de notre liste (c'est donc l'en-tête du fichier CSV) :"
   ]
  },
  {
   "cell_type": "code",
   "execution_count": null,
   "id": "0e329cf3",
   "metadata": {},
   "outputs": [],
   "source": [
    "data[0]"
   ]
  },
  {
   "cell_type": "markdown",
   "id": "ae178f25",
   "metadata": {},
   "source": [
    "Indentification du véhicule émettant le plus de C02 par km et affichage de son fabricant, modèle et de sa classe :"
   ]
  },
  {
   "cell_type": "code",
   "execution_count": null,
   "id": "5fd5a07b",
   "metadata": {},
   "outputs": [],
   "source": [
    "max_co2 = 0\n",
    "max_co2_maker_model = ''\n",
    "for d in data[1:]:\n",
    "    co2 = int(d[-1])\n",
    "    if co2 > max_co2:\n",
    "        max_co2 = co2\n",
    "        max_co2_maker_model = d[0] + ' ' + d[1] +  ' ' + d[2]\n",
    "max_co2_maker_model, max_co2"
   ]
  },
  {
   "cell_type": "markdown",
   "id": "c7efd23f",
   "metadata": {},
   "source": [
    "Calcul de la moyenne des émissions de C02 par km :"
   ]
  },
  {
   "cell_type": "code",
   "execution_count": null,
   "id": "04aa9ddf",
   "metadata": {},
   "outputs": [],
   "source": [
    "co2_acc = 0\n",
    "for d in data[1:]:\n",
    "    co2 = int(d[-1])\n",
    "    co2_acc += co2\n",
    "co2_acc / len(data[1:])"
   ]
  },
  {
   "cell_type": "markdown",
   "id": "c31ccf17",
   "metadata": {},
   "source": [
    "CO2 max par km avec une list comprehension :"
   ]
  },
  {
   "cell_type": "code",
   "execution_count": null,
   "id": "efdc4ccd",
   "metadata": {},
   "outputs": [],
   "source": [
    "max([int(c[-1]) for c in data[1:]])"
   ]
  },
  {
   "cell_type": "code",
   "execution_count": null,
   "id": "7ed47bec",
   "metadata": {},
   "outputs": [],
   "source": []
  }
 ],
 "metadata": {
  "kernelspec": {
   "display_name": "Python 3",
   "language": "python",
   "name": "python3"
  },
  "language_info": {
   "codemirror_mode": {
    "name": "ipython",
    "version": 3
   },
   "file_extension": ".py",
   "mimetype": "text/x-python",
   "name": "python",
   "nbconvert_exporter": "python",
   "pygments_lexer": "ipython3",
   "version": "3.8.8"
  }
 },
 "nbformat": 4,
 "nbformat_minor": 5
}
