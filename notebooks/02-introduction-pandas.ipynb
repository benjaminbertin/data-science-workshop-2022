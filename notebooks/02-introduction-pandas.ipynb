{
 "cells": [
  {
   "cell_type": "markdown",
   "id": "cfbf3ce8",
   "metadata": {},
   "source": [
    "# 2. Introduction à Pandas\n",
    "\n",
    "<img align=\"center\" src=\"https://habrastorage.org/files/10c/15f/f3d/10c15ff3dcb14abdbabdac53fed6d825.jpg\"/>\n",
    "<br>"
   ]
  },
  {
   "cell_type": "markdown",
   "id": "6d845474",
   "metadata": {},
   "source": [
    "**[Pandas](http://pandas.pydata.org)** est une librairire Python permettant l'analyse de données, elle est fréquemment utilisée par les data scientist pour lire et manipuler des données dans des formats tabulaires tel que `.csv`, `.tsv`, or `.xlsx`. Avec l'aide de `Matplotlib` et `Seaborn`, Pandas fournit des méthodes d'epxloration visuelles des données tabulaires."
   ]
  },
  {
   "cell_type": "markdown",
   "id": "4e8d2d47",
   "metadata": {},
   "source": [
    "## 2.1 DataFrame\n",
    "\n",
    "Les structures de données principale de Pandas sont les **Series** et les **DataFrame**. La première est un tableau à une dimension contenant des données d'un type précis. La deuxième est une structure à deux dimensions, i.e. : un tableau à deux dimensions (ou encore une matrice), dont chaque colonne contient des données d'un type précis. Dans une `DataFrame` les lignes correspondent à des individus (objets, observations ...) et les colonnes à des attributs (features).\n",
    "\n",
    "Nous commencons par les imports nécessaire pour que Pandas soit disponible dans notre environnement d'exécution :"
   ]
  },
  {
   "cell_type": "code",
   "execution_count": null,
   "id": "ea939cb5",
   "metadata": {},
   "outputs": [],
   "source": [
    "import numpy as np\n",
    "import pandas as pd\n",
    "# we don't like warnings\n",
    "# you can comment the following 2 lines if you'd like to\n",
    "import warnings\n",
    "warnings.filterwarnings('ignore')"
   ]
  },
  {
   "cell_type": "markdown",
   "id": "68c7f71a",
   "metadata": {},
   "source": [
    "Puis nous créons une DataFrame depuis un dictionnaire :"
   ]
  },
  {
   "cell_type": "code",
   "execution_count": null,
   "id": "3f021def",
   "metadata": {},
   "outputs": [],
   "source": [
    "cars = {'make': ['Ford', 'Honda', 'Toyota', 'Tesla'],\n",
    "       'model': ['Taurus', 'Accord', 'Camry', 'Model S'],\n",
    "       'MSRP': [27595, 23570, 23495, 68000]}          \n",
    "df = pd.DataFrame(cars)   # creating DataFrame from dictionary\n",
    "df                     # display the table"
   ]
  },
  {
   "cell_type": "code",
   "execution_count": null,
   "id": "bc204d18",
   "metadata": {},
   "outputs": [],
   "source": [
    "print(df.index)       # print the row indices\n",
    "print(df.columns)     # print the column indices"
   ]
  },
  {
   "cell_type": "code",
   "execution_count": null,
   "id": "aa56f9f5",
   "metadata": {},
   "outputs": [],
   "source": [
    "df['year'] = 2018    # add column with same value\n",
    "# add a column with a different value for each row:\n",
    "df['dealership'] = ['Courtesy Ford','Capital Honda','Spartan Toyota',None]\n",
    "df"
   ]
  },
  {
   "cell_type": "markdown",
   "id": "e336ab4e",
   "metadata": {},
   "source": [
    "Les éléments d'une DataFrame peuvent être accéder de différentes manières :"
   ]
  },
  {
   "cell_type": "code",
   "execution_count": null,
   "id": "cfa60734",
   "metadata": {},
   "outputs": [],
   "source": [
    "# accessing an entire column will return a Series object\n",
    "\n",
    "print(type(df['make']))\n",
    "print(df['make'])    # returns the make column"
   ]
  },
  {
   "cell_type": "code",
   "execution_count": null,
   "id": "5ec21aec",
   "metadata": {},
   "outputs": [],
   "source": [
    "# accessing an entire row will return a Series object\n",
    "\n",
    "print(type(df.iloc[2]))\n",
    "print(df.iloc[2])       # returns the 3rd row of DataFrame"
   ]
  },
  {
   "cell_type": "code",
   "execution_count": null,
   "id": "9afbb97a",
   "metadata": {},
   "outputs": [],
   "source": [
    "# accessing a specific element of the DataFrame\n",
    "\n",
    "print(df.iloc[1,2])    # retrieving second row, third column\n",
    "print(df.loc[1,'MSRP'])    # retrieving second row, column named 'MSRP'\n",
    "print(df.loc[1]['MSRP'])    # retrieving second row, column named 'MSRP'"
   ]
  },
  {
   "cell_type": "code",
   "execution_count": null,
   "id": "d228d088",
   "metadata": {},
   "outputs": [],
   "source": [
    "# accessing a slice of the DataFrame\n",
    "\n",
    "df.iloc[1:3,1:3]"
   ]
  },
  {
   "cell_type": "markdown",
   "id": "1f048351",
   "metadata": {},
   "source": [
    "Les attributs shape et size permettent de connaitre le nombre de lignes et colonnes ainsi que le nombre d'élements :"
   ]
  },
  {
   "cell_type": "code",
   "execution_count": null,
   "id": "7aa1ea1a",
   "metadata": {},
   "outputs": [],
   "source": [
    "print('df.shape =', df.shape)    # shape returns a tuple (number of rows, number of columns)\n",
    "print('df.size =', df.size)"
   ]
  },
  {
   "cell_type": "markdown",
   "id": "d5dcdbb3",
   "metadata": {},
   "source": [
    "## 2.2 Filtrage d'une DataFrame\n",
    "\n",
    "La sélection d'une ou plusieurs lignes peut se faire en appliquant un filtre booléen :"
   ]
  },
  {
   "cell_type": "code",
   "execution_count": null,
   "id": "e650b8b0",
   "metadata": {},
   "outputs": [],
   "source": [
    "df[df.MSRP > 25000]"
   ]
  },
  {
   "cell_type": "markdown",
   "id": "f2b6cec9",
   "metadata": {},
   "source": [
    "Le filtre est simplement constitué d'une Series contenant une valeur booléenne pour chaque ligne de notre DataFrame qui sera ensuite appliqué comme masque de sélection sur la DataFrame:"
   ]
  },
  {
   "cell_type": "code",
   "execution_count": null,
   "id": "02cf11da",
   "metadata": {},
   "outputs": [],
   "source": [
    "df.MSRP > 25000"
   ]
  },
  {
   "cell_type": "markdown",
   "id": "d78ee7f4",
   "metadata": {},
   "source": [
    "Il existe plusieurs méthodes utiles permettant de filtrer les DataFrames :"
   ]
  },
  {
   "cell_type": "code",
   "execution_count": null,
   "id": "28c5ee56",
   "metadata": {},
   "outputs": [],
   "source": [
    "df[df.dealership.isna()]    # retrieving rows with a null value on the dealership column"
   ]
  },
  {
   "cell_type": "code",
   "execution_count": null,
   "id": "878b6bae",
   "metadata": {},
   "outputs": [],
   "source": [
    "df[df.MSRP.between(23000, 24000)]    # retrieving rows with MSRP between 23k and 24k"
   ]
  },
  {
   "cell_type": "markdown",
   "id": "280dd316",
   "metadata": {},
   "source": [
    "Les conditions dans un filtre peuvent être combinées avec les opérateurs `&` (ET booléen) et `|` (ou booléen) :"
   ]
  },
  {
   "cell_type": "code",
   "execution_count": null,
   "id": "e8b19f81",
   "metadata": {},
   "outputs": [],
   "source": [
    "# retrieving rows with MSRP < 30k and the model name contains an o\n",
    "df[\n",
    "    (df['MSRP'] < 30000) & df.model.str.contains('o')\n",
    "]"
   ]
  },
  {
   "cell_type": "markdown",
   "id": "a6c0d12f",
   "metadata": {},
   "source": [
    "## 2.3 Opérations arithmétiques\n",
    "\n",
    "Pour illustrer ces opérations nous allons créer une DataFrame contenant des données numériques synthétiques à l'aide de numpy (numerical python):"
   ]
  },
  {
   "cell_type": "code",
   "execution_count": null,
   "id": "f0562eeb",
   "metadata": {},
   "outputs": [],
   "source": [
    "npdata = np.random.randn(5,3)  # create a 5 by 3 random matrix\n",
    "columnNames = ['x1','x2','x3']\n",
    "data = pd.DataFrame(npdata, columns=columnNames)\n",
    "data"
   ]
  },
  {
   "cell_type": "code",
   "execution_count": null,
   "id": "f8b27304",
   "metadata": {},
   "outputs": [],
   "source": [
    "print(data)\n",
    "\n",
    "print('Data transpose operation:')\n",
    "print(data.T)    # transpose operation\n",
    "\n",
    "print('Addition:')\n",
    "print(data + 4)    # addition operation\n",
    "\n",
    "print('Multiplication:')\n",
    "print(data * 10)   # multiplication operation"
   ]
  },
  {
   "cell_type": "code",
   "execution_count": null,
   "id": "bc7e531e",
   "metadata": {},
   "outputs": [],
   "source": [
    "print('data =')\n",
    "print(data)\n",
    "\n",
    "columnNames = ['x1','x2','x3']\n",
    "data2 = pd.DataFrame(np.random.randn(5,3), columns=columnNames)\n",
    "print('\\ndata2 =')\n",
    "print(data2)\n",
    "\n",
    "print('\\ndata + data2 = ')\n",
    "print(data.add(data2))\n",
    "\n",
    "print('\\ndata * data2 = ')\n",
    "print(data.mul(data2))"
   ]
  },
  {
   "cell_type": "code",
   "execution_count": null,
   "id": "1deb4de9",
   "metadata": {},
   "outputs": [],
   "source": [
    "print(data.abs())    # get the absolute value for each element\n",
    "\n",
    "print('\\nMaximum value per column:')\n",
    "print(data.max())    # get maximum value for each column\n",
    "\n",
    "print('\\nMinimum value per row:')\n",
    "print(data.min(axis=1))    # get minimum value for each row\n",
    "\n",
    "print('\\nSum of values per column:')\n",
    "print(data.sum())    # get sum of values for each column\n",
    "\n",
    "print('\\nAverage value per row:')\n",
    "print(data.mean(axis=1))    # get average value for each row\n",
    "\n",
    "print('\\nCalculate max - min per column')\n",
    "f = lambda x: x.max() - x.min()\n",
    "print(data.apply(f))\n",
    "\n",
    "print('\\nCalculate max - min per row')\n",
    "f = lambda x: x.max() - x.min()\n",
    "print(data.apply(f, axis=1))"
   ]
  },
  {
   "cell_type": "code",
   "execution_count": null,
   "id": "0b2d5875",
   "metadata": {},
   "outputs": [],
   "source": [
    "# add a max minus min column\n",
    "data['max_minus_min'] = data.apply(\n",
    "    lambda x: x.max() - x.min(),\n",
    "    axis=1\n",
    ")\n",
    "data"
   ]
  },
  {
   "cell_type": "markdown",
   "id": "2325b744",
   "metadata": {},
   "source": [
    "## 2.4 Exercice\n",
    "\n",
    "Nous reprennons le fichier `CO2_Emissions_Canada.csv`. Pour lire un fichier CSV nous pouvons utiliser la méthode `read_csv` de Pandas (la méthode `head()` affiche les 5 première lignes de notre DataFrame).\n",
    "\n",
    "La description accompagnant ce dataset est la suivante :\n",
    "\n",
    "**Model**\n",
    "* 4WD/4X4 = Four-wheel drive\n",
    "* AWD = All-wheel drive\n",
    "* FFV = Flexible-fuel vehicle\n",
    "* SWB = Short wheelbase\n",
    "* LWB = Long wheelbase\n",
    "* EWB = Extended wheelbase\n",
    "\n",
    "**Transmission**\n",
    "* A = Automatic\n",
    "* AM = Automated manual\n",
    "* AS = Automatic with select shift\n",
    "* AV = Continuously variable\n",
    "* M = Manual\n",
    "* 3 - 10 = Number of gears\n",
    "\n",
    "**Fuel type**\n",
    "* X = Regular gasoline\n",
    "* Z = Premium gasoline\n",
    "* D = Diesel\n",
    "* E = Ethanol (E85)\n",
    "* N = Natural gas\n",
    "\n",
    "**Fuel Consumption**\n",
    "\n",
    "City and highway fuel consumption ratings are shown in litres per 100 kilometres (L/100 km) - the combined rating (55% city, 45% hwy) is shown in L/100 km and in miles per gallon (mpg)\n",
    "\n",
    "**CO2 Emissions**\n",
    "\n",
    "The tailpipe emissions of carbon dioxide (in grams per kilometre) for combined city and highway driving"
   ]
  },
  {
   "cell_type": "markdown",
   "id": "ae9b9e33",
   "metadata": {},
   "source": [
    "Chargez le dataset contenu dans le fichier CO2 Emissions_Canada.csv dans une DataFrame avec la fonction [`pandas.read_csv`](https://pandas.pydata.org/docs/reference/api/pandas.read_csv.html) et affichez ses premières lignes :"
   ]
  },
  {
   "cell_type": "code",
   "execution_count": null,
   "id": "757d0689",
   "metadata": {},
   "outputs": [],
   "source": []
  },
  {
   "cell_type": "markdown",
   "id": "ef45ac90",
   "metadata": {},
   "source": [
    "Affichez les dimensions de ce dataset, le nom des features et leurs types à l'aide des attributs `shape`, `columns` et de la méthode `info()` :"
   ]
  },
  {
   "cell_type": "code",
   "execution_count": null,
   "id": "2d94470e",
   "metadata": {},
   "outputs": [],
   "source": []
  },
  {
   "cell_type": "markdown",
   "id": "d6b98152",
   "metadata": {},
   "source": [
    "Utilisez la méthode `describe` pour afficher un ensemble de statistiques pour chaque feature numériques (`int64` et `float64`) : nombre de valeurs non manquantes, moyenne, variance, médiane, min, max, quartiles."
   ]
  },
  {
   "cell_type": "code",
   "execution_count": null,
   "id": "349b2862",
   "metadata": {},
   "outputs": [],
   "source": []
  },
  {
   "cell_type": "markdown",
   "id": "4c93824c",
   "metadata": {},
   "source": [
    "Répondez aux questions suivantes :\n",
    "* Combien de ligne le fichier contient-il ?\n",
    "* Quel est le CO2 maximum émis par km par un véhicule ?\n",
    "* Combien de véhicules émettent une tel quantité de CO2 par km ?\n",
    "* Combien de CO2 les véhicules émettent en moyenne ?\n",
    "* Quels sont les 5 véhicules qui émettent le moins de CO2 par km (vous pouvez utiliser la méthode [`sort_values`](https://pandas.pydata.org/docs/reference/api/pandas.DataFrame.sort_values.html)) ?\n",
    "* Y-a-t'il des doublons dans ce dataset et si oui, combien (vous pouvez utiliser la méthode [`duplicated`](https://pandas.pydata.org/docs/reference/api/pandas.DataFrame.duplicated.html)) ?\n",
    "* Quelles sont les fabricants qui produisent les véhicules les plus polluants en moyenne (vous pouvez utiliser la méthode [`groupby`](https://pandas.pydata.org/docs/reference/api/pandas.DataFrame.groupby.html) - voir aussi [l'introduction tutorial de Pandas](https://pandas.pydata.org/pandas-docs/stable/getting_started/intro_tutorials/06_calculate_statistics.html#aggregating-statistics-grouped-by-category)) ?"
   ]
  },
  {
   "cell_type": "markdown",
   "id": "e8571148",
   "metadata": {},
   "source": [
    "## 2.7 Visualisation\n",
    "\n",
    "Nous pouvons visualiser les données en utilisant directement les méthodes disponibles dans Pandas (qui utilisent la librairie matplotlib) :"
   ]
  },
  {
   "cell_type": "code",
   "execution_count": null,
   "id": "83b93c3d",
   "metadata": {},
   "outputs": [],
   "source": [
    "df['CO2 Emissions(g/km)'].hist(bins=100)    # distribution of CO2 emissions "
   ]
  },
  {
   "cell_type": "code",
   "execution_count": null,
   "id": "d9216b2c",
   "metadata": {},
   "outputs": [],
   "source": [
    "df['Make'].value_counts().hist()    # number of vehicules per make"
   ]
  },
  {
   "cell_type": "markdown",
   "id": "0f6f0d2f",
   "metadata": {},
   "source": [
    "Ou la librairire Plotly (il est peut-être nécessaire de l'installer avant) :"
   ]
  },
  {
   "cell_type": "code",
   "execution_count": null,
   "id": "03c92c2b",
   "metadata": {},
   "outputs": [],
   "source": [
    "!pip  install plotly"
   ]
  },
  {
   "cell_type": "code",
   "execution_count": null,
   "id": "cb7a2528",
   "metadata": {},
   "outputs": [],
   "source": [
    "import plotly.express as px\n",
    "fig = px.histogram(df, x=\"CO2 Emissions(g/km)\")\n",
    "fig.show()"
   ]
  },
  {
   "cell_type": "code",
   "execution_count": null,
   "id": "f9921dd1",
   "metadata": {},
   "outputs": [],
   "source": [
    "fig = px.histogram(df, x=\"Make\").update_xaxes(categoryorder=\"total descending\")\n",
    "fig.show()"
   ]
  },
  {
   "cell_type": "code",
   "execution_count": null,
   "id": "e4d2c886",
   "metadata": {},
   "outputs": [],
   "source": [
    "fig = px.box(df, x=\"Make\", y=\"CO2 Emissions(g/km)\")\n",
    "fig.show()"
   ]
  },
  {
   "cell_type": "markdown",
   "id": "4f918edf",
   "metadata": {},
   "source": [
    "## 2.8 Excercice\n",
    "\n",
    "* Afficher un box plot des émissions de CO2 par km par type de véhicule\n",
    "* Afficher un [scatter plot](https://plotly.com/python/line-and-scatter/) des émissions de CO2 par km en fonction de la consommation de carburant\n",
    "* Quel est le facteur qui explique les différentes modalités de cette relation ?"
   ]
  }
 ],
 "metadata": {
  "kernelspec": {
   "display_name": "Python 3",
   "language": "python",
   "name": "python3"
  },
  "language_info": {
   "codemirror_mode": {
    "name": "ipython",
    "version": 3
   },
   "file_extension": ".py",
   "mimetype": "text/x-python",
   "name": "python",
   "nbconvert_exporter": "python",
   "pygments_lexer": "ipython3",
   "version": "3.8.8"
  }
 },
 "nbformat": 4,
 "nbformat_minor": 5
}
