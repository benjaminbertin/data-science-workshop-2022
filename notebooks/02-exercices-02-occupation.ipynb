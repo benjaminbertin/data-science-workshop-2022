{
 "cells": [
  {
   "cell_type": "markdown",
   "id": "7dad1201",
   "metadata": {},
   "source": [
    "# Professions\n",
    "\n",
    "Dans ce notebook, nous allons étudier un dataset contenant la profession occupé par différents individus."
   ]
  },
  {
   "cell_type": "code",
   "execution_count": null,
   "id": "b0399b3f",
   "metadata": {},
   "outputs": [],
   "source": [
    "import pandas as pd"
   ]
  },
  {
   "cell_type": "markdown",
   "id": "d43a5b2e",
   "metadata": {},
   "source": [
    "### Chargez le dataset `occupations.csv` dans une DataFrame\n",
    "\n",
    "Faites en sorte que la colonne `user_id` soit l'index de notre DataFrame."
   ]
  },
  {
   "cell_type": "code",
   "execution_count": null,
   "id": "a438f2b9",
   "metadata": {},
   "outputs": [],
   "source": []
  },
  {
   "cell_type": "markdown",
   "id": "fb3b6c63",
   "metadata": {},
   "source": [
    "### Affichez les premières lignes du dataset"
   ]
  },
  {
   "cell_type": "code",
   "execution_count": null,
   "id": "5dd08f58",
   "metadata": {},
   "outputs": [],
   "source": []
  },
  {
   "cell_type": "markdown",
   "id": "fccc9364",
   "metadata": {},
   "source": [
    "### Calculez la moyenne d'age par profession (colonne `occupation`)"
   ]
  },
  {
   "cell_type": "code",
   "execution_count": null,
   "id": "9a84167f",
   "metadata": {},
   "outputs": [],
   "source": []
  },
  {
   "cell_type": "markdown",
   "id": "ceb4fe43",
   "metadata": {},
   "source": [
    "### Calculez l'age minimum et maximum par profession"
   ]
  },
  {
   "cell_type": "code",
   "execution_count": null,
   "id": "761359f1",
   "metadata": {
    "scrolled": true
   },
   "outputs": [],
   "source": []
  },
  {
   "cell_type": "markdown",
   "id": "6e4736e2",
   "metadata": {},
   "source": [
    "### Calculez l'age moyen pour chaque combinaison de profession et de sexe"
   ]
  },
  {
   "cell_type": "code",
   "execution_count": null,
   "id": "c2c35557",
   "metadata": {},
   "outputs": [],
   "source": []
  },
  {
   "cell_type": "markdown",
   "id": "94a4e83e",
   "metadata": {},
   "source": [
    "### Pourcentage de femmes et d'hommes par profession\n",
    "\n",
    "Ce calcul nécessite plusieurs étapes. Commencez pas calculer le nombre d'individus de chaque sexe et chaque profession en utilisant [`pandas.core.groupby.GroupBy.size`](https://pandas.pydata.org/docs/reference/api/pandas.core.groupby.GroupBy.size.html) puis affectez le résultat dans une variable nommée `gender_occupation`."
   ]
  },
  {
   "cell_type": "code",
   "execution_count": null,
   "id": "2eb060ba",
   "metadata": {
    "scrolled": true
   },
   "outputs": [],
   "source": []
  },
  {
   "cell_type": "markdown",
   "id": "17bab4e7",
   "metadata": {},
   "source": [
    "Calculez le nombre d'individus par profession, toujours en utilisant la méthode `size` puis affectez le résultat à une variable `occupation_count`."
   ]
  },
  {
   "cell_type": "code",
   "execution_count": null,
   "id": "a4dba18c",
   "metadata": {
    "scrolled": true
   },
   "outputs": [],
   "source": []
  },
  {
   "cell_type": "markdown",
   "id": "72bc5ff5",
   "metadata": {},
   "source": [
    "Pour finir, diviser `gender_occupation` par `occupation_count`."
   ]
  },
  {
   "cell_type": "code",
   "execution_count": null,
   "id": "edcbcc79",
   "metadata": {
    "scrolled": true
   },
   "outputs": [],
   "source": []
  },
  {
   "cell_type": "markdown",
   "id": "afbd37aa",
   "metadata": {},
   "source": [
    "### Pourcentage d'hommes par profession\n",
    "\n",
    "Une autre approche pour calculer le rapport femme/homme par profression consiste à calculer le pourcentage d'hommes par profession. Commencez par créer une fonction Python qui prend un paramètre en entrée et renvoie l'entier `1` quand ce paramètre vaut la chaine de caractère `M` et renvoie l'entier `0` sinon (ou si le paramètre vaut `F`)."
   ]
  },
  {
   "cell_type": "code",
   "execution_count": null,
   "id": "ac3a08d7",
   "metadata": {},
   "outputs": [],
   "source": []
  },
  {
   "cell_type": "markdown",
   "id": "38b86cee",
   "metadata": {},
   "source": [
    "Appliquez cette fonction sur la colonne `gender` de la DataFrame en utlisant la méthode [`pandas.DataFrame.apply`](https://pandas.pydata.org/docs/reference/api/pandas.DataFrame.apply.html) puis stockez le résultat dans une nouvelle colonne nommée `gender_int`."
   ]
  },
  {
   "cell_type": "code",
   "execution_count": null,
   "id": "6cdf6f52",
   "metadata": {},
   "outputs": [],
   "source": []
  },
  {
   "cell_type": "markdown",
   "id": "fb465646",
   "metadata": {},
   "source": [
    "Finalement, divisez la somme de la colonne `gender_int` par profession par le nombre d'individus par profession."
   ]
  },
  {
   "cell_type": "code",
   "execution_count": null,
   "id": "aff5c675",
   "metadata": {
    "scrolled": true
   },
   "outputs": [],
   "source": []
  }
 ],
 "metadata": {
  "kernelspec": {
   "display_name": "Python 3",
   "language": "python",
   "name": "python3"
  },
  "language_info": {
   "codemirror_mode": {
    "name": "ipython",
    "version": 3
   },
   "file_extension": ".py",
   "mimetype": "text/x-python",
   "name": "python",
   "nbconvert_exporter": "python",
   "pygments_lexer": "ipython3",
   "version": "3.8.8"
  }
 },
 "nbformat": 4,
 "nbformat_minor": 5
}
