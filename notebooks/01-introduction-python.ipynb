{
 "cells": [
  {
   "cell_type": "markdown",
   "id": "d53017ad",
   "metadata": {},
   "source": [
    "# 1. Introduction à Python\n",
    "\n",
    "<img align=\"center\" src=\"https://preview.redd.it/44aw5j979ve61.png?auto=webp&s=a0285d3a6e42e88b15bd738bc483412bb3efb019\"/>"
   ]
  },
  {
   "cell_type": "markdown",
   "id": "9be8e3df",
   "metadata": {},
   "source": [
    "## 1.1 Types de données élémentaires\n",
    "\n",
    "La librairie standard de Python fournit plusieurs types de données élémentaires tel que des entiers (int), des booléens (bool), des nombres à virgule flottante (float) ou des chaines de caractères (string). Une synthèse de ces types est présentée ci-dessous :\n",
    "\n",
    "\n",
    "| &nbsp;  |      Data Type    |   Example   | \n",
    "|:--------|:-----------------:|:------------|\n",
    "|Number   | Integer           | x = 4       |\n",
    "| &nbsp;  | Long integer      | x = 15L     | \n",
    "| &nbsp;  | Floating point    | x = 3.142   | \n",
    "| &nbsp;  | Boolean           | x = True    |\n",
    "|Text     | Character         | x = 'c'     |\n",
    "| &nbsp;  | String            | x = \"this\" or x = 'this' |"
   ]
  },
  {
   "cell_type": "code",
   "execution_count": 29,
   "id": "2e464395",
   "metadata": {},
   "outputs": [
    {
     "name": "stdout",
     "output_type": "stream",
     "text": [
      "4 <class 'int'>\n",
      "True <class 'bool'>\n",
      "3.7 <class 'float'>\n",
      "This is a 4 string <class 'str'>\n"
     ]
    }
   ],
   "source": [
    "x = 4              # integer\n",
    "print(x, type(x))\n",
    "\n",
    "y = True           # boolean (True, False)\n",
    "print(y, type(y))\n",
    "\n",
    "z = 3.7            # floating point\n",
    "print(z, type(z))\n",
    "\n",
    "s = f\"This is a {x} string\"    # string\n",
    "print(s, type(s))"
   ]
  },
  {
   "cell_type": "markdown",
   "id": "56eb2111",
   "metadata": {},
   "source": [
    "La cellule suivante présente quelques opérations basiques sur les entiers et les nombes à virgule flottante :"
   ]
  },
  {
   "cell_type": "code",
   "execution_count": 3,
   "id": "f62ef569",
   "metadata": {},
   "outputs": [
    {
     "name": "stdout",
     "output_type": "stream",
     "text": [
      "18 8 12 6 18 2\n",
      "3.7 1.7000000000000002 1.2333333333333334 1.0 13.690000000000001\n",
      "3.7 13.690000000000001 4 3\n"
     ]
    }
   ],
   "source": [
    "x = 4            # integer\n",
    "x1 = x + 4       # addition \n",
    "x2 = x * 3       # multiplication\n",
    "x += 2           # equivalent to x = x + 2\n",
    "x3 = x       \n",
    "x *= 3           # equivalent to x = x * 3\n",
    "x4 = x      \n",
    "x5 = x % 4       # modulo (remainder) operator\n",
    "\n",
    "z = 3.7          # floating point number\n",
    "z1 = z - 2       # subtraction\n",
    "z2 = z / 3       # division\n",
    "z3 = z // 3      # integer division\n",
    "z4 = z ** 2      # square of z \n",
    "z5 = z4 ** 0.5   # square root\n",
    "z6 = pow(z,2)    # equivalent to square of z\n",
    "z7 = round(z)    # rounding z to its nearest integer \n",
    "z8 = int(z)      # type casting float to int\n",
    "\n",
    "print(x,x1,x2,x3,x4,x5)\n",
    "print(z,z1,z2,z3,z4)\n",
    "print(z5,z6,z7,z8)"
   ]
  },
  {
   "cell_type": "code",
   "execution_count": 37,
   "id": "92888926",
   "metadata": {},
   "outputs": [
    {
     "data": {
      "text/plain": [
       "5"
      ]
     },
     "execution_count": 37,
     "metadata": {},
     "output_type": "execute_result"
    }
   ],
   "source": [
    "int(x)"
   ]
  },
  {
   "cell_type": "code",
   "execution_count": null,
   "id": "0c4a56b6",
   "metadata": {},
   "outputs": [],
   "source": []
  },
  {
   "cell_type": "code",
   "execution_count": 33,
   "id": "4f81ef11",
   "metadata": {},
   "outputs": [
    {
     "data": {
      "text/plain": [
       "(4, 3)"
      ]
     },
     "execution_count": 33,
     "metadata": {},
     "output_type": "execute_result"
    }
   ],
   "source": [
    "x = 7\n",
    "round(x / 2), x // 2"
   ]
  },
  {
   "cell_type": "markdown",
   "id": "02d9d851",
   "metadata": {},
   "source": [
    "La cellule suivante présente certaines fonctions fournit par le module `math` de Python sur des entiers et des nombres à virgule flottante :"
   ]
  },
  {
   "cell_type": "code",
   "execution_count": 17,
   "id": "27091321",
   "metadata": {},
   "outputs": [
    {
     "name": "stdout",
     "output_type": "stream",
     "text": [
      "2.0\n",
      "16.0\n",
      "54.598150033144236\n",
      "2.0\n",
      "4.0\n",
      "24\n",
      "1\n",
      "0\n",
      "0\n",
      "3.6739403974420594e-16\n",
      "0.9999999869751758\n",
      "True\n",
      "True\n"
     ]
    }
   ],
   "source": [
    "import math\n",
    "\n",
    "x = 4\n",
    "print(math.sqrt(x))      # sqrt(4) = 2\n",
    "print(math.pow(x,2))     # 4**2 = 16\n",
    "print(math.exp(x))       # exp(4) = 54.6\n",
    "print(math.log(x,2))     # log based 2  (default is natural logarithm)\n",
    "print(math.fabs(-4))     # absolute value\n",
    "print(math.factorial(x)) # 4! = 4 x 3 x 2 x 1 = 24\n",
    "\n",
    "z = 0.2\n",
    "print(math.ceil(z))      # ceiling function\n",
    "print(math.floor(z))     # floor function\n",
    "print(math.trunc(z))     # truncate function\n",
    "\n",
    "z = 3*math.pi            # math.pi = 3.141592653589793 \n",
    "print(math.sin(z))       # sine function\n",
    "print(math.tanh(z))      # arctan function\n",
    "\n",
    "x = math.nan             # not a number\n",
    "print(math.isnan(x))\n",
    "\n",
    "x = math.inf             # infinity\n",
    "print(math.isinf(x))"
   ]
  },
  {
   "cell_type": "markdown",
   "id": "e09627ce",
   "metadata": {},
   "source": [
    "La cellule suivante présente certains opérations et fonctions de manipulation de **chaines de caractères** :"
   ]
  },
  {
   "cell_type": "code",
   "execution_count": 51,
   "id": "5ab11641",
   "metadata": {},
   "outputs": [
    {
     "data": {
      "text/plain": [
       "'c s n hie'"
      ]
     },
     "execution_count": 51,
     "metadata": {},
     "output_type": "execute_result"
    }
   ],
   "source": [
    "t = \"Ceci est une chaine\"\n",
    "t[2::2]"
   ]
  },
  {
   "cell_type": "code",
   "execution_count": 40,
   "id": "d07e5da3",
   "metadata": {},
   "outputs": [
    {
     "name": "stdout",
     "output_type": "stream",
     "text": [
      "his\n",
      "4\n",
      "Length of string is 4\n",
      "THIS\n",
      "this\n",
      "This\n",
      "This is another string\n",
      "That at a string\n",
      "8\n",
      "True\n",
      "True\n",
      "False\n",
      "This is a string too\n",
      "This This This \n"
     ]
    }
   ],
   "source": [
    "s1 = \"This\"\n",
    "\n",
    "print(s1[1:])                    # print last three characters \n",
    "print(len(s1))                               # get the string length\n",
    "print(\"Length of string is \" + str(len(s1))) # type casting int to str\n",
    "print(s1.upper())                            # convert to upper case\n",
    "print(s1.lower())                            # convert to lower case\n",
    "\n",
    "s2 = \"This is a string\"\n",
    "words = s2.split(' ')             # split the string into words\n",
    "print(words[0])\n",
    "print(s2.replace('a','another'))  # replace \"a\" with \"another\"\n",
    "print(s2.replace('is','at'))      # replace \"is\" with \"at\"\n",
    "print(s2.find(\"a\"))               # find the position of \"a\" in s2\n",
    "print(s1 in s2)                   # check if s1 is a substring of s2\n",
    "\n",
    "print(s1 == 'This')               # equality comparison\n",
    "print(s1 < 'That')                # inequality comparison\n",
    "print(s2 + \" too\")                # string concatenation\n",
    "print((s1 + \" \")* 3)              # replicate the string 3 times"
   ]
  },
  {
   "cell_type": "code",
   "execution_count": 57,
   "id": "d8d85ba7",
   "metadata": {},
   "outputs": [
    {
     "name": "stdout",
     "output_type": "stream",
     "text": [
      "ceci est un entier : 7, ceci est une chaine : This\n"
     ]
    },
    {
     "data": {
      "text/plain": [
       "'ceci est un entier : 7, ceci est une chaine : This'"
      ]
     },
     "execution_count": 57,
     "metadata": {},
     "output_type": "execute_result"
    }
   ],
   "source": [
    "print(\n",
    "    \"ceci est un entier : {}, ceci est une chaine : {}\".format(x, s1)\n",
    ")\n",
    "\"ceci est un entier : {mon_entier}, ceci est une chaine : {ma_chaine}\".format(mon_entier=x, ma_chaine=s1)"
   ]
  },
  {
   "cell_type": "markdown",
   "id": "282e952f",
   "metadata": {},
   "source": [
    "## 1.2 Types de données composés\n",
    "\n",
    "Les exemples suivants montrent comment créer et manipuler une **liste** d'objets :"
   ]
  },
  {
   "cell_type": "code",
   "execution_count": 58,
   "id": "a6e79f5b",
   "metadata": {},
   "outputs": [
    {
     "name": "stdout",
     "output_type": "stream",
     "text": [
      "<class 'list'>\n",
      "[1, 3, 5, 7, 9]\n",
      "[0, 2, 4, 6, 8]\n",
      "5\n",
      "[1, 3]\n",
      "[5, 7, 9]\n",
      "5\n",
      "25\n",
      "[1, 3, 5, 7, 9, 11]\n",
      "11\n",
      "[1, 3, 5, 7, 9]\n",
      "[1, 3, 5, 7, 9, 11, 13, 15]\n",
      "[1, 3, 5, 7, 9, 1, 3, 5, 7, 9, 1, 3, 5, 7, 9]\n",
      "[1, 3, 4, 5, 7, 9]\n",
      "[9, 7, 5, 4, 3, 1]\n"
     ]
    }
   ],
   "source": [
    "intlist = [1, 3, 5, 7, 9]\n",
    "print(type(intlist))\n",
    "print(intlist)\n",
    "intlist2 = list(range(0,10,2))   # range[startvalue, endvalue, stepsize]\n",
    "print(intlist2)\n",
    "\n",
    "print(intlist[2])                # get the third element of the list\n",
    "print(intlist[:2])               # get the first two elements\n",
    "print(intlist[2:])               # get the last three elements of the list\n",
    "print(len(intlist))              # get the number of elements in the list\n",
    "print(sum(intlist))              # sums up elements of the list\n",
    "\n",
    "intlist.append(11)               # insert 11 to end of the list\n",
    "print(intlist)\n",
    "print(intlist.pop())             # remove last element of the list\n",
    "print(intlist)\n",
    "print(intlist + [11,13,15])      # concatenate two lists\n",
    "print(intlist * 3)               # replicate the list\n",
    "intlist.insert(2,4)              # insert item 4 at index 2  \n",
    "print(intlist)\n",
    "intlist.sort(reverse=True)       # sort elements in descending order\n",
    "print(intlist)"
   ]
  },
  {
   "cell_type": "code",
   "execution_count": 59,
   "id": "b7324876",
   "metadata": {},
   "outputs": [
    {
     "data": {
      "text/plain": [
       "[9, 7, 5, 4, 3, 1]"
      ]
     },
     "execution_count": 59,
     "metadata": {},
     "output_type": "execute_result"
    }
   ],
   "source": [
    "intlist"
   ]
  },
  {
   "cell_type": "code",
   "execution_count": 60,
   "id": "87d74146",
   "metadata": {},
   "outputs": [
    {
     "name": "stdout",
     "output_type": "stream",
     "text": [
      "['this', 'is', 'a', 'list']\n",
      "<class 'list'>\n",
      "True\n",
      "a\n",
      "['this', 'is']\n",
      "['a', 'list']\n",
      "this is a list too\n",
      "['this', 'a', 'list', 'too']\n"
     ]
    }
   ],
   "source": [
    "mylist = ['this', 'is', 'a', 'list']\n",
    "print(mylist)\n",
    "print(type(mylist))\n",
    "\n",
    "print(\"list\" in mylist)          # check whether \"list\" is in mylist\n",
    "print(mylist[2])                 # show the 3rd element of the list\n",
    "print(mylist[:2])                # show the first two elements of the list\n",
    "print(mylist[2:])                # show the last two elements of the list\n",
    "mylist.append(\"too\")             # insert element to end of the list\n",
    "\n",
    "separator = \" \"\n",
    "print(separator.join(mylist))    # merge all elements of the list into a string\n",
    "\n",
    "mylist.remove(\"is\")              # remove element from list\n",
    "print(mylist)"
   ]
  },
  {
   "cell_type": "code",
   "execution_count": 62,
   "id": "e5382580",
   "metadata": {},
   "outputs": [
    {
     "data": {
      "text/plain": [
       "'s'"
      ]
     },
     "execution_count": 62,
     "metadata": {},
     "output_type": "execute_result"
    }
   ],
   "source": [
    "mylist[2][2]"
   ]
  },
  {
   "cell_type": "markdown",
   "id": "7d72ba59",
   "metadata": {},
   "source": [
    "La cellule suivante présente comment créer et manipuler un **dictionnaire** :"
   ]
  },
  {
   "cell_type": "code",
   "execution_count": 66,
   "id": "cb90b4ef",
   "metadata": {},
   "outputs": [
    {
     "name": "stdout",
     "output_type": "stream",
     "text": [
      "{'MI': 'Michigan', 'MN': 'Minnesota', 'TX': 'Texas', 'CA': 'California'}\n",
      "dict_keys(['MI', 'MN', 'TX', 'CA'])\n",
      "<class 'dict_keys'>\n",
      "dict_values(['Michigan', 'Minnesota', 'Texas', 'California'])\n",
      "4\n",
      "Michigan\n",
      "Michigan\n",
      "False\n",
      "True\n",
      "[('apples', 3), ('oranges', 4), ('bananas', 2), ('cherries', 10)]\n",
      "{'apples': 3, 'oranges': 4, 'bananas': 2, 'cherries': 10}\n",
      "['apples', 'bananas', 'cherries', 'oranges']\n",
      "[('apples', 3), ('bananas', 2), ('cherries', 10), ('oranges', 4)]\n",
      "[('bananas', 2), ('apples', 3), ('oranges', 4), ('cherries', 10)]\n"
     ]
    }
   ],
   "source": [
    "abbrev = {}\n",
    "abbrev['MI'] = \"Michigan\"\n",
    "abbrev['MN'] = \"Minnesota\"\n",
    "abbrev['TX'] = \"Texas\"\n",
    "abbrev['CA'] = \"California\"\n",
    "\n",
    "print(abbrev)\n",
    "print(abbrev.keys())            # get the keys of the dictionary\n",
    "print(type(abbrev.keys()))\n",
    "print(abbrev.values())          # get the values of the dictionary\n",
    "print(len(abbrev))              # get number of key-value pairs\n",
    "\n",
    "print(abbrev.get('MI'))\n",
    "print(abbrev['MI'])\n",
    "print(\"FL\" in abbrev)\n",
    "print(\"CA\" in abbrev)\n",
    "\n",
    "keys = ['apples', 'oranges', 'bananas', 'cherries']\n",
    "values = [3, 4, 2, 10]\n",
    "print(list(zip(keys, values)))\n",
    "fruits = dict(zip(keys, values))\n",
    "print(fruits)\n",
    "print(sorted(fruits))     # sort keys of dictionary\n",
    "\n",
    "from operator import itemgetter\n",
    "print(sorted(fruits.items(), key=itemgetter(0)))    # sort by key of dictionary\n",
    "print(sorted(fruits.items(), key=itemgetter(1)))    # sort by value of dictionary"
   ]
  },
  {
   "cell_type": "code",
   "execution_count": 81,
   "id": "5e3373c5",
   "metadata": {},
   "outputs": [
    {
     "data": {
      "text/plain": [
       "(42, 35, ['this', 'ok', 'list', 'too'])"
      ]
     },
     "execution_count": 81,
     "metadata": {},
     "output_type": "execute_result"
    }
   ],
   "source": [
    "list(abbrev.keys())[0]\n",
    "tuple1 = (42, 35, mylist)\n",
    "tuple1[2][1] = 'ok'\n",
    "tuple1"
   ]
  },
  {
   "cell_type": "markdown",
   "id": "b50d3b2f",
   "metadata": {},
   "source": [
    "## 1.3 Structure de contrôle\n",
    "\n",
    "Comme les autres langages, Python inclus les instructions `if`, `for` et `while`:"
   ]
  },
  {
   "cell_type": "code",
   "execution_count": null,
   "id": "205784a5",
   "metadata": {},
   "outputs": [],
   "source": [
    "# using if-else statement\n",
    "\n",
    "x = 10\n",
    "\n",
    "if x % 2 == 0:\n",
    "    print(\"x =\", x, \"is even\")\n",
    "else:\n",
    "    print(\"x =\", x, \"is odd\")\n",
    "\n",
    "if x > 0:\n",
    "    print(\"x =\", x, \"is positive\")\n",
    "elif x < 0:\n",
    "    print(\"x =\", x, \"is negative\")\n",
    "else:\n",
    "    print(\"x =\", x, \"is neither positive nor negative\")"
   ]
  },
  {
   "cell_type": "code",
   "execution_count": null,
   "id": "ce7f21a2",
   "metadata": {},
   "outputs": [],
   "source": [
    "# using for loop with a list\n",
    "\n",
    "mylist = ['this', 'is', 'a', 'list']\n",
    "for word in mylist:\n",
    "    print(word.replace(\"is\", \"at\"))\n",
    "\n",
    "# number of characters in each word\n",
    "mylist2 = []\n",
    "for word in mylist:\n",
    "    mylist2.append(len(word))\n",
    "print(mylist2)\n",
    "mylist2 = [len(word) for word in mylist]   # same with list comprehension syntax\n",
    "print(mylist2)\n",
    "\n",
    "# using for loop with list of tuples\n",
    "\n",
    "states = [\n",
    "    ('MI', 'Michigan', 'Lansing'),\n",
    "    ('CA', 'California', 'Sacramento'),\n",
    "    ('TX', 'Texas', 'Austin')\n",
    "]\n",
    "\n",
    "sorted_capitals = [state[2] for state in states]\n",
    "sorted_capitals.sort()\n",
    "print(sorted_capitals)\n",
    "\n",
    "# using for loop with dictionary\n",
    "\n",
    "fruits = {'apples': 3, 'oranges': 4, 'bananas': 2, 'cherries': 10}\n",
    "fruitnames = [k for (k,v) in fruits.items()]\n",
    "print(fruitnames)"
   ]
  },
  {
   "cell_type": "code",
   "execution_count": 90,
   "id": "94ba89bd",
   "metadata": {},
   "outputs": [
    {
     "name": "stdout",
     "output_type": "stream",
     "text": [
      "{'apples': 3, 'oranges': 4, 'bananas': 2, 'cherries': 10}\n",
      "apples 3\n",
      "oranges 4\n",
      "bananas 2\n",
      "cherries 10\n",
      "\n",
      "apples 3\n",
      "oranges 4\n",
      "bananas 2\n",
      "cherries 10\n",
      "\n",
      "('apples', 3) apples\n",
      "('oranges', 4) oranges\n",
      "('bananas', 2) bananas\n",
      "('cherries', 10) cherries\n"
     ]
    }
   ],
   "source": [
    "print(fruits)\n",
    "for f in fruits:\n",
    "    print(f, fruits[f])\n",
    "print(\"\")\n",
    "for (k, v) in fruits.items():\n",
    "    print(k, v)\n",
    "print(\"\")\n",
    "for truc in fruits.items():\n",
    "    print(truc, truc[0])"
   ]
  },
  {
   "cell_type": "code",
   "execution_count": 91,
   "id": "dd089a4c",
   "metadata": {},
   "outputs": [
    {
     "name": "stdout",
     "output_type": "stream",
     "text": [
      "[-10, -9, -8, -7, -6, -5, -4, -3, -2, -1, 0, 1, 2, 3, 4, 5, 6, 7, 8, 9]\n",
      "First non-negative number: 0\n"
     ]
    }
   ],
   "source": [
    "# using while loop\n",
    "\n",
    "mylist = list(range(-10,10))\n",
    "print(mylist)\n",
    "\n",
    "i = 0\n",
    "while (mylist[i] < 0):\n",
    "    i = i + 1\n",
    "    \n",
    "print(\"First non-negative number:\", mylist[i])"
   ]
  },
  {
   "cell_type": "code",
   "execution_count": 97,
   "id": "4c2744ae",
   "metadata": {},
   "outputs": [
    {
     "name": "stdout",
     "output_type": "stream",
     "text": [
      "CPU times: user 5 µs, sys: 0 ns, total: 5 µs\n",
      "Wall time: 7.39 µs\n"
     ]
    },
    {
     "data": {
      "text/plain": [
       "0"
      ]
     },
     "execution_count": 97,
     "metadata": {},
     "output_type": "execute_result"
    }
   ],
   "source": [
    "%%time\n",
    "[m for m in mylist if m >= 0][0]"
   ]
  },
  {
   "cell_type": "markdown",
   "id": "f10fb3b1",
   "metadata": {},
   "source": [
    "## 1.4 Fonctions\n",
    "\n",
    "Les fonctions en Python peuvent être nommées ou non. Les fonctions non nommées sont créées en utilisant le mot clef `lambda`."
   ]
  },
  {
   "cell_type": "code",
   "execution_count": 103,
   "id": "02e77270",
   "metadata": {},
   "outputs": [
    {
     "name": "stdout",
     "output_type": "stream",
     "text": [
      "11\n"
     ]
    }
   ],
   "source": [
    "myfunc = lambda x, y=42: 3*x**2 - 2*x + 3      # example of an unnamed quadratic function\n",
    "\n",
    "print(myfunc(2))"
   ]
  },
  {
   "cell_type": "code",
   "execution_count": 105,
   "id": "dbd70d54",
   "metadata": {},
   "outputs": [
    {
     "ename": "TypeError",
     "evalue": "must be real number, not str",
     "output_type": "error",
     "traceback": [
      "\u001b[0;31m---------------------------------------------------------------------------\u001b[0m",
      "\u001b[0;31mTypeError\u001b[0m                                 Traceback (most recent call last)",
      "\u001b[0;32m<ipython-input-105-7b86297f5570>\u001b[0m in \u001b[0;36m<module>\u001b[0;34m\u001b[0m\n\u001b[1;32m     14\u001b[0m \u001b[0mmylist\u001b[0m \u001b[0;34m=\u001b[0m \u001b[0;34m[\u001b[0m\u001b[0;36m12\u001b[0m\u001b[0;34m,\u001b[0m \u001b[0;34m''\u001b[0m\u001b[0;34m,\u001b[0m \u001b[0;36m23\u001b[0m\u001b[0;34m,\u001b[0m \u001b[0;34m-\u001b[0m\u001b[0;36m11\u001b[0m\u001b[0;34m,\u001b[0m \u001b[0;36m45\u001b[0m\u001b[0;34m,\u001b[0m \u001b[0mmath\u001b[0m\u001b[0;34m.\u001b[0m\u001b[0mnan\u001b[0m\u001b[0;34m,\u001b[0m \u001b[0;36m71\u001b[0m\u001b[0;34m]\u001b[0m\u001b[0;34m\u001b[0m\u001b[0;34m\u001b[0m\u001b[0m\n\u001b[1;32m     15\u001b[0m \u001b[0;34m\u001b[0m\u001b[0m\n\u001b[0;32m---> 16\u001b[0;31m \u001b[0mprint\u001b[0m\u001b[0;34m(\u001b[0m\u001b[0mdiscard\u001b[0m\u001b[0;34m(\u001b[0m\u001b[0mmylist\u001b[0m\u001b[0;34m,\u001b[0m\u001b[0;32mTrue\u001b[0m\u001b[0;34m)\u001b[0m\u001b[0;34m)\u001b[0m\u001b[0;34m\u001b[0m\u001b[0;34m\u001b[0m\u001b[0m\n\u001b[0m",
      "\u001b[0;32m<ipython-input-105-7b86297f5570>\u001b[0m in \u001b[0;36mdiscard\u001b[0;34m(inlist, sortFlag)\u001b[0m\n\u001b[1;32m      5\u001b[0m     \u001b[0moutlist\u001b[0m \u001b[0;34m=\u001b[0m \u001b[0;34m[\u001b[0m\u001b[0;34m]\u001b[0m\u001b[0;34m\u001b[0m\u001b[0;34m\u001b[0m\u001b[0m\n\u001b[1;32m      6\u001b[0m     \u001b[0;32mfor\u001b[0m \u001b[0mitem\u001b[0m \u001b[0;32min\u001b[0m \u001b[0minlist\u001b[0m\u001b[0;34m:\u001b[0m\u001b[0;34m\u001b[0m\u001b[0;34m\u001b[0m\u001b[0m\n\u001b[0;32m----> 7\u001b[0;31m         \u001b[0;32mif\u001b[0m \u001b[0;32mnot\u001b[0m \u001b[0mmath\u001b[0m\u001b[0;34m.\u001b[0m\u001b[0misnan\u001b[0m\u001b[0;34m(\u001b[0m\u001b[0mitem\u001b[0m\u001b[0;34m)\u001b[0m\u001b[0;34m:\u001b[0m\u001b[0;34m\u001b[0m\u001b[0;34m\u001b[0m\u001b[0m\n\u001b[0m\u001b[1;32m      8\u001b[0m             \u001b[0moutlist\u001b[0m\u001b[0;34m.\u001b[0m\u001b[0mappend\u001b[0m\u001b[0;34m(\u001b[0m\u001b[0mitem\u001b[0m\u001b[0;34m)\u001b[0m\u001b[0;34m\u001b[0m\u001b[0;34m\u001b[0m\u001b[0m\n\u001b[1;32m      9\u001b[0m     \u001b[0moutlist\u001b[0m \u001b[0;34m=\u001b[0m \u001b[0;34m[\u001b[0m\u001b[0mitem\u001b[0m \u001b[0;32mfor\u001b[0m \u001b[0mitem\u001b[0m \u001b[0;32min\u001b[0m \u001b[0minlist\u001b[0m \u001b[0;32mif\u001b[0m \u001b[0;32mnot\u001b[0m \u001b[0mmath\u001b[0m\u001b[0;34m.\u001b[0m\u001b[0misnan\u001b[0m\u001b[0;34m(\u001b[0m\u001b[0mitem\u001b[0m\u001b[0;34m)\u001b[0m\u001b[0;34m]\u001b[0m    \u001b[0;31m# equivalent with list comprehension\u001b[0m\u001b[0;34m\u001b[0m\u001b[0;34m\u001b[0m\u001b[0m\n",
      "\u001b[0;31mTypeError\u001b[0m: must be real number, not str"
     ]
    }
   ],
   "source": [
    "import math\n",
    "\n",
    "# The following function will discard missing values from a list\n",
    "def discard(inlist, sortFlag=False):    # default value for sortFlag is False \n",
    "    outlist = []\n",
    "    for item in inlist:\n",
    "        if not math.isnan(item):\n",
    "            outlist.append(item)\n",
    "    outlist = [item for item in inlist if not math.isnan(item)]    # equivalent with list comprehension\n",
    "    if sortFlag:\n",
    "        outlist.sort()\n",
    "    return outlist\n",
    "\n",
    "mylist = [12, '', 23, -11, 45, math.nan, 71]\n",
    "\n",
    "print(discard(mylist,True))"
   ]
  },
  {
   "cell_type": "code",
   "execution_count": 99,
   "id": "503970bb",
   "metadata": {},
   "outputs": [
    {
     "name": "stdout",
     "output_type": "stream",
     "text": [
      "[-11, 12, 23, 45, 71]\n"
     ]
    }
   ],
   "source": [
    "print(discard(sortFlag=True, inlist=mylist))"
   ]
  },
  {
   "cell_type": "markdown",
   "id": "aad21ac5",
   "metadata": {},
   "source": [
    "## 1.5 Lecture écriture de fichier\n",
    "\n",
    "\n",
    "L'écriture et la lecture de fichier en Python se fait comme suit :"
   ]
  },
  {
   "cell_type": "code",
   "execution_count": 110,
   "id": "66735e38",
   "metadata": {},
   "outputs": [
    {
     "name": "stdout",
     "output_type": "stream",
     "text": [
      "State= Michigan ( MI ) Capital: Lansing\n",
      "State= California ( CA ) Capital: Sacramento\n",
      "State= Texas ( TX ) Capital: Austin\n",
      "State= Minnesota ( MN ) Capital: St Paul\n"
     ]
    },
    {
     "data": {
      "text/plain": [
       "[('MI', 'Michigan', 'Lansing'),\n",
       " ('CA', 'California', 'Sacramento'),\n",
       " ('TX', 'Texas', 'Austin'),\n",
       " ('MN', 'Minnesota', 'St Paul')]"
      ]
     },
     "execution_count": 110,
     "metadata": {},
     "output_type": "execute_result"
    }
   ],
   "source": [
    "states = [('MI', 'Michigan', 'Lansing'),('CA', 'California', 'Sacramento'),\n",
    "          ('TX', 'Texas', 'Austin'), ('MN', 'Minnesota', 'St Paul')]\n",
    "\n",
    "with open('states.txt', 'w') as f:\n",
    "    f.write('\\n'.join('%s,%s,%s' % state for state in states))\n",
    "\n",
    "states_read = []\n",
    "with open('states.txt', 'r') as f:\n",
    "    for line in f:\n",
    "        fields = line.strip().split(sep=',')    # split each line into its respective fields\n",
    "        print('State=',fields[1],'(',fields[0],')','Capital:', fields[2])\n",
    "        states_read.append((fields[0], fields[1], fields[2]))\n",
    "states_read"
   ]
  },
  {
   "cell_type": "code",
   "execution_count": 115,
   "id": "480eb3d7",
   "metadata": {},
   "outputs": [
    {
     "name": "stdout",
     "output_type": "stream",
     "text": [
      "Make,Model,Vehicle Class,Engine Size(L),Cylinders,Transmission,Fuel Type,Fuel Consumption City (L/100 km),Fuel Consumption Hwy (L/100 km),Fuel Consumption Comb (L/100 km),Fuel Consumption Comb (mpg),CO2 Emissions(g/km)\r",
      "\r\n",
      "ACURA,ILX,COMPACT,2,4,AS5,Z,9.9,6.7,8.5,33,196\r",
      "\r\n",
      "ACURA,ILX,COMPACT,2.4,4,M6,Z,11.2,7.7,9.6,29,221\r",
      "\r\n",
      "ACURA,ILX HYBRID,COMPACT,1.5,4,AV7,Z,6,5.8,5.9,48,136\r",
      "\r\n",
      "ACURA,MDX 4WD,SUV - SMALL,3.5,6,AS6,Z,12.7,9.1,11.1,25,255\r",
      "\r\n",
      "ACURA,RDX AWD,SUV - SMALL,3.5,6,AS6,Z,12.1,8.7,10.6,27,244\r",
      "\r\n",
      "ACURA,RLX,MID-SIZE,3.5,6,AS6,Z,11.9,7.7,10,28,230\r",
      "\r\n",
      "ACURA,TL,MID-SIZE,3.5,6,AS6,Z,11.8,8.1,10.1,28,232\r",
      "\r\n",
      "ACURA,TL AWD,MID-SIZE,3.7,6,AS6,Z,12.8,9,11.1,25,255\r",
      "\r\n",
      "ACURA,TL AWD,MID-SIZE,3.7,6,M6,Z,13.4,9.5,11.6,24,267\r",
      "\r\n"
     ]
    }
   ],
   "source": [
    "!head 'CO2_Emissions_Canada.csv'"
   ]
  },
  {
   "cell_type": "markdown",
   "id": "3f300a88",
   "metadata": {},
   "source": [
    "## 1.6 Excercices\n",
    "\n",
    "I. Lisez le fichier `CO2 Emissions_Canada.csv`, stockez les données dans une liste et répondez aux questions suivantes :\n",
    "* Combien de ligne le fichier contient-il ?\n",
    "* Quel est le CO2 maximum émis par km par un véhicule ? (et quel est ce véhicule ?)\n",
    "* Combien de CO2 les véhicules émettent en moyenne ?\n",
    "\n",
    "Attention :\n",
    "* Il est nécessaire de transformer les types des données lues en entier avec l'instruction `int(variable)`\n",
    "* La première ligne du CSV contient l'en-tête des colonnes, pensez à l'enlever de la liste avant analyse"
   ]
  },
  {
   "cell_type": "code",
   "execution_count": null,
   "id": "d50e6328",
   "metadata": {},
   "outputs": [],
   "source": []
  },
  {
   "cell_type": "markdown",
   "id": "b4f091ca",
   "metadata": {},
   "source": [
    "II. La cellule suivante contient une liste d'objets (oiseaux, tables ... peu importe quoi) à différents lieux. Répondez aux questions suivantes :\n",
    "* Combien y a-t'il de lieux ?\n",
    "* Combien y a-t'il d'objets sur 7ème lieu ? et sur le dernier lieu ?\n",
    "* Combien y a-t'il d'objets au total ?\n",
    "* Quel est le nombre moyen d'objets par lieu ?\n",
    "* Combien y a-t'il d'objets pour les lieux commencant par la lettre C ?"
   ]
  },
  {
   "cell_type": "code",
   "execution_count": 2,
   "id": "3c3e52ce",
   "metadata": {},
   "outputs": [],
   "source": [
    "data = [\n",
    "    ['A1', 28], ['A2', 32], ['A3', 1], ['A4', 0],\n",
    "    ['A5', 10], ['A6', 22], ['A7', 30], ['A8', 19],\n",
    "    ['B1', 145], ['B2', 27], ['B3', 36], ['B4', 25],\n",
    "    ['B5', 9], ['B6', 38], ['B7', 21], ['B8', 12],\n",
    "    ['C1', 122], ['C2', 87], ['C3', 36], ['C4', 3],\n",
    "    ['D1', 0], ['D2', 5], ['D3', 55], ['D4', 62],\n",
    "    ['D5', 98], ['D6', 32]\n",
    "]"
   ]
  },
  {
   "cell_type": "code",
   "execution_count": 3,
   "id": "696d2960",
   "metadata": {},
   "outputs": [
    {
     "data": {
      "text/plain": [
       "26"
      ]
     },
     "execution_count": 3,
     "metadata": {},
     "output_type": "execute_result"
    }
   ],
   "source": [
    "len(data)"
   ]
  },
  {
   "cell_type": "code",
   "execution_count": 5,
   "id": "86cefadd",
   "metadata": {},
   "outputs": [
    {
     "data": {
      "text/plain": [
       "30"
      ]
     },
     "execution_count": 5,
     "metadata": {},
     "output_type": "execute_result"
    }
   ],
   "source": [
    "data[6][1]"
   ]
  },
  {
   "cell_type": "code",
   "execution_count": 7,
   "id": "3d790b08",
   "metadata": {},
   "outputs": [
    {
     "data": {
      "text/plain": [
       "32"
      ]
     },
     "execution_count": 7,
     "metadata": {},
     "output_type": "execute_result"
    }
   ],
   "source": [
    "data[-1][1]"
   ]
  },
  {
   "cell_type": "code",
   "execution_count": 10,
   "id": "ff6ee2a7",
   "metadata": {},
   "outputs": [
    {
     "data": {
      "text/plain": [
       "955"
      ]
     },
     "execution_count": 10,
     "metadata": {},
     "output_type": "execute_result"
    }
   ],
   "source": [
    "acc = 0\n",
    "for e in data:\n",
    "    acc += e[1]\n",
    "acc"
   ]
  },
  {
   "cell_type": "code",
   "execution_count": 12,
   "id": "1bb65ff6",
   "metadata": {},
   "outputs": [
    {
     "data": {
      "text/plain": [
       "955"
      ]
     },
     "execution_count": 12,
     "metadata": {},
     "output_type": "execute_result"
    }
   ],
   "source": [
    "sum([e[1] for e in data])"
   ]
  },
  {
   "cell_type": "code",
   "execution_count": 13,
   "id": "839c4fd2",
   "metadata": {},
   "outputs": [
    {
     "data": {
      "text/plain": [
       "36.73076923076923"
      ]
     },
     "execution_count": 13,
     "metadata": {},
     "output_type": "execute_result"
    }
   ],
   "source": [
    "sum([e[1] for e in data]) / len(data)"
   ]
  },
  {
   "cell_type": "code",
   "execution_count": 16,
   "id": "299c31ce",
   "metadata": {},
   "outputs": [
    {
     "data": {
      "text/plain": [
       "[['C1', 122], ['C2', 87], ['C3', 36], ['C4', 3]]"
      ]
     },
     "execution_count": 16,
     "metadata": {},
     "output_type": "execute_result"
    }
   ],
   "source": [
    "e_C = []\n",
    "for e in data:\n",
    "    #if e[0][0] == 'C':\n",
    "    if e[0].find('C') > -1:\n",
    "        e_C.append(e)\n",
    "e_C"
   ]
  },
  {
   "cell_type": "code",
   "execution_count": 15,
   "id": "bd392565",
   "metadata": {},
   "outputs": [
    {
     "data": {
      "text/plain": [
       "248"
      ]
     },
     "execution_count": 15,
     "metadata": {},
     "output_type": "execute_result"
    }
   ],
   "source": [
    "sum([e[1] for e in e_C])"
   ]
  },
  {
   "cell_type": "code",
   "execution_count": 25,
   "id": "04c3137c",
   "metadata": {},
   "outputs": [
    {
     "data": {
      "text/plain": [
       "248"
      ]
     },
     "execution_count": 25,
     "metadata": {},
     "output_type": "execute_result"
    }
   ],
   "source": [
    "sum([e[1] for e in data if e[0].find('C') > -1])"
   ]
  },
  {
   "cell_type": "code",
   "execution_count": 28,
   "id": "6024d378",
   "metadata": {},
   "outputs": [
    {
     "data": {
      "text/plain": [
       "[['B1', 145], ['C1', 122]]"
      ]
     },
     "execution_count": 28,
     "metadata": {},
     "output_type": "execute_result"
    }
   ],
   "source": [
    "[e for e in data if e[1] >= 100]"
   ]
  },
  {
   "cell_type": "code",
   "execution_count": null,
   "id": "55e1b739",
   "metadata": {},
   "outputs": [],
   "source": [
    "\n"
   ]
  }
 ],
 "metadata": {
  "kernelspec": {
   "display_name": "Python 3",
   "language": "python",
   "name": "python3"
  },
  "language_info": {
   "codemirror_mode": {
    "name": "ipython",
    "version": 3
   },
   "file_extension": ".py",
   "mimetype": "text/x-python",
   "name": "python",
   "nbconvert_exporter": "python",
   "pygments_lexer": "ipython3",
   "version": "3.8.8"
  }
 },
 "nbformat": 4,
 "nbformat_minor": 5
}
