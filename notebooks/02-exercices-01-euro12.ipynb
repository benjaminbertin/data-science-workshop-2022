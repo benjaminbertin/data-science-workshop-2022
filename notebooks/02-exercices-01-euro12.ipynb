{
 "cells": [
  {
   "cell_type": "markdown",
   "id": "ace2fb36",
   "metadata": {},
   "source": [
    "# Statistiques de l'Euro 2012\n",
    "\n",
    "Dans ce notebook, nous allons analyser quelques statistiques des équipes de l'Euro 2012."
   ]
  },
  {
   "cell_type": "code",
   "execution_count": null,
   "id": "50c8aab4",
   "metadata": {},
   "outputs": [],
   "source": [
    "import pandas as pd"
   ]
  },
  {
   "cell_type": "markdown",
   "id": "a53e129d",
   "metadata": {},
   "source": [
    "### Chargez le dataset `Euro_2012_stats_TEAM.csv` dans une DataFrame"
   ]
  },
  {
   "cell_type": "code",
   "execution_count": null,
   "id": "89052a71",
   "metadata": {},
   "outputs": [],
   "source": []
  },
  {
   "cell_type": "markdown",
   "id": "1e134e23",
   "metadata": {},
   "source": [
    "### Combien d'équipes ont participées à l'Euro 2012 ?"
   ]
  },
  {
   "cell_type": "code",
   "execution_count": null,
   "id": "d84f5ba1",
   "metadata": {},
   "outputs": [],
   "source": []
  },
  {
   "cell_type": "markdown",
   "id": "dfc16ca8",
   "metadata": {},
   "source": [
    "### Combien de colonnes y a-t'il dans ce dataset ? Existe-t'il des valeurs manquantes ?\n",
    "\n",
    "Indice : [`pandas.DataFrame.info`\n",
    "](https://pandas.pydata.org/docs/reference/api/pandas.DataFrame.info.html)"
   ]
  },
  {
   "cell_type": "code",
   "execution_count": null,
   "id": "9a7419cd",
   "metadata": {},
   "outputs": [],
   "source": []
  },
  {
   "cell_type": "markdown",
   "id": "497a801f",
   "metadata": {},
   "source": [
    "### Créez une DataFrame ne contenant que les colonnes `Red Cards` et `Yellow Cards` que vous nommerez `discipline` puis affichez la"
   ]
  },
  {
   "cell_type": "code",
   "execution_count": null,
   "id": "a14d50ac",
   "metadata": {},
   "outputs": [],
   "source": []
  },
  {
   "cell_type": "markdown",
   "id": "8567164d",
   "metadata": {},
   "source": [
    "### Triez les équipes par nombre de cartons rouges puis de cartons jaunes"
   ]
  },
  {
   "cell_type": "code",
   "execution_count": null,
   "id": "72a636a3",
   "metadata": {},
   "outputs": [],
   "source": []
  },
  {
   "cell_type": "markdown",
   "id": "934e2ad8",
   "metadata": {},
   "source": [
    "### Calculez la moyenne de cartons jaunes par équipes"
   ]
  },
  {
   "cell_type": "code",
   "execution_count": null,
   "id": "ed82cdc0",
   "metadata": {},
   "outputs": [],
   "source": []
  },
  {
   "cell_type": "markdown",
   "id": "a193047b",
   "metadata": {},
   "source": [
    "### Filtrez le dataset pour afficher les équipes qui ont marquées plus de 6 fois (colonne `Goals`)"
   ]
  },
  {
   "cell_type": "code",
   "execution_count": null,
   "id": "d2c7c99d",
   "metadata": {},
   "outputs": [],
   "source": []
  },
  {
   "cell_type": "markdown",
   "id": "aa4f5b01",
   "metadata": {},
   "source": [
    "### Filtrez le dataset pour afficher les équipes dont le nom commence par la lettre `G`\n",
    "\n",
    "Indice : [`pandas.Series.str.startswith`\n",
    "](https://pandas.pydata.org/docs/reference/api/pandas.Series.str.startswith.html)"
   ]
  },
  {
   "cell_type": "code",
   "execution_count": null,
   "id": "54d47f3b",
   "metadata": {},
   "outputs": [],
   "source": []
  },
  {
   "cell_type": "markdown",
   "id": "ee9bc237",
   "metadata": {},
   "source": [
    "### Affichez les 7 premières colonnes\n",
    "\n",
    "Indice : [`pandas.DataFrame.iloc`\n",
    "](https://pandas.pydata.org/docs/reference/api/pandas.DataFrame.iloc.html)"
   ]
  },
  {
   "cell_type": "code",
   "execution_count": null,
   "id": "6833c256",
   "metadata": {},
   "outputs": [],
   "source": []
  },
  {
   "cell_type": "markdown",
   "id": "ad9cd17a",
   "metadata": {},
   "source": [
    "### Affichez toutes les colonnes sauf les 3 dernières\n",
    "\n",
    "Indice : en Python, les valeurs négatives sont possibles pour le slicing, il en va de même pour [`pandas.DataFrame.iloc`\n",
    "](https://pandas.pydata.org/docs/reference/api/pandas.DataFrame.iloc.html)"
   ]
  },
  {
   "cell_type": "code",
   "execution_count": null,
   "id": "613228d7",
   "metadata": {},
   "outputs": [],
   "source": []
  },
  {
   "cell_type": "markdown",
   "id": "df9de0b5",
   "metadata": {},
   "source": [
    "### Affichez uniquement la précision de tir (colonne `Shooting Accuracy`) pour l'Angleterre, l'Italie et la Russie\n",
    "\n",
    "Indice : [`pandas.DataFrame.isin`](https://pandas.pydata.org/docs/reference/api/pandas.DataFrame.isin.html)"
   ]
  },
  {
   "cell_type": "code",
   "execution_count": null,
   "id": "74839f5d",
   "metadata": {},
   "outputs": [],
   "source": []
  }
 ],
 "metadata": {
  "kernelspec": {
   "display_name": "Python 3",
   "language": "python",
   "name": "python3"
  },
  "language_info": {
   "codemirror_mode": {
    "name": "ipython",
    "version": 3
   },
   "file_extension": ".py",
   "mimetype": "text/x-python",
   "name": "python",
   "nbconvert_exporter": "python",
   "pygments_lexer": "ipython3",
   "version": "3.8.8"
  }
 },
 "nbformat": 4,
 "nbformat_minor": 5
}
