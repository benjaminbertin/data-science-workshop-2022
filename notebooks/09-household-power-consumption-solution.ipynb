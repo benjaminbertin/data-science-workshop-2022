{
 "cells": [
  {
   "cell_type": "markdown",
   "id": "f78b3d2a",
   "metadata": {},
   "source": [
    "# 9. Household power consumption\n",
    "\n",
    "Dans ce notebook nous étudions la pertinence du clustering sur une série temporelle de consommation d'électricité d'un foyer. Le dataset étudié contient la consommation en électricité d'un foyer toutes les minutes de 2006 à 2010."
   ]
  },
  {
   "cell_type": "code",
   "execution_count": null,
   "id": "051f3161",
   "metadata": {},
   "outputs": [],
   "source": [
    "import pandas as pd\n",
    "import numpy as np\n",
    "\n",
    "import matplotlib.pyplot as plt\n",
    "%matplotlib inline"
   ]
  },
  {
   "cell_type": "markdown",
   "id": "23babf35",
   "metadata": {},
   "source": [
    "## 9.1 Chargement du dataset\n",
    "\n",
    "Chargez le dataset `data/household_power_consumption` puis affichez quelques lignes et caractéristiques.\n",
    "\n",
    "Note : transformez le type de donnée de l'index (`df.index`) de la DataFrame en une date avec la méthode [`pandas.to_datetime`](https://pandas.pydata.org/docs/reference/api/pandas.to_datetime.html)."
   ]
  },
  {
   "cell_type": "code",
   "execution_count": null,
   "id": "4e364273",
   "metadata": {},
   "outputs": [],
   "source": [
    "dataset_url = '/data/household_power_consumption.csv'\n",
    "df = pd.read_csv(dataset_url, index_col=0)\n",
    "df.index = pd.to_datetime(df.index)\n",
    "print(df.shape)\n",
    "df.head()"
   ]
  },
  {
   "cell_type": "code",
   "execution_count": null,
   "id": "fb20bd4d",
   "metadata": {},
   "outputs": [],
   "source": [
    "df.tail()"
   ]
  },
  {
   "cell_type": "code",
   "execution_count": null,
   "id": "cbd1d797",
   "metadata": {},
   "outputs": [],
   "source": [
    "df.info()"
   ]
  },
  {
   "cell_type": "code",
   "execution_count": null,
   "id": "514ac397",
   "metadata": {},
   "outputs": [],
   "source": [
    "df.describe()"
   ]
  },
  {
   "cell_type": "markdown",
   "id": "1b9c223b",
   "metadata": {},
   "source": [
    "Vérifiez si ce dataset contient des valeurs manquantes. Et si oui, remplacez ces valeurs manquantes avecc la fonction [`fillna`](https://pandas.pydata.org/pandas-docs/stable/reference/api/pandas.DataFrame.fillna.html) avec le paramètre `method='bfill'` pour reprendre la dernière valeur horaire présente avant la valeur manquante (une méthode plus élaboré reposant sur une interpolation serait probablement utile, il faudrait aussi probablement analyser la répartition de ces valeurs manquantes comme par exemple analyser la durée des plages manquantes)."
   ]
  },
  {
   "cell_type": "code",
   "execution_count": null,
   "id": "2d0b2648",
   "metadata": {},
   "outputs": [],
   "source": [
    "df[df.Global_active_power.isna()]"
   ]
  },
  {
   "cell_type": "code",
   "execution_count": null,
   "id": "39c404ae",
   "metadata": {},
   "outputs": [],
   "source": [
    "df = df.fillna(method='bfill')"
   ]
  },
  {
   "cell_type": "markdown",
   "id": "7dac07f2",
   "metadata": {},
   "source": [
    "## 9.2 Transformation du dataset"
   ]
  },
  {
   "cell_type": "markdown",
   "id": "cb28f64f",
   "metadata": {},
   "source": [
    "L'objectif que nous nous fixons est de vérifier si nous pouvons mettre en évidence des profils de consommation quotidien.\n",
    "\n",
    "Commencez par créer une nouvelle dataframe nommée `df_hourly` contenant la somme des consommations par heure avec la méthode [`resample`](https://pandas.pydata.org/pandas-docs/stable/reference/api/pandas.DataFrame.resample.html) en précisant le paramètre `H`. Appliquez ensuite la méthode `sum` à la suite du resample pour calculer la consommation horaire. Puis affichez un extrait de cette nouvelle dataframe."
   ]
  },
  {
   "cell_type": "code",
   "execution_count": null,
   "id": "afd59208",
   "metadata": {},
   "outputs": [],
   "source": [
    "df_hourly = df.resample('H').sum()"
   ]
  },
  {
   "cell_type": "code",
   "execution_count": null,
   "id": "95b4cffe",
   "metadata": {},
   "outputs": [],
   "source": [
    "df_hourly.head()"
   ]
  },
  {
   "cell_type": "markdown",
   "id": "19ecb2eb",
   "metadata": {},
   "source": [
    "Transformez la dataframe de consommation horaire pour que son index ne soit plus que la date du jour et qu'elle possède une colonne indiquant l'heure. Vous pouvez vous aider de la documentation sur les [`DatetimeIndex`](https://pandas.pydata.org/docs/reference/api/pandas.DatetimeIndex.html)."
   ]
  },
  {
   "cell_type": "code",
   "execution_count": null,
   "id": "ed6c94bd",
   "metadata": {},
   "outputs": [],
   "source": [
    "df_hourly['hour'] = df_hourly.index.hour\n",
    "df_hourly.index = df_hourly.index.date\n",
    "df_hourly"
   ]
  },
  {
   "cell_type": "markdown",
   "id": "d9e890a8",
   "metadata": {},
   "source": [
    "Enfin, appliquez la méthode `pivot` sur cette dataframe avec comme paramètre `columns='hour'`. Stockez le résultat dans une variable `df_pivot`. A quoi correspond cette nouvelle dataframe ?"
   ]
  },
  {
   "cell_type": "code",
   "execution_count": null,
   "id": "cf6d10d8",
   "metadata": {},
   "outputs": [],
   "source": [
    "df_pivot = df_hourly.pivot(columns='hour')\n",
    "df_pivot.head()"
   ]
  },
  {
   "cell_type": "markdown",
   "id": "679205ce",
   "metadata": {},
   "source": [
    "Les colonnes de cette dataframe sont un [multi-index](https://pandas.pydata.org/docs/user_guide/advanced.html) qui sera génant pour l'affichage. Transformez les colonnes pour ne conserver que les heures (sans le premier niveau de l'index qui n'indique que `Global_active_power`) en utilisant la méthode [`get_level_values`](https://pandas.pydata.org/docs/reference/api/pandas.Index.get_level_values.html) sur l'attribut `columns` de votre dataframe pivot (n'oubliez pas d'écraser l'atttribut `columns` avec le résultat de cette opération) :"
   ]
  },
  {
   "cell_type": "code",
   "execution_count": null,
   "id": "e70bd2e6",
   "metadata": {},
   "outputs": [],
   "source": [
    "df_pivot.columns = df_pivot.columns.get_level_values(1)\n",
    "df_pivot.head()"
   ]
  },
  {
   "cell_type": "markdown",
   "id": "3f94b1cd",
   "metadata": {},
   "source": [
    "Est-ce que cette nouvelle dataframe contient des valeurs manquantes ? Si oui, pourquoi et que devriez-vous faire ?"
   ]
  },
  {
   "cell_type": "code",
   "execution_count": null,
   "id": "cd4ac123",
   "metadata": {
    "scrolled": true
   },
   "outputs": [],
   "source": [
    "df_pivot[df_pivot.isna().any(axis='columns')]"
   ]
  },
  {
   "cell_type": "markdown",
   "id": "e02a804d",
   "metadata": {},
   "source": [
    "Ces valeurs manquantes correspondant au premier jour des mesures, nous pouvons supprimer ce jour :"
   ]
  },
  {
   "cell_type": "code",
   "execution_count": null,
   "id": "84e56db7",
   "metadata": {},
   "outputs": [],
   "source": [
    "df_pivot = df_pivot.dropna()"
   ]
  },
  {
   "cell_type": "markdown",
   "id": "1128efa6",
   "metadata": {},
   "source": [
    "Utilisez la méthode [`plot`](https://pandas.pydata.org/docs/reference/api/pandas.DataFrame.plot.html) pour afficher la consommation horaire pour tous les jours de notre dataset sur un même graphique. Pour cela, utilisez la version transposée de notre dataframe (attribut `T`, affichez cette transposé pour mieux comprendre). Comment pourriez-vous améliorer le rendu ?"
   ]
  },
  {
   "cell_type": "code",
   "execution_count": null,
   "id": "de898e5f",
   "metadata": {
    "scrolled": false
   },
   "outputs": [],
   "source": [
    "df_pivot.T.plot(figsize=(13,8), legend=False)"
   ]
  },
  {
   "cell_type": "code",
   "execution_count": null,
   "id": "9c892582",
   "metadata": {
    "scrolled": false
   },
   "outputs": [],
   "source": [
    "df_pivot.T.plot(figsize=(13,8), color='blue', legend=False, alpha=0.02)"
   ]
  },
  {
   "cell_type": "markdown",
   "id": "f228b050",
   "metadata": {},
   "source": [
    "## 9.3 Clustering\n",
    "\n",
    "Appliquez une série de K-means pour 2 à 31 clusters. Pour chaque nombre de clusters, stockez l'inertie et calculez (et stockez) le [`silhouette_score`](https://scikit-learn.org/stable/modules/generated/sklearn.metrics.silhouette_score.html), puis affichez l'elbow curve pour le silouhette score et l'inertie.\n",
    "\n",
    "Note : il est toujours préférable de normaliser vos données avant d'appliquer un K-means."
   ]
  },
  {
   "cell_type": "code",
   "execution_count": null,
   "id": "7e30631f",
   "metadata": {},
   "outputs": [],
   "source": [
    "from sklearn.cluster import KMeans\n",
    "from sklearn.preprocessing import StandardScaler\n",
    "from sklearn.metrics import silhouette_score\n",
    "\n",
    "silhouette_scores = []\n",
    "inertia = []\n",
    "n_cluster_list = np.arange(2,31).astype(int)\n",
    "\n",
    "X = df_pivot.values.copy()\n",
    "    \n",
    "sc = StandardScaler()\n",
    "X = sc.fit_transform(X)\n",
    "\n",
    "for n_cluster in n_cluster_list:\n",
    "    \n",
    "    kmeans = KMeans(n_clusters=n_cluster)\n",
    "    cluster_found = kmeans.fit_predict(X)\n",
    "    silhouette_scores.append(silhouette_score(X, kmeans.labels_))\n",
    "    inertia.append(kmeans.inertia_)"
   ]
  },
  {
   "cell_type": "code",
   "execution_count": null,
   "id": "b9fb8f0a",
   "metadata": {},
   "outputs": [],
   "source": [
    "plt.figure(figsize=(15, 6))\n",
    "plt.plot(n_cluster_list, silhouette_scores)\n",
    "plt.title('Silhouette scores per cluster size')\n",
    "plt.xlabel('Number of clusters')\n",
    "plt.ylabel('Silhouette score')\n",
    "plt.show()"
   ]
  },
  {
   "cell_type": "code",
   "execution_count": null,
   "id": "58f6f4f8",
   "metadata": {},
   "outputs": [],
   "source": [
    "plt.figure(figsize=(15, 6))\n",
    "plt.plot(n_cluster_list, inertia)\n",
    "plt.title('Inertia per cluster size')\n",
    "plt.xlabel('Number of clusters')\n",
    "plt.ylabel('Inertia')\n",
    "plt.show()"
   ]
  },
  {
   "cell_type": "markdown",
   "id": "b30eb7d6",
   "metadata": {},
   "source": [
    "Choisissez un nombre de clusters adéquat, déterminer le cluster pour chaque jour de notre dataset, puis affichez le nombre de jour dans chaque cluster."
   ]
  },
  {
   "cell_type": "code",
   "execution_count": null,
   "id": "f58b7c06",
   "metadata": {},
   "outputs": [],
   "source": [
    "kmeans = KMeans(n_clusters=4)\n",
    "clusters = kmeans.fit_predict(X)\n",
    "pd.Series(clusters).value_counts()"
   ]
  },
  {
   "cell_type": "markdown",
   "id": "82441156",
   "metadata": {},
   "source": [
    "Créez une nouvelle colonne sur notre dataframe pivot contenant le numéro de cluster de chaque jour."
   ]
  },
  {
   "cell_type": "code",
   "execution_count": null,
   "id": "46b9eccf",
   "metadata": {},
   "outputs": [],
   "source": [
    "df_pivot['cluster'] = clusters\n",
    "df_pivot.head()"
   ]
  },
  {
   "cell_type": "markdown",
   "id": "228fdfce",
   "metadata": {},
   "source": [
    "Calculez la médiane et la moyenne de chaque consommation horaire pour tous les clusters (les [groupes pandas](https://pandas.pydata.org/pandas-docs/stable/user_guide/groupby.html#splitting-an-object-into-groups) peuvent permettre de calculer ces médianes). Nommez ces variables `clusters_median` et `clusters_mean`."
   ]
  },
  {
   "cell_type": "code",
   "execution_count": null,
   "id": "10832560",
   "metadata": {},
   "outputs": [],
   "source": [
    "clusters_median = df_pivot.groupby('cluster').median().values\n",
    "clusters_mean = df_pivot.groupby('cluster').mean().values\n",
    "# clusters_mean = sc.inverse_transform(kmeans.cluster_centers_)  # alternative using the scaler inverse transform\n",
    "clusters_median"
   ]
  },
  {
   "cell_type": "markdown",
   "id": "0dc5fd62",
   "metadata": {},
   "source": [
    "Si vous avez bien respecté les noms des différentes variables recommandés jusqu'à présent, la cellule suivante devrait afficher un graphique avec les profils des jours médians (ou moyens) de consommation par cluster et les différents jours par cluster. Nous choisissons une palette de couleur pour nos clusters puis nous affichons chaque jour des clusters avec une forte transparence ainsi que le profil médian pour ces clusters. Pour choisir d'afficher le profil moyen, nous pouvons remplacer `clusters_median` par `clusters_mean`.\n",
    "\n",
    "Comment interprétez vous ces clusters ?"
   ]
  },
  {
   "cell_type": "code",
   "execution_count": null,
   "id": "73bdbf63",
   "metadata": {},
   "outputs": [],
   "source": [
    "fig, ax= plt.subplots(1,1, figsize=(18,10))\n",
    "colors = plt.cm.jet(np.linspace(0,1,kmeans.n_clusters))\n",
    "colors = ['red', 'blue', 'purple', 'yellow', 'black', 'pink']\n",
    "for cluster in range(kmeans.n_clusters):\n",
    "    df_pivot[df_pivot.cluster == cluster].T.plot(\n",
    "        ax=ax, legend=False, alpha=0.01, color=colors[cluster], label= f'Cluster {cluster}'\n",
    "    )\n",
    "    plt.plot(clusters_median[cluster], color=colors[cluster], alpha=1, ls='--', label=\"lelel\")\n",
    "ax.set_xticks(np.arange(1,25))\n",
    "ax.set_ylabel('kilowatts')\n",
    "ax.set_xlabel('hour')\n",
    "plt.show()"
   ]
  },
  {
   "cell_type": "markdown",
   "id": "da4baa8b",
   "metadata": {
    "scrolled": false
   },
   "source": [
    "Nous avons mis en évidence plusieurs profils de consommation quotidien, probablement liés à des jours travaillés, de présence (vacances, jours féries ou week-end) et d'absence (vacances ?).\n",
    "\n",
    "Pour aller plus loin, il serait utile de vérifier si notre hypothèse sur les profils moyen obtenus correspondent bien à des jours travaillés, de présence ou d'absence en utilisant le calendrier locale du dataset (les données ont été collectées en France)."
   ]
  },
  {
   "cell_type": "code",
   "execution_count": null,
   "id": "66626daa",
   "metadata": {},
   "outputs": [],
   "source": []
  }
 ],
 "metadata": {
  "kernelspec": {
   "display_name": "Python 3",
   "language": "python",
   "name": "python3"
  },
  "language_info": {
   "codemirror_mode": {
    "name": "ipython",
    "version": 3
   },
   "file_extension": ".py",
   "mimetype": "text/x-python",
   "name": "python",
   "nbconvert_exporter": "python",
   "pygments_lexer": "ipython3",
   "version": "3.8.8"
  }
 },
 "nbformat": 4,
 "nbformat_minor": 5
}
