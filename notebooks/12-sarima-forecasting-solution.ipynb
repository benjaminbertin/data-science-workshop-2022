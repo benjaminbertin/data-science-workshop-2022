{
 "cells": [
  {
   "cell_type": "markdown",
   "metadata": {
    "_uuid": "6cb8198413047bc007abd073c7ea796ee133ca53",
    "id": "Kiy0JF6IsWca"
   },
   "source": [
    "# 12 Prédiction de séries temporelles\n",
    "\n",
    "Dans ce notebook, nous allons dérouler toute la procédure de prédiction d'une série temporelle avec SARIMA."
   ]
  },
  {
   "cell_type": "markdown",
   "metadata": {
    "_uuid": "175fdbac873eec5c29ce47aa0eb99895fde9b9fe",
    "id": "gnk4-r5UsWcm"
   },
   "source": [
    "## 12.1 Imports"
   ]
  },
  {
   "cell_type": "code",
   "execution_count": null,
   "metadata": {
    "colab": {
     "base_uri": "https://localhost:8080/"
    },
    "id": "XflnSUVrOBuy",
    "outputId": "39f0ad77-ad6b-4d76-f442-beafdc4fa81d",
    "scrolled": true
   },
   "outputs": [],
   "source": [
    "#!pip install pmdarima\n",
    "#!pip install statsmodels"
   ]
  },
  {
   "cell_type": "code",
   "execution_count": null,
   "metadata": {
    "_uuid": "ee6527aac0d9ca5edd4044b05c3e31c58f4c4546",
    "id": "JKWqnIIPsWcn",
    "scrolled": true
   },
   "outputs": [],
   "source": [
    "import warnings\n",
    "\n",
    "import pandas as pd\n",
    "from sklearn.model_selection import train_test_split\n",
    "import matplotlib.pyplot as plt\n",
    "import numpy as np\n",
    "import statsmodels.api as sm\n",
    "\n",
    "from statsmodels.graphics.tsaplots import plot_pacf, plot_acf\n",
    "from statsmodels.tsa.statespace.sarimax import SARIMAX\n",
    "from statsmodels.tsa.holtwinters import ExponentialSmoothing\n",
    "from statsmodels.tsa.stattools import adfuller\n",
    "import matplotlib.pyplot as plt\n",
    "from tqdm import tqdm_notebook\n",
    "\n",
    "from scipy import stats\n",
    "from itertools import product\n",
    "\n",
    "from statsmodels.graphics.tsaplots import plot_pacf\n",
    "from statsmodels.graphics.tsaplots import plot_acf\n",
    "from statsmodels.tsa.statespace.sarimax import SARIMAX\n",
    "from statsmodels.tsa.holtwinters import ExponentialSmoothing"
   ]
  },
  {
   "cell_type": "markdown",
   "metadata": {
    "id": "Ks1nTsoMyhTc"
   },
   "source": [
    "## 12.2 Méthodes\n",
    "\n",
    "Dans les cellules suivantes nous définissons plusieurs méthodes qui nous serviront à réaliser et analyser une prédiction de série temporelle avec SARIMA."
   ]
  },
  {
   "cell_type": "code",
   "execution_count": null,
   "metadata": {
    "id": "ntuyQJ7hCQ8B"
   },
   "outputs": [],
   "source": [
    "def check_stationarization(data, field, seasonal_period=4):\n",
    "    show_lagplots(data, field)\n",
    "    if len(data) > 6 * seasonal_period:\n",
    "        show_adfuller_stats(data, field, seasonal_period=4)\n",
    "\n",
    "def show_lagplots(data, originalfield):\n",
    "    if 'diff_seasonal_diff_{}'.format(field) in data.columns:\n",
    "        figure, (ax0, ax1, ax2) = plt.subplots(1, 3, figsize=(15, 5))    \n",
    "    elif 'seasonal_diff_{}'.format(field) in data.columns:\n",
    "        figure, (ax0, ax1) = plt.subplots(1, 2, figsize=(10, 5))\n",
    "    else:\n",
    "        figure, (ax0) = plt.subplots(1, 1, figsize=(5, 5))\n",
    "    \n",
    "    figure.tight_layout()\n",
    "\n",
    "    lag_plot(data[field], ax=ax0)\n",
    "    ax0.set_title('{} data'.format(field));\n",
    "\n",
    "    if 'seasonal_diff_{}'.format(field) in data.columns:   \n",
    "        lag_plot(data['seasonal_diff_{}'.format(field)] , ax=ax1)\n",
    "        ax1.set_title('{} with seasonal differencing'.format(field));\n",
    "\n",
    "    if 'diff_seasonal_diff_{}'.format(field) in data.columns:\n",
    "        lag_plot(data['diff_seasonal_diff_{}'.format(field)] , ax=ax2)\n",
    "        ax2.set_title('{} data with seasonal differencing + 1-step differencing'.format(field));\n",
    "\n",
    "    plt.show()\n",
    "\n",
    "def show_adfuller_stats(data, field, seasonal_period=4):\n",
    "    print(len(data))\n",
    "    print('==== Augmented Dickey–Fuller test ================================================================================\\n')\n",
    "    print('---- {} ---------------------------------------------------\\n'.format(field))\n",
    "    adf = adfuller(data[field], regression='nc', autolag=None, maxlag=4 * seasonal_period)\n",
    "    \n",
    "    print('  statistical value: {}'.format(adf[0]))\n",
    "    print('    (stationarity achieved if lower than the critical values)\\n')\n",
    "    print('  p-value: {}'.format(adf[1]))\n",
    "    print('    (stationarity achieved if lower 0.05)\\n')\n",
    "    print('  lags considered for calculation: {}'.format(adf[2]))\n",
    "    print('  critical values: {}\\n\\n'.format(adf[4]))\n",
    "    \n",
    "    if 'seasonal_diff_{}'.format(field) in data.columns:\n",
    "        adf = adfuller(data['seasonal_diff_{}'.format(field)], regression='nc', autolag=None, maxlag=4 * seasonal_period)\n",
    "        print('---- seasonal_diff_{} -------------------------------------\\n'.format(field))\n",
    "        print('  statistical value: {}'.format(adf[0]))\n",
    "        print('    (stationarity achieved if lower than the critical values)\\n')\n",
    "        print('  p-value: {}'.format(adf[1]))\n",
    "        print('    (stationarity achieved if lower 0.05)\\n')\n",
    "        print('  lags considered for calculation: {}'.format(adf[2]))\n",
    "        print('  critical values: {}\\n\\n'.format(adf[4]))\n",
    "\n",
    "    if 'diff_seasonal_diff_{}'.format(field) in data.columns:\n",
    "        adf = adfuller(data['diff_seasonal_diff_{}'.format(field)], regression='nc', autolag=None, maxlag=4 * seasonal_period)\n",
    "        print('---- diff_seasonal_diff_{} --------------------------------\\n'.format(field))\n",
    "        print('  statistical value: {}'.format(adf[0]))\n",
    "        print('    (stationarity achieved if lower than the critical values)\\n')\n",
    "        print('  p-value: {}'.format(adf[1]))\n",
    "        print('    (stationarity achieved if lower 0.05)\\n')\n",
    "        print('  lags considered for calculation: {}'.format(adf[2]))\n",
    "        print('  critical values: {}\\n\\n'.format(adf[4]))\n",
    "\n",
    "    print('==================================================================================================================')\n",
    "    \n",
    "    \n",
    "def plot_acf_pacf(series, seasonal_period):\n",
    "    lags_long = 2 * seasonal_period + 20\n",
    "    lags_short = seasonal_period // 3\n",
    "    \n",
    "    \n",
    "    f2, ((ax4, ax5), (ax6, ax7)) = plt.subplots(2, 2, figsize=(15, 5))\n",
    "    f2.tight_layout()\n",
    "\n",
    "    plot_acf(series, ax=ax4, lags=lags_long)\n",
    "    ax4.set_title('ACF plot, long lag period');\n",
    "\n",
    "    plot_acf(series, ax=ax5, lags=lags_short)\n",
    "    ax5.set_title('ACF plot, short lag period');\n",
    "\n",
    "    plot_pacf(series, ax=ax6, lags=lags_long)\n",
    "    ax6.set_title('PACF plot, long lag period');\n",
    "    \n",
    "    plot_pacf(series, ax=ax7, lags=lags_short)\n",
    "    ax7.set_title('PACF plot, short lag period');\n",
    "    \n",
    "    plt.show()\n",
    "    \n",
    "def inspect_results(results):\n",
    "    print(results.summary())\n",
    "    results.plot_diagnostics(figsize=(15, 12))\n",
    "    plt.show() "
   ]
  },
  {
   "cell_type": "code",
   "execution_count": null,
   "metadata": {
    "id": "XdPnS2iZD2hz"
   },
   "outputs": [],
   "source": [
    "from statsmodels.tsa.stattools import adfuller\n",
    "\n",
    "def show_adfuller_stats(data, field, seasonal_period=4):\n",
    "    print('==== Augmented Dickey–Fuller test ================================================================================\\n')\n",
    "    print('---- {} ---------------------------------------------------\\n'.format(field))\n",
    "    adf = adfuller(data[field].dropna(), regression='nc', autolag=None, maxlag=4 * seasonal_period)\n",
    "    \n",
    "    print('  statistical value: {}'.format(adf[0]))\n",
    "    print('    (stationarity achieved if lower than the critical values)\\n')\n",
    "    print('  p-value: {}'.format(adf[1]))\n",
    "    print('    (stationarity achieved if lower 0.05)\\n')\n",
    "    print('  lags considered for calculation: {}'.format(adf[2]))\n",
    "    print('  critical values: {}\\n\\n'.format(adf[4]))\n",
    "    print('==================================================================================================================')"
   ]
  },
  {
   "cell_type": "markdown",
   "metadata": {
    "_uuid": "920c35ae20324af876a0f9541eec415168555a8c",
    "id": "8m0_lgglsWcq"
   },
   "source": [
    "## 12.3 Chargement du dataset\n",
    "\n",
    "Chargez le dataset `Quarterly_Earnings_per_Johnson___Johnson_Share_398_57.csv` en ne retenant que les colonnes `time` et `value` :"
   ]
  },
  {
   "cell_type": "code",
   "execution_count": null,
   "metadata": {
    "_uuid": "4dc34b18625204a7072eb2ee43ad705fb926ffe4",
    "id": "eZAUKqJMsWcq"
   },
   "outputs": [],
   "source": [
    "# todo\n",
    "data = pd.read_csv(\n",
    "    '/data/Quarterly_Earnings_per_Johnson___Johnson_Share_398_57.csv',\n",
    "    usecols=['time', 'value']\n",
    ")\n",
    "print(data.shape)"
   ]
  },
  {
   "cell_type": "code",
   "execution_count": null,
   "metadata": {
    "_uuid": "a38ad431c453bc0f5439e183f382e8cc507c6080",
    "id": "dhGJrmnJsWcr"
   },
   "outputs": [],
   "source": [
    "data.head(10)"
   ]
  },
  {
   "cell_type": "markdown",
   "metadata": {
    "id": "Uzhwx0KFy6lG"
   },
   "source": [
    "## 12.4 Visualisation des données\n",
    "\n",
    "Visualisez cette série :"
   ]
  },
  {
   "cell_type": "code",
   "execution_count": null,
   "metadata": {
    "id": "ikXKNhNG-9kP"
   },
   "outputs": [],
   "source": [
    "data.value.plot(figsize=(20, 4))\n",
    "plt.show()"
   ]
  },
  {
   "cell_type": "markdown",
   "metadata": {
    "id": "K7dl7lpv6n7x"
   },
   "source": [
    "Ces données sont typiques d'une série où les composantes tendance - saisonnsalité - résidu sont en relation multiplicative.\n",
    "\n",
    "Pourquoi ?"
   ]
  },
  {
   "cell_type": "markdown",
   "metadata": {},
   "source": [
    "Car les écarts relatifs sont plus grand pour des temps élevés."
   ]
  },
  {
   "cell_type": "markdown",
   "metadata": {
    "id": "Dp_sBIDYhcpe"
   },
   "source": [
    "## 12.5 Transformation des données\n",
    "\n",
    "Pour passer d'un mode multiplicatif à un mode additif, une transformation est nécessaire. Le plus simple est l'application d'un logarithme :"
   ]
  },
  {
   "cell_type": "code",
   "execution_count": null,
   "metadata": {
    "id": "Y7nbj1XThc40"
   },
   "outputs": [],
   "source": [
    "data['log_value'] = np.log(data.value)\n",
    "data['recalculate_original'] = np.exp(data.log_value)"
   ]
  },
  {
   "cell_type": "code",
   "execution_count": null,
   "metadata": {
    "id": "uc9oglkAiQPH"
   },
   "outputs": [],
   "source": [
    "data.value.plot()\n",
    "data.recalculate_original.plot()\n",
    "plt.legend()\n",
    "plt.show()\n",
    "\n",
    "data.log_value.plot()\n",
    "plt.legend()\n",
    "plt.show()"
   ]
  },
  {
   "cell_type": "markdown",
   "metadata": {
    "id": "dtCsIC-E76ZW"
   },
   "source": [
    "Une solution paramétrique est la transformée de Box-Cox :\n",
    "\n",
    "Testez différents paramètres. Pour accentuer la correction, lambda peut être pris < 0..."
   ]
  },
  {
   "cell_type": "code",
   "execution_count": null,
   "metadata": {
    "id": "g5MbO7Ken-or"
   },
   "outputs": [],
   "source": [
    "from scipy.stats import boxcox\n",
    "from scipy.special import inv_boxcox\n",
    "\n",
    "\n",
    "lambda_boxcox = -1\n",
    "constant_boxcox = 4\n",
    "\n",
    "boxcoxed = boxcox(data.value + constant_boxcox, lambda_boxcox)\n",
    "\n",
    "data['boxcox_value'] = boxcoxed\n",
    "\n",
    "pd.Series(boxcoxed).plot()\n",
    "plt.show()\n",
    "\n",
    "inv_boxcoxed = inv_boxcox(boxcoxed, lambda_boxcox) - constant_boxcox\n",
    "\n",
    "pd.Series(inv_boxcoxed).plot()\n",
    "data.value.plot()\n",
    "plt.legend()\n",
    "plt.show()\n"
   ]
  },
  {
   "cell_type": "markdown",
   "metadata": {
    "id": "a9U9jxrE7JJj"
   },
   "source": [
    "## 12.6 Décomposition STL\n",
    "\n",
    "Effectuez une décomposition STL des signaux transformés :"
   ]
  },
  {
   "cell_type": "code",
   "execution_count": null,
   "metadata": {},
   "outputs": [],
   "source": [
    "from statsmodels.tsa.seasonal import seasonal_decompose\n",
    "\n",
    "st_result = seasonal_decompose(\n",
    "    data.log_value.values,\n",
    "    model=\"additive\",\n",
    "    period=4,\n",
    "    extrapolate_trend=True\n",
    ")\n",
    "\n",
    "fig = st_result.plot()\n",
    "fig.set_size_inches((16, 9))\n",
    "fig.tight_layout()"
   ]
  },
  {
   "cell_type": "code",
   "execution_count": null,
   "metadata": {},
   "outputs": [],
   "source": [
    "st_result = seasonal_decompose(\n",
    "    data.boxcox_value.values,\n",
    "    model=\"additive\",\n",
    "    period=4,\n",
    "    extrapolate_trend=True\n",
    ")\n",
    "\n",
    "fig = st_result.plot()\n",
    "fig.set_size_inches((16, 9))\n",
    "fig.tight_layout()"
   ]
  },
  {
   "cell_type": "markdown",
   "metadata": {
    "id": "vvAIlIpN8cAu"
   },
   "source": [
    "Que remarquez-vous (composante saisonnière et de tendance) ?"
   ]
  },
  {
   "cell_type": "markdown",
   "metadata": {},
   "source": [
    "La saisonnalité semble bien être de période 4, la tendance obtenue est toujours croissante. Nous avons donc bien isolé les composantes de notre série. La transformation boxcox est plus pertinente car le résidu est plus faible."
   ]
  },
  {
   "cell_type": "markdown",
   "metadata": {
    "id": "HSLOHpfqCBHY"
   },
   "source": [
    "## 12.7 Détermination d'un modèle SARIMA\n",
    "\n",
    "Le modèle SARIMA possède 6 hyperparamètres : on le note SARIMA(p, d, q)(P, D, Q).\n",
    "\n",
    "\n",
    "En première approche, nous allons effectuer les prévisions à l'aide de la transformée logarithmique.\n",
    "\n",
    "Découpez votre dataset en deux parties : un train et un test (contenant 10% des points), prenez soin de ne pas randomiser votre dataset :"
   ]
  },
  {
   "cell_type": "code",
   "execution_count": null,
   "metadata": {
    "id": "EndipQL2QRet"
   },
   "outputs": [],
   "source": [
    "train, test = train_test_split(data, test_size=.1, shuffle=False)"
   ]
  },
  {
   "cell_type": "code",
   "execution_count": null,
   "metadata": {
    "id": "EaY4QwUJQjdZ"
   },
   "outputs": [],
   "source": [
    "len(train) / len(data)"
   ]
  },
  {
   "cell_type": "markdown",
   "metadata": {
    "id": "VSEqaQTNCnbA"
   },
   "source": [
    "### 12.7.1 Identification des paramètres de stationnarisation des données\n",
    "\n",
    "Le processus SARIMA que nous allons mettre en oeuvre nécessite de transformer les données sous forme stationnaire. Pour cela, on peut effectuer des différenciations."
   ]
  },
  {
   "cell_type": "code",
   "execution_count": null,
   "metadata": {
    "id": "GqrEiDGDBgIP"
   },
   "outputs": [],
   "source": [
    "train['diff_log_value'] = train.log_value.diff()\n",
    "train['seasonal_diff_log_value'] = train.diff_log_value.diff(4)"
   ]
  },
  {
   "cell_type": "code",
   "execution_count": null,
   "metadata": {
    "id": "8vN6AO7DCrp3"
   },
   "outputs": [],
   "source": [
    "train['log_value'].plot()"
   ]
  },
  {
   "cell_type": "code",
   "execution_count": null,
   "metadata": {
    "id": "X__Dy8HWCvM-"
   },
   "outputs": [],
   "source": [
    "from pandas.plotting import lag_plot\n",
    "lag_plot(train.diff_log_value)"
   ]
  },
  {
   "cell_type": "code",
   "execution_count": null,
   "metadata": {},
   "outputs": [],
   "source": [
    "lag_plot(train.seasonal_diff_log_value)"
   ]
  },
  {
   "cell_type": "markdown",
   "metadata": {
    "id": "jQZcus2GA-TC"
   },
   "source": [
    "Ce diagramme vous semble-t-il représenter un processus stationnaire ? \n",
    "\n",
    "Pour déterminer si c'est le cas, on peut effectuer un test de Dickey-Fuller :"
   ]
  },
  {
   "cell_type": "code",
   "execution_count": null,
   "metadata": {
    "id": "HSRDtpzYD-fF"
   },
   "outputs": [],
   "source": [
    "show_adfuller_stats(train, 'diff_log_value')"
   ]
  },
  {
   "cell_type": "code",
   "execution_count": null,
   "metadata": {},
   "outputs": [],
   "source": [
    "show_adfuller_stats(train, 'seasonal_diff_log_value')"
   ]
  },
  {
   "cell_type": "markdown",
   "metadata": {
    "id": "ZWYw34gvEgw_"
   },
   "source": [
    "Qu'en conclure ? que faut-il faire ? Corrigez la méthode de stationnarisation si nécessaire."
   ]
  },
  {
   "cell_type": "markdown",
   "metadata": {
    "id": "GOWGhESfBsfa"
   },
   "source": [
    "Il faut appliquer une différenciation saisonière avec une période = 4."
   ]
  },
  {
   "cell_type": "markdown",
   "metadata": {
    "id": "ZRxY12VuCP-8"
   },
   "source": [
    "Quels sont les valeurs des hyperparamètres d et D d'un modèle SARIMA adaptées à ces données ?"
   ]
  },
  {
   "cell_type": "markdown",
   "metadata": {},
   "source": [
    "d = 1 et D = 1 avec s = 4"
   ]
  },
  {
   "cell_type": "code",
   "execution_count": null,
   "metadata": {},
   "outputs": [],
   "source": [
    "pd.plotting.autocorrelation_plot(train.set_index('time').diff_log_value.dropna())"
   ]
  },
  {
   "cell_type": "markdown",
   "metadata": {
    "id": "d5jL7HkUQ7tP"
   },
   "source": [
    "## 12.7.2 Identification des paramètres SARIMA\n",
    "\n",
    "Affichons l'ACF et le PACF pour notre série stationnarisée :"
   ]
  },
  {
   "cell_type": "code",
   "execution_count": null,
   "metadata": {
    "id": "Xdf89dOSSCvy"
   },
   "outputs": [],
   "source": [
    "plot_acf(train['seasonal_diff_log_value'].dropna());\n",
    "plot_pacf(train['seasonal_diff_log_value'].dropna());"
   ]
  },
  {
   "cell_type": "markdown",
   "metadata": {
    "id": "7REv_Q5qQ75v"
   },
   "source": [
    "Identifiez sur la figure ci-dessus des candidats pour les valeurs des hyperparamètres p, q, P et Q :"
   ]
  },
  {
   "cell_type": "code",
   "execution_count": null,
   "metadata": {
    "id": "ytH0ZV-HDMRh"
   },
   "outputs": [],
   "source": [
    "p_candidat = 1\n",
    "q_candidat = 1\n",
    "P_candidat = 4\n",
    "Q_candidat = 0"
   ]
  },
  {
   "cell_type": "markdown",
   "metadata": {
    "id": "tJQOneM5DcqO"
   },
   "source": [
    "En pratique, on va toujours tester un panel de jeux d'hyperparamètres et pas seulement les paramètres lus sur les autocorrélogrammes : c'est le Gridsearch.\n",
    "\n",
    "Ainsi, on va définir pour chaque hyperparamètre une plage de variation, et on testera l'ensemble des combinaisons d'hyperparamètres résultant du croisement de ces plages.\n",
    "\n",
    "Les valeurs lues nous servent de points centraux dans les plages de chaque hyperparamètre.\n",
    "\n",
    "La méthode ci-dessous implémente le Gridsearch pour SARIMA :"
   ]
  },
  {
   "cell_type": "code",
   "execution_count": null,
   "metadata": {
    "id": "PB7gyvNbRjqA"
   },
   "outputs": [],
   "source": [
    "def optimize_SARIMA(parameters_list, d, D, s, endog, metric='AIC'):\n",
    "    \"\"\"\n",
    "        Return dataframe with parameters, corresponding AIC and SSE\n",
    "        \n",
    "        parameters_list - list with (p, q, P, Q) tuples\n",
    "        d - integration order\n",
    "        D - seasonal integration order\n",
    "        s - length of season\n",
    "        exog - the exogenous variable\n",
    "    \"\"\"\n",
    "    \n",
    "    results = []\n",
    "    \n",
    "    for param in tqdm_notebook(parameters_list):\n",
    "        try: \n",
    "            model = SARIMAX(endog, order=(param[0], d, param[1]), seasonal_order=(param[2], D, param[3], s)).fit(disp=-1)\n",
    "        except:\n",
    "            continue\n",
    "            \n",
    "        if metric == 'BIC':\n",
    "            bic = model.bic\n",
    "            results.append([param, bic])\n",
    "\n",
    "        else:\n",
    "            aic = model.aic\n",
    "            results.append([param, aic])\n",
    "        \n",
    "    result_df = pd.DataFrame(results)\n",
    "    result_df.columns = ['(p,q)x(P,Q)', metric]\n",
    "    #Sort in ascending order, lower metric is better\n",
    "    result_df = result_df.sort_values(by=metric, ascending=True).reset_index(drop=True)\n",
    "    \n",
    "    return result_df"
   ]
  },
  {
   "cell_type": "markdown",
   "metadata": {
    "id": "EQknKLq3Ebi1"
   },
   "source": [
    "Définissez des palges de variation de chaque hyperparamètre. Ces plages doivent inclure les valeurs candidates trouvées ci-dessus :"
   ]
  },
  {
   "cell_type": "code",
   "execution_count": null,
   "metadata": {
    "id": "GCmGdgQQRjtZ",
    "scrolled": true
   },
   "outputs": [],
   "source": [
    "p = [0, 1, 2]\n",
    "q = [0, 1, 2]\n",
    "P = [0, 1, 2]\n",
    "Q = [0, 1]\n",
    "\n",
    "parameters = product(p, q, P, Q)\n",
    "parameters_list = list(parameters)\n",
    "print(len(parameters_list))\n",
    "parameters_list"
   ]
  },
  {
   "cell_type": "markdown",
   "metadata": {},
   "source": [
    "Recherchons les meilleurs hyperparamètres à l'aide de l'AIC :"
   ]
  },
  {
   "cell_type": "code",
   "execution_count": null,
   "metadata": {
    "id": "QpZxT05TRj0J",
    "scrolled": true
   },
   "outputs": [],
   "source": [
    "warnings.filterwarnings('ignore')\n",
    "\n",
    "result_df = optimize_SARIMA(parameters_list, \n",
    "                            d=1, \n",
    "                            D=1, \n",
    "                            s=4, endog=train['log_value'], \n",
    "                            metric='AIC')\n",
    "result_df"
   ]
  },
  {
   "cell_type": "markdown",
   "metadata": {
    "id": "fPxzqzeNIH6D"
   },
   "source": [
    "Comparez le jeu d'hyperparamètres optimal obtenu avec pour mesure de qualité l'AIC et le BIC."
   ]
  },
  {
   "cell_type": "markdown",
   "metadata": {},
   "source": [
    "L'AIC le plus faible est trouvé pour (p, q, P, Q) = (0, 1, 1, 0), c'est donc cette valeur que nous retenons."
   ]
  },
  {
   "cell_type": "markdown",
   "metadata": {
    "id": "G98y6SwiEpLJ"
   },
   "source": [
    "### 12.7.3 Entrainement de SARIMA et analyse des résidus\n",
    "\n",
    "Le Gridsearch sur les jeux d'hyperparamètres testés fournit un jeu optimal. On analyse ci-dessous le résultat du processus SARIMA sur les données d'entraînement :"
   ]
  },
  {
   "cell_type": "code",
   "execution_count": null,
   "metadata": {
    "id": "AcrUO58WRj6-"
   },
   "outputs": [],
   "source": [
    "best_model = SARIMAX(train['log_value'], order=(0, 1, 1), seasonal_order=(1, 1, 0, 4)).fit()\n",
    "print(best_model.summary())"
   ]
  },
  {
   "cell_type": "markdown",
   "metadata": {
    "id": "SSNectiGGtav"
   },
   "source": [
    "Ci-dessous, on affiche une analyse des résidus :"
   ]
  },
  {
   "cell_type": "code",
   "execution_count": null,
   "metadata": {
    "id": "aXGdi0T4rYPa"
   },
   "outputs": [],
   "source": [
    "best_model.plot_diagnostics(figsize=(15,12));"
   ]
  },
  {
   "cell_type": "markdown",
   "metadata": {
    "id": "4qCtNtDSG31j"
   },
   "source": [
    "Effectuez l'analyse : les résidus s'apparentent-ils à un bruit blanc gaussien ?"
   ]
  },
  {
   "cell_type": "markdown",
   "metadata": {},
   "source": [
    "Oui, car le diagnostique laisse penser que nous avons un bruit guaussien (correlogramme sans valeur significative, normal Q-Q aligné sur une droite, kde proche d'une gaussienne). De plus le test statistique de `Ljung-Box` a une p-value supérieure à 0.05."
   ]
  },
  {
   "cell_type": "markdown",
   "metadata": {
    "id": "HxWK8S7HG-vl"
   },
   "source": [
    "### 12.7.4 Prédiction sur le jeu de test\n",
    "\n",
    "Nous pouvons finalement prédire les valeurs de notre dataset de test et calculer des métriques de performance :"
   ]
  },
  {
   "cell_type": "code",
   "execution_count": null,
   "metadata": {
    "id": "w86Iiy8XrYSS"
   },
   "outputs": [],
   "source": [
    "data['arima_model'] = best_model.fittedvalues\n",
    "forecast = best_model.predict(start=train.shape[0], end=train.shape[0] + len(test))\n",
    "forecast = np.exp(data['arima_model'].append(forecast))\n",
    "\n",
    "pred_ci = best_model.get_prediction(start=train.shape[0], end=train.shape[0] + test.shape[0]).conf_int(alpha=.05)\n",
    "future = ([np.nan] * len(train)) + test.value.to_list()\n",
    "\n",
    "plt.figure(figsize=(15, 7.5))\n",
    "plt.fill_between(pred_ci.index,\n",
    "                 np.exp(pred_ci['lower log_value']),\n",
    "                 np.exp(pred_ci['upper log_value']), color='k', alpha=.2)\n",
    "plt.plot(forecast, color='r', label='model')\n",
    "plt.axvspan(train.index[-1], forecast.index[-1], alpha=0.5, color='lightgrey')\n",
    "plt.plot(train['value'], label='train', color='blue')\n",
    "plt.plot(future, label='test', color='green')\n",
    "plt.legend()\n",
    "plt.show()"
   ]
  },
  {
   "cell_type": "code",
   "execution_count": null,
   "metadata": {
    "id": "HZwdKWJ5snBB"
   },
   "outputs": [],
   "source": [
    "from sklearn.metrics import mean_absolute_error, mean_squared_error\n",
    "\n",
    "forecasts_only = np.exp(best_model.predict(start=train.shape[0], end=train.shape[0] + len(test) - 1))\n",
    "\n",
    "mae = mean_absolute_error(test.value, forecasts_only)\n",
    "mse = mean_squared_error(test.value, forecasts_only)\n",
    "\n",
    "print(\"\"\"\n",
    "MAE : {}\n",
    "MSE : {}\n",
    "\"\"\".format(mae, mse))"
   ]
  },
  {
   "cell_type": "markdown",
   "metadata": {
    "id": "D529PKmKyHOH"
   },
   "source": [
    "## 12.8 Variante\n",
    "\n",
    "Testez SARIMA avec la transformée BoxCox."
   ]
  },
  {
   "cell_type": "code",
   "execution_count": null,
   "metadata": {},
   "outputs": [],
   "source": []
  }
 ],
 "metadata": {
  "colab": {
   "collapsed_sections": [],
   "name": "sarima-forecasting.ipynb",
   "provenance": []
  },
  "kernelspec": {
   "display_name": "Python 3",
   "language": "python",
   "name": "python3"
  },
  "language_info": {
   "codemirror_mode": {
    "name": "ipython",
    "version": 3
   },
   "file_extension": ".py",
   "mimetype": "text/x-python",
   "name": "python",
   "nbconvert_exporter": "python",
   "pygments_lexer": "ipython3",
   "version": "3.8.8"
  }
 },
 "nbformat": 4,
 "nbformat_minor": 1
}
