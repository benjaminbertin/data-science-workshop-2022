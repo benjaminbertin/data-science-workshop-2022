{
 "cells": [
  {
   "cell_type": "markdown",
   "metadata": {},
   "source": [
    "# 4. Etude du jeu de données Diabetes\n",
    "\n",
    "Nous allons étudier un problème de regression sur un jeu de données de patients atteints de diabète. Nous utiliserons un jeu de données qui décrit 442 patients souffrant de diabète. Il s'agit de prédire l'évolution de la maladie au bout d'un an. Commencons par charger ce dataset et afficher sa description :"
   ]
  },
  {
   "cell_type": "code",
   "execution_count": 6,
   "metadata": {},
   "outputs": [],
   "source": [
    "from sklearn import datasets\n",
    "import pandas as pd\n",
    "import numpy as np\n",
    "\n",
    "diabetes = datasets.load_diabetes()\n",
    "df = pd.DataFrame(diabetes.data)\n",
    "df.columns = diabetes.feature_names\n",
    "df[\"target\"] = diabetes.target"
   ]
  },
  {
   "cell_type": "code",
   "execution_count": 7,
   "metadata": {
    "scrolled": true
   },
   "outputs": [
    {
     "name": "stdout",
     "output_type": "stream",
     "text": [
      ".. _diabetes_dataset:\n",
      "\n",
      "Diabetes dataset\n",
      "----------------\n",
      "\n",
      "Ten baseline variables, age, sex, body mass index, average blood\n",
      "pressure, and six blood serum measurements were obtained for each of n =\n",
      "442 diabetes patients, as well as the response of interest, a\n",
      "quantitative measure of disease progression one year after baseline.\n",
      "\n",
      "**Data Set Characteristics:**\n",
      "\n",
      "  :Number of Instances: 442\n",
      "\n",
      "  :Number of Attributes: First 10 columns are numeric predictive values\n",
      "\n",
      "  :Target: Column 11 is a quantitative measure of disease progression one year after baseline\n",
      "\n",
      "  :Attribute Information:\n",
      "      - age     age in years\n",
      "      - sex\n",
      "      - bmi     body mass index\n",
      "      - bp      average blood pressure\n",
      "      - s1      tc, T-Cells (a type of white blood cells)\n",
      "      - s2      ldl, low-density lipoproteins\n",
      "      - s3      hdl, high-density lipoproteins\n",
      "      - s4      tch, thyroid stimulating hormone\n",
      "      - s5      ltg, lamotrigine\n",
      "      - s6      glu, blood sugar level\n",
      "\n",
      "Note: Each of these 10 feature variables have been mean centered and scaled by the standard deviation times `n_samples` (i.e. the sum of squares of each column totals 1).\n",
      "\n",
      "Source URL:\n",
      "https://www4.stat.ncsu.edu/~boos/var.select/diabetes.html\n",
      "\n",
      "For more information see:\n",
      "Bradley Efron, Trevor Hastie, Iain Johnstone and Robert Tibshirani (2004) \"Least Angle Regression,\" Annals of Statistics (with discussion), 407-499.\n",
      "(https://web.stanford.edu/~hastie/Papers/LARS/LeastAngle_2002.pdf)\n"
     ]
    }
   ],
   "source": [
    "print(diabetes.DESCR)"
   ]
  },
  {
   "cell_type": "markdown",
   "metadata": {},
   "source": [
    "## 4.1 Analyse exploratoire des données\n",
    "\n",
    "Réalisez une analyse exploratoire de ce dataset, pour vous aider vous pouvez répondre aux questions suivantes :\n",
    "* Quels sont les types de variables du dataset ?\n",
    "* Quelles sont les modalités des variables qualitatives ? (aka : catégorielles)\n",
    "* Quels sont les moyennes, écarts types, min, max ... des variables numériques ?\n",
    "* Existe-t'il des corrélations fortes entre ces variables numériques ?\n",
    "\n",
    "Vous pouvez aussi afficher certains graphiques avec matplotlib, seaborn ou plotly. Par exemple : [`sns.distplot`](https://seaborn.pydata.org/generated/seaborn.distplot.html), [`sns.boxplot`](https://seaborn.pydata.org/generated/seaborn.boxplot.html) ou encore [`sns.heatmap`](https://seaborn.pydata.org/generated/seaborn.heatmap.html).\n",
    "\n",
    "Pensez aussi à regarder certains individus de ce dataset (pas seulement des informations statistiques)."
   ]
  },
  {
   "cell_type": "code",
   "execution_count": 8,
   "metadata": {
    "scrolled": false
   },
   "outputs": [
    {
     "name": "stdout",
     "output_type": "stream",
     "text": [
      "Dimensions de la matrice des observations : (442, 11)\n",
      "\n",
      "Extrait : \n",
      "\n"
     ]
    },
    {
     "data": {
      "text/html": [
       "<table border=\"1\" class=\"dataframe\">\n",
       "  <thead>\n",
       "    <tr style=\"text-align: right;\">\n",
       "      <th></th>\n",
       "      <th>age</th>\n",
       "      <th>sex</th>\n",
       "      <th>bmi</th>\n",
       "      <th>bp</th>\n",
       "      <th>s1</th>\n",
       "      <th>s2</th>\n",
       "      <th>s3</th>\n",
       "      <th>s4</th>\n",
       "      <th>s5</th>\n",
       "      <th>s6</th>\n",
       "      <th>target</th>\n",
       "    </tr>\n",
       "  </thead>\n",
       "  <tbody>\n",
       "    <tr>\n",
       "      <th>0</th>\n",
       "      <td>0.04</td>\n",
       "      <td>0.05</td>\n",
       "      <td>0.06</td>\n",
       "      <td>0.02</td>\n",
       "      <td>-0.04</td>\n",
       "      <td>-0.03</td>\n",
       "      <td>-0.04</td>\n",
       "      <td>-0.00</td>\n",
       "      <td>0.02</td>\n",
       "      <td>-0.02</td>\n",
       "      <td>151.00</td>\n",
       "    </tr>\n",
       "    <tr>\n",
       "      <th>1</th>\n",
       "      <td>-0.00</td>\n",
       "      <td>-0.04</td>\n",
       "      <td>-0.05</td>\n",
       "      <td>-0.03</td>\n",
       "      <td>-0.01</td>\n",
       "      <td>-0.02</td>\n",
       "      <td>0.07</td>\n",
       "      <td>-0.04</td>\n",
       "      <td>-0.07</td>\n",
       "      <td>-0.09</td>\n",
       "      <td>75.00</td>\n",
       "    </tr>\n",
       "    <tr>\n",
       "      <th>2</th>\n",
       "      <td>0.09</td>\n",
       "      <td>0.05</td>\n",
       "      <td>0.04</td>\n",
       "      <td>-0.01</td>\n",
       "      <td>-0.05</td>\n",
       "      <td>-0.03</td>\n",
       "      <td>-0.03</td>\n",
       "      <td>-0.00</td>\n",
       "      <td>0.00</td>\n",
       "      <td>-0.03</td>\n",
       "      <td>141.00</td>\n",
       "    </tr>\n",
       "    <tr>\n",
       "      <th>3</th>\n",
       "      <td>-0.09</td>\n",
       "      <td>-0.04</td>\n",
       "      <td>-0.01</td>\n",
       "      <td>-0.04</td>\n",
       "      <td>0.01</td>\n",
       "      <td>0.02</td>\n",
       "      <td>-0.04</td>\n",
       "      <td>0.03</td>\n",
       "      <td>0.02</td>\n",
       "      <td>-0.01</td>\n",
       "      <td>206.00</td>\n",
       "    </tr>\n",
       "    <tr>\n",
       "      <th>4</th>\n",
       "      <td>0.01</td>\n",
       "      <td>-0.04</td>\n",
       "      <td>-0.04</td>\n",
       "      <td>0.02</td>\n",
       "      <td>0.00</td>\n",
       "      <td>0.02</td>\n",
       "      <td>0.01</td>\n",
       "      <td>-0.00</td>\n",
       "      <td>-0.03</td>\n",
       "      <td>-0.05</td>\n",
       "      <td>135.00</td>\n",
       "    </tr>\n",
       "  </tbody>\n",
       "</table>"
      ],
      "text/plain": [
       "<IPython.core.display.HTML object>"
      ]
     },
     "metadata": {},
     "output_type": "display_data"
    },
    {
     "name": "stdout",
     "output_type": "stream",
     "text": [
      "\n",
      "Types des variables : \n",
      "\n",
      "age       float64\n",
      "sex       float64\n",
      "bmi       float64\n",
      "bp        float64\n",
      "s1        float64\n",
      "s2        float64\n",
      "s3        float64\n",
      "s4        float64\n",
      "s5        float64\n",
      "s6        float64\n",
      "target    float64\n",
      "dtype: object\n",
      "\n",
      "Description des variables numériques : \n",
      "\n"
     ]
    },
    {
     "data": {
      "text/html": [
       "<table border=\"1\" class=\"dataframe\">\n",
       "  <thead>\n",
       "    <tr style=\"text-align: right;\">\n",
       "      <th></th>\n",
       "      <th>age</th>\n",
       "      <th>sex</th>\n",
       "      <th>bmi</th>\n",
       "      <th>bp</th>\n",
       "      <th>s1</th>\n",
       "      <th>s2</th>\n",
       "      <th>s3</th>\n",
       "      <th>s4</th>\n",
       "      <th>s5</th>\n",
       "      <th>s6</th>\n",
       "      <th>target</th>\n",
       "    </tr>\n",
       "  </thead>\n",
       "  <tbody>\n",
       "    <tr>\n",
       "      <th>count</th>\n",
       "      <td>442.00</td>\n",
       "      <td>442.00</td>\n",
       "      <td>442.00</td>\n",
       "      <td>442.00</td>\n",
       "      <td>442.00</td>\n",
       "      <td>442.00</td>\n",
       "      <td>442.00</td>\n",
       "      <td>442.00</td>\n",
       "      <td>442.00</td>\n",
       "      <td>442.00</td>\n",
       "      <td>442.00</td>\n",
       "    </tr>\n",
       "    <tr>\n",
       "      <th>mean</th>\n",
       "      <td>-0.00</td>\n",
       "      <td>0.00</td>\n",
       "      <td>-0.00</td>\n",
       "      <td>0.00</td>\n",
       "      <td>-0.00</td>\n",
       "      <td>0.00</td>\n",
       "      <td>-0.00</td>\n",
       "      <td>0.00</td>\n",
       "      <td>-0.00</td>\n",
       "      <td>-0.00</td>\n",
       "      <td>152.13</td>\n",
       "    </tr>\n",
       "    <tr>\n",
       "      <th>std</th>\n",
       "      <td>0.05</td>\n",
       "      <td>0.05</td>\n",
       "      <td>0.05</td>\n",
       "      <td>0.05</td>\n",
       "      <td>0.05</td>\n",
       "      <td>0.05</td>\n",
       "      <td>0.05</td>\n",
       "      <td>0.05</td>\n",
       "      <td>0.05</td>\n",
       "      <td>0.05</td>\n",
       "      <td>77.09</td>\n",
       "    </tr>\n",
       "    <tr>\n",
       "      <th>min</th>\n",
       "      <td>-0.11</td>\n",
       "      <td>-0.04</td>\n",
       "      <td>-0.09</td>\n",
       "      <td>-0.11</td>\n",
       "      <td>-0.13</td>\n",
       "      <td>-0.12</td>\n",
       "      <td>-0.10</td>\n",
       "      <td>-0.08</td>\n",
       "      <td>-0.13</td>\n",
       "      <td>-0.14</td>\n",
       "      <td>25.00</td>\n",
       "    </tr>\n",
       "    <tr>\n",
       "      <th>25%</th>\n",
       "      <td>-0.04</td>\n",
       "      <td>-0.04</td>\n",
       "      <td>-0.03</td>\n",
       "      <td>-0.04</td>\n",
       "      <td>-0.03</td>\n",
       "      <td>-0.03</td>\n",
       "      <td>-0.04</td>\n",
       "      <td>-0.04</td>\n",
       "      <td>-0.03</td>\n",
       "      <td>-0.03</td>\n",
       "      <td>87.00</td>\n",
       "    </tr>\n",
       "    <tr>\n",
       "      <th>50%</th>\n",
       "      <td>0.01</td>\n",
       "      <td>-0.04</td>\n",
       "      <td>-0.01</td>\n",
       "      <td>-0.01</td>\n",
       "      <td>-0.00</td>\n",
       "      <td>-0.00</td>\n",
       "      <td>-0.01</td>\n",
       "      <td>-0.00</td>\n",
       "      <td>-0.00</td>\n",
       "      <td>-0.00</td>\n",
       "      <td>140.50</td>\n",
       "    </tr>\n",
       "    <tr>\n",
       "      <th>75%</th>\n",
       "      <td>0.04</td>\n",
       "      <td>0.05</td>\n",
       "      <td>0.03</td>\n",
       "      <td>0.04</td>\n",
       "      <td>0.03</td>\n",
       "      <td>0.03</td>\n",
       "      <td>0.03</td>\n",
       "      <td>0.03</td>\n",
       "      <td>0.03</td>\n",
       "      <td>0.03</td>\n",
       "      <td>211.50</td>\n",
       "    </tr>\n",
       "    <tr>\n",
       "      <th>max</th>\n",
       "      <td>0.11</td>\n",
       "      <td>0.05</td>\n",
       "      <td>0.17</td>\n",
       "      <td>0.13</td>\n",
       "      <td>0.15</td>\n",
       "      <td>0.20</td>\n",
       "      <td>0.18</td>\n",
       "      <td>0.19</td>\n",
       "      <td>0.13</td>\n",
       "      <td>0.14</td>\n",
       "      <td>346.00</td>\n",
       "    </tr>\n",
       "  </tbody>\n",
       "</table>"
      ],
      "text/plain": [
       "<IPython.core.display.HTML object>"
      ]
     },
     "metadata": {},
     "output_type": "display_data"
    },
    {
     "name": "stdout",
     "output_type": "stream",
     "text": [
      "\n",
      "Description des variables catégorielles : \n",
      "\n",
      "\n",
      "Analyse des corrélations : \n",
      "\n"
     ]
    },
    {
     "data": {
      "image/png": "[encoded data removed]",
      "text/plain": [
       "<Figure size 432x360 with 2 Axes>"
      ]
     },
     "metadata": {
      "needs_background": "light"
     },
     "output_type": "display_data"
    },
    {
     "name": "stdout",
     "output_type": "stream",
     "text": [
      "\n",
      "Valeurs manquantes : \n",
      "\n",
      "age       0\n",
      "sex       0\n",
      "bmi       0\n",
      "bp        0\n",
      "s1        0\n",
      "s2        0\n",
      "s3        0\n",
      "s4        0\n",
      "s5        0\n",
      "s6        0\n",
      "target    0\n",
      "dtype: int64\n",
      "\n",
      "Boîtes à moustaches : \n",
      "\n"
     ]
    },
    {
     "name": "stderr",
     "output_type": "stream",
     "text": [
      "/opt/conda/lib/python3.8/site-packages/seaborn/_decorators.py:36: FutureWarning: Pass the following variable as a keyword arg: x. From version 0.12, the only valid positional argument will be `data`, and passing other arguments without an explicit keyword will result in an error or misinterpretation.\n",
      "  warnings.warn(\n",
      "/opt/conda/lib/python3.8/site-packages/seaborn/_core.py:1319: UserWarning: Vertical orientation ignored with only `x` specified.\n",
      "  warnings.warn(single_var_warning.format(\"Vertical\", \"x\"))\n",
      "/opt/conda/lib/python3.8/site-packages/seaborn/_decorators.py:36: FutureWarning: Pass the following variable as a keyword arg: x. From version 0.12, the only valid positional argument will be `data`, and passing other arguments without an explicit keyword will result in an error or misinterpretation.\n",
      "  warnings.warn(\n",
      "/opt/conda/lib/python3.8/site-packages/seaborn/_core.py:1319: UserWarning: Vertical orientation ignored with only `x` specified.\n",
      "  warnings.warn(single_var_warning.format(\"Vertical\", \"x\"))\n",
      "/opt/conda/lib/python3.8/site-packages/seaborn/_decorators.py:36: FutureWarning: Pass the following variable as a keyword arg: x. From version 0.12, the only valid positional argument will be `data`, and passing other arguments without an explicit keyword will result in an error or misinterpretation.\n",
      "  warnings.warn(\n",
      "/opt/conda/lib/python3.8/site-packages/seaborn/_core.py:1319: UserWarning: Vertical orientation ignored with only `x` specified.\n",
      "  warnings.warn(single_var_warning.format(\"Vertical\", \"x\"))\n",
      "/opt/conda/lib/python3.8/site-packages/seaborn/_decorators.py:36: FutureWarning: Pass the following variable as a keyword arg: x. From version 0.12, the only valid positional argument will be `data`, and passing other arguments without an explicit keyword will result in an error or misinterpretation.\n",
      "  warnings.warn(\n",
      "/opt/conda/lib/python3.8/site-packages/seaborn/_core.py:1319: UserWarning: Vertical orientation ignored with only `x` specified.\n",
      "  warnings.warn(single_var_warning.format(\"Vertical\", \"x\"))\n",
      "/opt/conda/lib/python3.8/site-packages/seaborn/_decorators.py:36: FutureWarning: Pass the following variable as a keyword arg: x. From version 0.12, the only valid positional argument will be `data`, and passing other arguments without an explicit keyword will result in an error or misinterpretation.\n",
      "  warnings.warn(\n",
      "/opt/conda/lib/python3.8/site-packages/seaborn/_core.py:1319: UserWarning: Vertical orientation ignored with only `x` specified.\n",
      "  warnings.warn(single_var_warning.format(\"Vertical\", \"x\"))\n",
      "/opt/conda/lib/python3.8/site-packages/seaborn/_decorators.py:36: FutureWarning: Pass the following variable as a keyword arg: x. From version 0.12, the only valid positional argument will be `data`, and passing other arguments without an explicit keyword will result in an error or misinterpretation.\n",
      "  warnings.warn(\n",
      "/opt/conda/lib/python3.8/site-packages/seaborn/_core.py:1319: UserWarning: Vertical orientation ignored with only `x` specified.\n",
      "  warnings.warn(single_var_warning.format(\"Vertical\", \"x\"))\n",
      "/opt/conda/lib/python3.8/site-packages/seaborn/_decorators.py:36: FutureWarning: Pass the following variable as a keyword arg: x. From version 0.12, the only valid positional argument will be `data`, and passing other arguments without an explicit keyword will result in an error or misinterpretation.\n",
      "  warnings.warn(\n",
      "/opt/conda/lib/python3.8/site-packages/seaborn/_core.py:1319: UserWarning: Vertical orientation ignored with only `x` specified.\n",
      "  warnings.warn(single_var_warning.format(\"Vertical\", \"x\"))\n",
      "/opt/conda/lib/python3.8/site-packages/seaborn/_decorators.py:36: FutureWarning: Pass the following variable as a keyword arg: x. From version 0.12, the only valid positional argument will be `data`, and passing other arguments without an explicit keyword will result in an error or misinterpretation.\n",
      "  warnings.warn(\n",
      "/opt/conda/lib/python3.8/site-packages/seaborn/_core.py:1319: UserWarning: Vertical orientation ignored with only `x` specified.\n",
      "  warnings.warn(single_var_warning.format(\"Vertical\", \"x\"))\n",
      "/opt/conda/lib/python3.8/site-packages/seaborn/_decorators.py:36: FutureWarning: Pass the following variable as a keyword arg: x. From version 0.12, the only valid positional argument will be `data`, and passing other arguments without an explicit keyword will result in an error or misinterpretation.\n",
      "  warnings.warn(\n",
      "/opt/conda/lib/python3.8/site-packages/seaborn/_core.py:1319: UserWarning: Vertical orientation ignored with only `x` specified.\n",
      "  warnings.warn(single_var_warning.format(\"Vertical\", \"x\"))\n",
      "/opt/conda/lib/python3.8/site-packages/seaborn/_decorators.py:36: FutureWarning: Pass the following variable as a keyword arg: x. From version 0.12, the only valid positional argument will be `data`, and passing other arguments without an explicit keyword will result in an error or misinterpretation.\n",
      "  warnings.warn(\n",
      "/opt/conda/lib/python3.8/site-packages/seaborn/_core.py:1319: UserWarning: Vertical orientation ignored with only `x` specified.\n",
      "  warnings.warn(single_var_warning.format(\"Vertical\", \"x\"))\n",
      "/opt/conda/lib/python3.8/site-packages/seaborn/_decorators.py:36: FutureWarning: Pass the following variable as a keyword arg: x. From version 0.12, the only valid positional argument will be `data`, and passing other arguments without an explicit keyword will result in an error or misinterpretation.\n",
      "  warnings.warn(\n",
      "/opt/conda/lib/python3.8/site-packages/seaborn/_core.py:1319: UserWarning: Vertical orientation ignored with only `x` specified.\n",
      "  warnings.warn(single_var_warning.format(\"Vertical\", \"x\"))\n"
     ]
    },
    {
     "data": {
      "image/png": "[encoded data removed]",
      "text/plain": [
       "<Figure size 1152x1080 with 12 Axes>"
      ]
     },
     "metadata": {
      "needs_background": "light"
     },
     "output_type": "display_data"
    },
    {
     "name": "stdout",
     "output_type": "stream",
     "text": [
      "\n",
      "Histogrammes avec estimation de densité : \n",
      "\n"
     ]
    },
    {
     "name": "stderr",
     "output_type": "stream",
     "text": [
      "/opt/conda/lib/python3.8/site-packages/seaborn/distributions.py:2557: FutureWarning: `distplot` is a deprecated function and will be removed in a future version. Please adapt your code to use either `displot` (a figure-level function with similar flexibility) or `histplot` (an axes-level function for histograms).\n",
      "  warnings.warn(msg, FutureWarning)\n",
      "/opt/conda/lib/python3.8/site-packages/seaborn/distributions.py:2557: FutureWarning: `distplot` is a deprecated function and will be removed in a future version. Please adapt your code to use either `displot` (a figure-level function with similar flexibility) or `histplot` (an axes-level function for histograms).\n",
      "  warnings.warn(msg, FutureWarning)\n",
      "/opt/conda/lib/python3.8/site-packages/seaborn/distributions.py:2557: FutureWarning: `distplot` is a deprecated function and will be removed in a future version. Please adapt your code to use either `displot` (a figure-level function with similar flexibility) or `histplot` (an axes-level function for histograms).\n",
      "  warnings.warn(msg, FutureWarning)\n",
      "/opt/conda/lib/python3.8/site-packages/seaborn/distributions.py:2557: FutureWarning: `distplot` is a deprecated function and will be removed in a future version. Please adapt your code to use either `displot` (a figure-level function with similar flexibility) or `histplot` (an axes-level function for histograms).\n",
      "  warnings.warn(msg, FutureWarning)\n",
      "/opt/conda/lib/python3.8/site-packages/seaborn/distributions.py:2557: FutureWarning: `distplot` is a deprecated function and will be removed in a future version. Please adapt your code to use either `displot` (a figure-level function with similar flexibility) or `histplot` (an axes-level function for histograms).\n",
      "  warnings.warn(msg, FutureWarning)\n",
      "/opt/conda/lib/python3.8/site-packages/seaborn/distributions.py:2557: FutureWarning: `distplot` is a deprecated function and will be removed in a future version. Please adapt your code to use either `displot` (a figure-level function with similar flexibility) or `histplot` (an axes-level function for histograms).\n",
      "  warnings.warn(msg, FutureWarning)\n",
      "/opt/conda/lib/python3.8/site-packages/seaborn/distributions.py:2557: FutureWarning: `distplot` is a deprecated function and will be removed in a future version. Please adapt your code to use either `displot` (a figure-level function with similar flexibility) or `histplot` (an axes-level function for histograms).\n",
      "  warnings.warn(msg, FutureWarning)\n",
      "/opt/conda/lib/python3.8/site-packages/seaborn/distributions.py:2557: FutureWarning: `distplot` is a deprecated function and will be removed in a future version. Please adapt your code to use either `displot` (a figure-level function with similar flexibility) or `histplot` (an axes-level function for histograms).\n",
      "  warnings.warn(msg, FutureWarning)\n",
      "/opt/conda/lib/python3.8/site-packages/seaborn/distributions.py:2557: FutureWarning: `distplot` is a deprecated function and will be removed in a future version. Please adapt your code to use either `displot` (a figure-level function with similar flexibility) or `histplot` (an axes-level function for histograms).\n",
      "  warnings.warn(msg, FutureWarning)\n",
      "/opt/conda/lib/python3.8/site-packages/seaborn/distributions.py:2557: FutureWarning: `distplot` is a deprecated function and will be removed in a future version. Please adapt your code to use either `displot` (a figure-level function with similar flexibility) or `histplot` (an axes-level function for histograms).\n",
      "  warnings.warn(msg, FutureWarning)\n",
      "/opt/conda/lib/python3.8/site-packages/seaborn/distributions.py:2557: FutureWarning: `distplot` is a deprecated function and will be removed in a future version. Please adapt your code to use either `displot` (a figure-level function with similar flexibility) or `histplot` (an axes-level function for histograms).\n",
      "  warnings.warn(msg, FutureWarning)\n"
     ]
    },
    {
     "data": {
      "image/png": "[encoded data removed]",
      "text/plain": [
       "<Figure size 1152x1080 with 12 Axes>"
      ]
     },
     "metadata": {
      "needs_background": "light"
     },
     "output_type": "display_data"
    }
   ],
   "source": [
    "import math, pprint\n",
    "import matplotlib.pyplot as plt\n",
    "import seaborn as sns\n",
    "from IPython.display import display, HTML\n",
    "from matplotlib.colors import ListedColormap\n",
    "\n",
    "pd.options.display.float_format = '{:,.2f}'.format\n",
    "%matplotlib inline\n",
    "\n",
    "def print_df(df):\n",
    "    display(HTML(df.to_html()))\n",
    "    \n",
    "def boxplot_grid(df, nb_grid_cols=3, figsize=(16,15)):\n",
    "    df_num = df.select_dtypes(include=[np.number])\n",
    "    nb_num_vars = len(df_num.columns)\n",
    "    fig, axes = plt.subplots(math.ceil(nb_num_vars/nb_grid_cols), nb_grid_cols, figsize=figsize)\n",
    "    for i, col in enumerate(df_num.columns):\n",
    "        sns.boxplot(df_num[col], orient=\"v\", ax=axes[int(i/nb_grid_cols),i%nb_grid_cols])\n",
    "    plt.show()\n",
    "        \n",
    "def density_plot_grid(df, nb_grid_cols=3, figsize=(16,15)):\n",
    "    df_num = df.select_dtypes(include=[np.number])\n",
    "    nb_num_vars = len(df_num.columns)\n",
    "    fig, axes = plt.subplots(math.ceil(nb_num_vars/nb_grid_cols), nb_grid_cols, figsize=figsize)\n",
    "    for i, col in enumerate(df_num.columns):\n",
    "        not_null_col = df_num[col][df_num[col].notnull()]\n",
    "        sns.distplot(not_null_col, ax=axes[int(i/nb_grid_cols),i%nb_grid_cols])\n",
    "    plt.show()\n",
    "\n",
    "def explore_data(df):\n",
    "    print(f\"Dimensions de la matrice des observations : {df.shape}\")\n",
    "    print(\"\\nExtrait : \\n\")\n",
    "    print_df(df.head())\n",
    "    print(\"\\nTypes des variables : \\n\")\n",
    "    print(df.dtypes)\n",
    "    print(\"\\nDescription des variables numériques : \\n\")\n",
    "    print_df(df.describe())\n",
    "    print(\"\\nDescription des variables catégorielles : \\n\")\n",
    "    for col in df.select_dtypes(include=[object]).columns:\n",
    "        counts = df[col].value_counts()\n",
    "        if len(counts) < 20:\n",
    "            print(\"\\nModalités de la variable \", col)\n",
    "            pprint.pprint(df[col].value_counts())\n",
    "        else:\n",
    "            print(\"\\nLa variable %s possède %i modalités\" % (col, len(counts)))\n",
    "    print(\"\\nAnalyse des corrélations : \\n\")\n",
    "    plt.figure(figsize=(6, 5))\n",
    "    sns.heatmap(df.corr())\n",
    "    plt.show()\n",
    "    print(\"\\nValeurs manquantes : \\n\")\n",
    "    print(pd.isnull(df).sum())\n",
    "    print(\"\\nBoîtes à moustaches : \\n\")\n",
    "    boxplot_grid(df)\n",
    "    print(\"\\nHistogrammes avec estimation de densité : \\n\")\n",
    "    density_plot_grid(df)\n",
    "\n",
    "explore_data(df)"
   ]
  },
  {
   "cell_type": "markdown",
   "metadata": {},
   "source": [
    "## 4.2 Construction du jeu d'entraînement et du jeu de test\n",
    "\n",
    "Nous devons sans tarder réserver un jeu de test... Sinon, nous serons incapables de mesurer la capacité de votre modèle à généraliser, c'est-à-dire à prédire sur de nouvelles données. Pour cela utilisez la fonction [`sklearn.model_selection.train_test_split`](https://scikit-learn.org/stable/modules/generated/sklearn.model_selection.train_test_split.html) en réservant 20% du dataset pour notre jeu de test :"
   ]
  },
  {
   "cell_type": "code",
   "execution_count": 9,
   "metadata": {},
   "outputs": [],
   "source": [
    "from sklearn.model_selection import train_test_split\n",
    "\n",
    "train, test = train_test_split(df, test_size=0.2, random_state=77)"
   ]
  },
  {
   "cell_type": "code",
   "execution_count": 10,
   "metadata": {},
   "outputs": [
    {
     "data": {
      "text/plain": [
       "(89, 11)"
      ]
     },
     "execution_count": 10,
     "metadata": {},
     "output_type": "execute_result"
    }
   ],
   "source": [
    "test.shape"
   ]
  },
  {
   "cell_type": "markdown",
   "metadata": {},
   "source": [
    "Avant de construire les modèles prédictifs, il convient de séparer les variables de la cible à prédire. construisez deux dataframes `X_tain` et `X_test` contenant notre jeu de donnée sans la cible (colonne `target`). De même construisez `y_train` et `y_test` ne contenant que la cible :"
   ]
  },
  {
   "cell_type": "code",
   "execution_count": 11,
   "metadata": {},
   "outputs": [],
   "source": [
    "X_train = train.drop(\"target\", axis=1)\n",
    "y_train = train[\"target\"].copy()\n",
    "X_test = test.drop(\"target\", axis=1)\n",
    "y_test = test[\"target\"].copy()"
   ]
  },
  {
   "cell_type": "markdown",
   "metadata": {},
   "source": [
    "## 4.3 Régression linéaire\n",
    "\n",
    "Nous allons maintenant entrainer un modèle de régression linéaire sur le jeu d'entrainement et vérifier ses performances sur le jeu de test.\n",
    "\n",
    "Importez la classe `LinearRegression` du module `sklearn.linear_model` ([sklearn.linear_model.LinearRegression](https://scikit-learn.org/stable/modules/generated/sklearn.linear_model.LinearRegression.html)) et la fonction `mean_squared_error` du module `sklearn.metrics` ([sklearn.metrics.mean_squared_error](https://scikit-learn.org/stable/modules/generated/sklearn.metrics.mean_squared_error.html)) :"
   ]
  },
  {
   "cell_type": "code",
   "execution_count": 12,
   "metadata": {},
   "outputs": [],
   "source": [
    "from sklearn.linear_model import LinearRegression\n",
    "from sklearn.metrics import mean_squared_error"
   ]
  },
  {
   "cell_type": "markdown",
   "metadata": {},
   "source": [
    "Créez une instance de la classe `LinearRegression` et affectez là à la variable `lr` :"
   ]
  },
  {
   "cell_type": "code",
   "execution_count": 13,
   "metadata": {},
   "outputs": [],
   "source": [
    "lr = LinearRegression()"
   ]
  },
  {
   "cell_type": "markdown",
   "metadata": {},
   "source": [
    "Entrainez votre modèle de régression linéaire sur votre dataset d'entrainement. En clair, appelez la méthode `fit` sur votre objet `lr` en lui passant comme arguments votre dataset d'entrainement (`X_train`, car nous ne voulons pas lui donner la cible) et la cible (i.e. : les labels, `y_train`). L'appel à `fit` ne retourne rien, votre objet `lr` a évolué en interne et à trouvé les coefficients de la régression linéaire minimisant la fonction de coût :"
   ]
  },
  {
   "cell_type": "code",
   "execution_count": 14,
   "metadata": {},
   "outputs": [
    {
     "data": {
      "text/plain": [
       "LinearRegression()"
      ]
     },
     "execution_count": 14,
     "metadata": {},
     "output_type": "execute_result"
    }
   ],
   "source": [
    "lr.fit(X_train, y_train)"
   ]
  },
  {
   "cell_type": "markdown",
   "metadata": {},
   "source": [
    "Affichez le contenu des attributs `intercept_` et `coef_` de votre objet `lr`, ce sont, respectivement, l'ordonnée à le biais de votre régresseur (nous allons expliquer ce biais ci-dessous)."
   ]
  },
  {
   "cell_type": "code",
   "execution_count": 15,
   "metadata": {},
   "outputs": [
    {
     "data": {
      "text/plain": [
       "(151.04663391659793,\n",
       " array([ -42.80984972, -280.68951972,  494.21407839,  325.87324109,\n",
       "        -399.63858695,  173.24936504, -101.33959377,   92.05180552,\n",
       "         645.41117811,   47.96480142]))"
      ]
     },
     "execution_count": 15,
     "metadata": {},
     "output_type": "execute_result"
    }
   ],
   "source": [
    "lr.intercept_, lr.coef_"
   ]
  },
  {
   "cell_type": "markdown",
   "metadata": {},
   "source": [
    "Importez le package `numpy` dans son intégralité et renomez le en `np` (syntaxe `import le_nom_du_package as son_alias`) :"
   ]
  },
  {
   "cell_type": "code",
   "execution_count": 16,
   "metadata": {},
   "outputs": [],
   "source": [
    "import numpy as np"
   ]
  },
  {
   "cell_type": "markdown",
   "metadata": {},
   "source": [
    "Calculez la moyenne des cibles en appelant la fonction `mean` de `numpy` et en lui passant `y_train` en argument. Cette valeur devrait être égale au biais de notre régression linéaire. Ce biais est la valeur que doit prendre la cible si tous les coefficients étaient à zéro (un tel individu n'est probablement pas possible dans la réalité), ici, la valeur de `intercept_` est la moyenne des valeurs de nos cibles :"
   ]
  },
  {
   "cell_type": "code",
   "execution_count": 17,
   "metadata": {},
   "outputs": [
    {
     "data": {
      "text/plain": [
       "151.40793201133144"
      ]
     },
     "execution_count": 17,
     "metadata": {},
     "output_type": "execute_result"
    }
   ],
   "source": [
    "np.mean(y_train)"
   ]
  },
  {
   "cell_type": "markdown",
   "metadata": {},
   "source": [
    "## 4.4 Mesures de performance\n",
    "\n",
    "Vérifions les performances de notre regresseur sur notre dataset de test. Appelez la méthode `predict` de votre objet `lr` avec comme argument `X_test` seulement (nous ne lui fournissons pas la cible de notre dataset de test, car c'est que nous voulons prédire). Stockez ce résultat dans une variable `y_pred` et affichez le contenu de cette variable. Que vous renvoie cette méthode ?"
   ]
  },
  {
   "cell_type": "code",
   "execution_count": 18,
   "metadata": {},
   "outputs": [
    {
     "data": {
      "text/plain": [
       "array([135.92914462, 148.84729173, 117.84317825, 123.46107646,\n",
       "       177.81339491, 122.44365452,  98.42565834, 238.72188059,\n",
       "       154.40366832, 143.0695936 , 233.20861342, 174.54942339,\n",
       "       107.24352822, 146.49125603, 122.15175267, 118.07148828,\n",
       "       141.8808684 , 154.40835472, 168.22534712, 222.42567594,\n",
       "       158.71740036, 218.71914702, 251.11513693, 123.60262825,\n",
       "        91.33217585, 237.16716374, 155.13145297, 108.03671514,\n",
       "       110.36740863, 142.74871521, 144.50350075, 247.83360543,\n",
       "       167.54244014,  55.0179506 , 149.74642363,  79.12992634,\n",
       "       253.37180241, 111.2817938 , 202.06272825, 152.98804099,\n",
       "        81.09444   ,  98.56462198,  86.61089643, 203.16984922,\n",
       "       245.80153927, 195.1901237 , 226.97826389, 197.95095496,\n",
       "       152.35450016, 190.21920681,  88.78072625,  50.42625003,\n",
       "       224.76034931, 247.75834747, 210.86126174,  47.3456636 ,\n",
       "       148.79083248, 161.48506676, 119.13757459, 252.46819092,\n",
       "       173.63948794, 171.58072173,  74.55246225, 109.08813844,\n",
       "       115.59926752, 119.5593933 , 160.06273101, 176.22951948,\n",
       "       101.21132738, 126.11329268, 113.77883963, 160.74409293,\n",
       "       152.6684497 , 191.91559481,  54.28115806, 161.38070408,\n",
       "       210.76960978, 167.8073309 ,  81.1415445 , 113.76781942,\n",
       "        87.15983162, 143.07164774,  98.43458828, 119.51036861,\n",
       "        76.22624493, 143.53712348, 230.74027832, 129.12764009,\n",
       "       112.133317  ])"
      ]
     },
     "execution_count": 18,
     "metadata": {},
     "output_type": "execute_result"
    }
   ],
   "source": [
    "y_pred = lr.predict(X_test)\n",
    "y_pred"
   ]
  },
  {
   "cell_type": "markdown",
   "metadata": {},
   "source": [
    "Importez les méthodes `mean_squared_error` et `mean_absolute_error` du module [`sklearn.metrics`](https://scikit-learn.org/stable/modules/classes.html#module-sklearn.metrics), vous pouvez importer plusieurs fonctions (ou classes) d'un même module en utilisant la syntaxe `from module_name import function_name_a, function_name_b` :"
   ]
  },
  {
   "cell_type": "code",
   "execution_count": 19,
   "metadata": {},
   "outputs": [],
   "source": [
    "from sklearn.metrics import mean_squared_error, mean_absolute_error"
   ]
  },
  {
   "cell_type": "markdown",
   "metadata": {},
   "source": [
    "Calculez et affichez l'erreur quadratique moyenne (Mean Squarred Error ou MSE) de vos prédictions sur le dataset de test en utilisant la fonction `mean_squared_error` avec `y_test` et `y_pred` (dans cet ordre). Est-ce que cette valeur vous semble interprétable par rapport à la moyenne (fonction `mean` du module `numpy`), le max (fonction `max` du module `numpy` ou fonction `max` de la librairie standard de Python) et le min (fonction `min` du module `numpy` ou fonction `min` de la librairie standard Pyton) de votre cible ?"
   ]
  },
  {
   "cell_type": "code",
   "execution_count": 20,
   "metadata": {},
   "outputs": [
    {
     "data": {
      "text/plain": [
       "(31.0, 341.0, 155.01123595505618)"
      ]
     },
     "execution_count": 20,
     "metadata": {},
     "output_type": "execute_result"
    }
   ],
   "source": [
    "np.min(y_test), np.max(y_test), np.mean(y_test)"
   ]
  },
  {
   "cell_type": "code",
   "execution_count": 21,
   "metadata": {},
   "outputs": [
    {
     "data": {
      "text/plain": [
       "3134.0656910376897"
      ]
     },
     "execution_count": 21,
     "metadata": {},
     "output_type": "execute_result"
    }
   ],
   "source": [
    "mean_squared_error(y_test, y_pred)"
   ]
  },
  {
   "cell_type": "markdown",
   "metadata": {},
   "source": [
    "Importez l'ensemble du module `math` de la librairie standard de Python (syntaxe : `import module_name`) :"
   ]
  },
  {
   "cell_type": "code",
   "execution_count": 22,
   "metadata": {},
   "outputs": [],
   "source": [
    "import math"
   ]
  },
  {
   "cell_type": "markdown",
   "metadata": {},
   "source": [
    "Appliquez la fonction `sqrt` du module `math` la librairie standard de Python (syntaxe : `nom_module.nom_de_la_fonction`) sur le MSE (vous obtiendez alors le Root MSE ou RMSE), est-ce que cette valeur vous semble interprétable par rapport à votre cible ?"
   ]
  },
  {
   "cell_type": "code",
   "execution_count": 23,
   "metadata": {},
   "outputs": [
    {
     "data": {
      "text/plain": [
       "55.98272672028123"
      ]
     },
     "execution_count": 23,
     "metadata": {},
     "output_type": "execute_result"
    }
   ],
   "source": [
    "math.sqrt(mean_squared_error(y_test, y_pred))"
   ]
  },
  {
   "cell_type": "markdown",
   "metadata": {},
   "source": [
    "Calculez et affichez l'erreur absolue moyenne (Mean Absolute Error ou MAE) de vos prédictions sur le dataset de test en utilisant la fonction `mean_absolute_error` avec `y_test` et `y_pred` (dans cet ordre), est-ce que cette valeur vous semble interprétable par rapport à votre cible ?"
   ]
  },
  {
   "cell_type": "code",
   "execution_count": 24,
   "metadata": {},
   "outputs": [
    {
     "data": {
      "text/plain": [
       "46.82023956216134"
      ]
     },
     "execution_count": 24,
     "metadata": {},
     "output_type": "execute_result"
    }
   ],
   "source": [
    "mean_absolute_error(y_test, y_pred)"
   ]
  },
  {
   "cell_type": "markdown",
   "metadata": {},
   "source": [
    "Pour mieux comprendre la différence entre la RMSE et la MAE, appliquez ces deux métriques sur les trois ensembles de cibles de test et de prédiction synthétiques suivants. Quelle conclusion pouvez-vous en tirer sur la différence entre RMSE et MAE ?"
   ]
  },
  {
   "cell_type": "code",
   "execution_count": 32,
   "metadata": {},
   "outputs": [],
   "source": [
    "y_synthetic_test = [1, 1, 1, 1, 1, 1, 1]\n",
    "y_synthetic_pred_1 = [3, 3, 3, 3, 3, 3, 3]\n",
    "y_synthetic_pred_2 = [2, 2, 2, 2, 3, 4, 6]\n",
    "y_synthetic_pred_3 = [1, 1, 1, 1, 1, 1, 10]"
   ]
  },
  {
   "cell_type": "code",
   "execution_count": 33,
   "metadata": {},
   "outputs": [
    {
     "data": {
      "text/plain": [
       "2.0"
      ]
     },
     "execution_count": 33,
     "metadata": {},
     "output_type": "execute_result"
    }
   ],
   "source": [
    "mean_absolute_error(y_synthetic_test, y_synthetic_pred_1)"
   ]
  },
  {
   "cell_type": "code",
   "execution_count": 34,
   "metadata": {},
   "outputs": [
    {
     "data": {
      "text/plain": [
       "2.0"
      ]
     },
     "execution_count": 34,
     "metadata": {},
     "output_type": "execute_result"
    }
   ],
   "source": [
    "math.sqrt(mean_squared_error(y_synthetic_test, y_synthetic_pred_1))"
   ]
  },
  {
   "cell_type": "code",
   "execution_count": 35,
   "metadata": {},
   "outputs": [
    {
     "data": {
      "text/plain": [
       "2.0"
      ]
     },
     "execution_count": 35,
     "metadata": {},
     "output_type": "execute_result"
    }
   ],
   "source": [
    "mean_absolute_error(y_synthetic_test, y_synthetic_pred_2)"
   ]
  },
  {
   "cell_type": "code",
   "execution_count": 36,
   "metadata": {},
   "outputs": [
    {
     "data": {
      "text/plain": [
       "2.449489742783178"
      ]
     },
     "execution_count": 36,
     "metadata": {},
     "output_type": "execute_result"
    }
   ],
   "source": [
    "math.sqrt(mean_squared_error(y_synthetic_test, y_synthetic_pred_2))"
   ]
  },
  {
   "cell_type": "code",
   "execution_count": 37,
   "metadata": {},
   "outputs": [
    {
     "data": {
      "text/plain": [
       "1.2857142857142858"
      ]
     },
     "execution_count": 37,
     "metadata": {},
     "output_type": "execute_result"
    }
   ],
   "source": [
    "mean_absolute_error(y_synthetic_test, y_synthetic_pred_3)"
   ]
  },
  {
   "cell_type": "code",
   "execution_count": 38,
   "metadata": {},
   "outputs": [
    {
     "data": {
      "text/plain": [
       "3.401680257083045"
      ]
     },
     "execution_count": 38,
     "metadata": {},
     "output_type": "execute_result"
    }
   ],
   "source": [
    "math.sqrt(mean_squared_error(y_synthetic_test, y_synthetic_pred_3))"
   ]
  },
  {
   "cell_type": "markdown",
   "metadata": {},
   "source": [
    "## 4.5 Regression linéaire régularisée"
   ]
  },
  {
   "cell_type": "markdown",
   "metadata": {},
   "source": [
    "Entrainez sur le dataset d'entrainement et testez les performances (RMSE et MAE) sur le dataset de test des modèles de régressions linéaire régularisés [`sklearn.linear_model.Ridge`](https://scikit-learn.org/stable/modules/generated/sklearn.linear_model.Ridge.html) et [`sklearn.linear_model.Lasso`](https://scikit-learn.org/stable/modules/generated/sklearn.linear_model.Lasso.html) en utilisant les paramètres par défaut (vous n'avez donc pas besoin de spécifier de paramètres lors de l'appel aux constructeurs de ces classes, par exemple : `ridge = Ridge()`). Entre la régression linéaire simple, la régression Ridge et la régression Lasso, quelle est la méthode la plus performante sur le dataset de test ?"
   ]
  },
  {
   "cell_type": "code",
   "execution_count": 39,
   "metadata": {},
   "outputs": [],
   "source": [
    "from sklearn.linear_model import Ridge, Lasso"
   ]
  },
  {
   "cell_type": "code",
   "execution_count": 40,
   "metadata": {},
   "outputs": [
    {
     "data": {
      "text/plain": [
       "(51.50936766059714, 60.00038267791709)"
      ]
     },
     "execution_count": 40,
     "metadata": {},
     "output_type": "execute_result"
    }
   ],
   "source": [
    "ridge = Ridge()\n",
    "ridge.fit(X_train, y_train)\n",
    "y_pred = ridge.predict(X_test)\n",
    "mean_absolute_error(y_test, y_pred), math.sqrt(mean_squared_error(y_test, y_pred))"
   ]
  },
  {
   "cell_type": "code",
   "execution_count": 41,
   "metadata": {},
   "outputs": [
    {
     "data": {
      "text/plain": [
       "(55.1440418899325, 64.84359134588051)"
      ]
     },
     "execution_count": 41,
     "metadata": {},
     "output_type": "execute_result"
    }
   ],
   "source": [
    "lasso = Lasso()\n",
    "lasso.fit(X_train, y_train)\n",
    "y_pred = lasso.predict(X_test)\n",
    "mean_absolute_error(y_test, y_pred), math.sqrt(mean_squared_error(y_test, y_pred))"
   ]
  },
  {
   "cell_type": "markdown",
   "metadata": {},
   "source": [
    "## 4.6 Validation croisée\n",
    "\n",
    "Nous avons comparé l'efficacité de plusieurs modèles sur notre dataset de test ... ce qu'il ne faut surtout par faire. Nous reprenons cette comparaison en utilisant la validation croisée sur le jeu d'entrainement.\n",
    "\n",
    "Créez un nouveau modèle de régression linéaire simple, puis appliquez la fonction [sklearn.model_selection.cross_val_score](https://scikit-learn.org/stable/modules/generated/sklearn.model_selection.cross_val_score.html). Les paramètres à utiliser pour cette fonction sont dans l'ordre : votre modèle de régression linéaire, votre dataset d'entrainement, vos cibles d'entrainement, `scoring=\"neg_mean_squared_error\"` (nous devons indiquer la métrique de performance à calculer) et `cv=10` (vous pouvez changer ce paramètre pour obtenir plus ou moins de plis). Affectez le résultat à une variable `linear_cv_scores` et affichez la."
   ]
  },
  {
   "cell_type": "code",
   "execution_count": 51,
   "metadata": {},
   "outputs": [],
   "source": [
    "from sklearn.model_selection import cross_val_score"
   ]
  },
  {
   "cell_type": "code",
   "execution_count": 82,
   "metadata": {},
   "outputs": [
    {
     "data": {
      "text/plain": [
       "array([-2778.64579408, -2545.13438898, -2539.48564232, -3268.61024895,\n",
       "       -2547.83622329, -4374.2029663 , -2993.32496847, -3163.57275095,\n",
       "       -2675.50045841, -2855.97290501])"
      ]
     },
     "execution_count": 82,
     "metadata": {},
     "output_type": "execute_result"
    }
   ],
   "source": [
    "scores = cross_val_score(LinearRegression(), X_train, y_train, scoring=\"neg_mean_squared_error\", cv=10)\n",
    "scores"
   ]
  },
  {
   "cell_type": "markdown",
   "metadata": {},
   "source": [
    "Nous obtenons la performance d'une régression linéaire pour 10 plis sur notre dataset d'entrainement. Cette valeur est négative car scikit-learn ne permet de calculer que la valeur négative du MSE avec une validation croisée.\n",
    "\n",
    "Affichez le résultat de `-scores`. Qu'observez vous ?\n",
    "Pour calculer le RMSE pour chacun des 10 plis, ous ne pouvons pas appliquer la méthode `sqrt` de la librairie standard de Python directement car elle n'est pas applicable à un tableau numpy (`type(scores)` vous permet de vérifier le type de cette variable). Appliquez la fonction `numpy.sqrt` à aux valeurs négatives de `scores` ou appelez directement la méthode `sqrt` sur la variable `scores` (tout tableau numpy dispose d'un ensemble de méthodes déjà disponibles, tel que la racine carrée).\n",
    "\n",
    "Calculez ensuite la moyenne et l'écart type des RMSE obtenus sur les 10 plis (vous pouvez appeler directement les méthodes `mean` et `std` sur des tableaux numpy). Que pouvez-vous en conclure sur la  variance d'un modèle de régression linéaire appliqué à notre dataset ?"
   ]
  },
  {
   "cell_type": "code",
   "execution_count": 53,
   "metadata": {},
   "outputs": [
    {
     "data": {
      "text/plain": [
       "array([2778.64579408, 2545.13438898, 2539.48564232, 3268.61024895,\n",
       "       2547.83622329, 4374.2029663 , 2993.32496847, 3163.57275095,\n",
       "       2675.50045841, 2855.97290501])"
      ]
     },
     "execution_count": 53,
     "metadata": {},
     "output_type": "execute_result"
    }
   ],
   "source": [
    "-scores"
   ]
  },
  {
   "cell_type": "code",
   "execution_count": 54,
   "metadata": {},
   "outputs": [
    {
     "data": {
      "text/plain": [
       "numpy.ndarray"
      ]
     },
     "execution_count": 54,
     "metadata": {},
     "output_type": "execute_result"
    }
   ],
   "source": [
    "type(scores)"
   ]
  },
  {
   "cell_type": "code",
   "execution_count": 55,
   "metadata": {
    "scrolled": true
   },
   "outputs": [
    {
     "ename": "TypeError",
     "evalue": "only size-1 arrays can be converted to Python scalars",
     "output_type": "error",
     "traceback": [
      "\u001b[0;31m---------------------------------------------------------------------------\u001b[0m",
      "\u001b[0;31mTypeError\u001b[0m                                 Traceback (most recent call last)",
      "\u001b[0;32m<ipython-input-55-4070a9f3e22e>\u001b[0m in \u001b[0;36m<module>\u001b[0;34m\u001b[0m\n\u001b[1;32m      1\u001b[0m \u001b[0;32mimport\u001b[0m \u001b[0mmath\u001b[0m\u001b[0;34m\u001b[0m\u001b[0;34m\u001b[0m\u001b[0m\n\u001b[0;32m----> 2\u001b[0;31m \u001b[0mmath\u001b[0m\u001b[0;34m.\u001b[0m\u001b[0msqrt\u001b[0m\u001b[0;34m(\u001b[0m\u001b[0mscores\u001b[0m\u001b[0;34m)\u001b[0m\u001b[0;34m\u001b[0m\u001b[0;34m\u001b[0m\u001b[0m\n\u001b[0m",
      "\u001b[0;31mTypeError\u001b[0m: only size-1 arrays can be converted to Python scalars"
     ]
    }
   ],
   "source": [
    "import math\n",
    "math.sqrt(scores)"
   ]
  },
  {
   "cell_type": "markdown",
   "metadata": {},
   "source": [
    "Calculez la moyenne (`numpy.mean`) et l'écart type (`numpy.std`) de `scores`. Que pouvez-vous conclure sur le biais et la variance d'un modèle de régression linéaire appliqué à notre dataset ?"
   ]
  },
  {
   "cell_type": "code",
   "execution_count": 56,
   "metadata": {},
   "outputs": [
    {
     "data": {
      "text/plain": [
       "(54.34645875242002, 4.548742215857727)"
      ]
     },
     "execution_count": 56,
     "metadata": {},
     "output_type": "execute_result"
    }
   ],
   "source": [
    "np.sqrt(-scores).mean(), np.sqrt(-scores).std()"
   ]
  },
  {
   "cell_type": "markdown",
   "metadata": {},
   "source": [
    "Stockez la racine carrée de nos scores négatifs dans une variable `linear_cv_scores`, cette variable nous servira plus tard pour comparer nos modèles :"
   ]
  },
  {
   "cell_type": "code",
   "execution_count": 57,
   "metadata": {},
   "outputs": [],
   "source": [
    "linear_cv_scores = np.sqrt(-scores)"
   ]
  },
  {
   "cell_type": "markdown",
   "metadata": {},
   "source": [
    "## 4.7 Optimisation des hyper-paramètres\n",
    "\n",
    "Nous allons maintenant chercher le meilleur paramètre de régularisation pour les régressions linéaires régularisées. Commencez par importer la classe [`sklearn.model_selection.GridSearchCV`](https://scikit-learn.org/stable/modules/generated/sklearn.model_selection.GridSearchCV.html) :"
   ]
  },
  {
   "cell_type": "code",
   "execution_count": 87,
   "metadata": {},
   "outputs": [],
   "source": [
    "from sklearn.model_selection import GridSearchCV"
   ]
  },
  {
   "cell_type": "markdown",
   "metadata": {},
   "source": [
    "Nous définissons ensuite l'ensemble des coefficients de régularisation que nous allons tester. Appelez la fonction [`numpy.logspace`](https://numpy.org/doc/stable/reference/generated/numpy.logspace.html) avec les paramètres `-2`, `2` et `10` et stockez le résultat dans une variable `regul_coeffs`. Nous avons créé un tableau numpy contenant des nombres uniformément répartis sur une échelle logarithmique (en base 10) entre -2 et 2."
   ]
  },
  {
   "cell_type": "code",
   "execution_count": 86,
   "metadata": {},
   "outputs": [
    {
     "data": {
      "text/plain": [
       "array([1.00000000e-02, 2.78255940e-02, 7.74263683e-02, 2.15443469e-01,\n",
       "       5.99484250e-01, 1.66810054e+00, 4.64158883e+00, 1.29154967e+01,\n",
       "       3.59381366e+01, 1.00000000e+02])"
      ]
     },
     "execution_count": 86,
     "metadata": {},
     "output_type": "execute_result"
    }
   ],
   "source": [
    "regul_coeffs = np.logspace(-2, 2, 10)\n",
    "regul_coeffs"
   ]
  },
  {
   "cell_type": "markdown",
   "metadata": {},
   "source": [
    "Crééz une liste python nommée `param_grid` contenant un dictionnaire avec une unique clef `alpha` dont la valeur est `regul_coeffs`. Cette liste est une grille d'hyper-paramètres, elle servira à indiquer à `GridSearchCV` que nous souhaitons faire varier le paramètre `alpha` de l'estimateur que nous lui passerons en paramètre (un estimateur scikit-learn peut-être un régresseur ou un classifueur, i.e. : un algo qui permet d'entrainer un modèle, avec la méthode `fit`, et de prédire des valeurs, avec la méthode `predict`). Cette grille pourrait contenir plusieurs hyper-paramètres à faire varier (tous nommés en fonction des paramètres de nos estimateurs), dans ce cas, toutes les combinaisons seraient testées."
   ]
  },
  {
   "cell_type": "code",
   "execution_count": 89,
   "metadata": {},
   "outputs": [
    {
     "data": {
      "text/plain": [
       "[{'alpha': array([1.00000000e-02, 2.78255940e-02, 7.74263683e-02, 2.15443469e-01,\n",
       "         5.99484250e-01, 1.66810054e+00, 4.64158883e+00, 1.29154967e+01,\n",
       "         3.59381366e+01, 1.00000000e+02])}]"
      ]
     },
     "execution_count": 89,
     "metadata": {},
     "output_type": "execute_result"
    }
   ],
   "source": [
    "param_grid = [{'alpha': regul_coeffs}]\n",
    "param_grid"
   ]
  },
  {
   "cell_type": "markdown",
   "metadata": {},
   "source": [
    "Instanciez la classe `GridSearchCV` (nommez votre instance `grid_search`) avec comme paramètres : une instance de régression Lasso, votre grille de d'hyper-paramètres, la valeur `5` pour le paramètre `cv`, la valeur `neg_mean_squared_error` pour le paramètre `scoring`, la valeur `True` pour le paramètre `return_train_score`."
   ]
  },
  {
   "cell_type": "code",
   "execution_count": 102,
   "metadata": {},
   "outputs": [],
   "source": [
    "grid_search = GridSearchCV(\n",
    "    lasso, param_grid, cv=5,\n",
    "    scoring=\"neg_mean_squared_error\",\n",
    "    return_train_score=True\n",
    ")"
   ]
  },
  {
   "cell_type": "markdown",
   "metadata": {},
   "source": [
    "Appelez la méthode `fit` sur votre instance de `GridSearchCV` avec comme paramètres votre dataset d'entrainement et vos cibles d'entrainement. Cet appel vous affiche en sortie les paramètres de votre recherche des meilleurs hyper-paramètres, dont votre grille d'hyper-paramètres."
   ]
  },
  {
   "cell_type": "code",
   "execution_count": 103,
   "metadata": {},
   "outputs": [
    {
     "data": {
      "text/plain": [
       "GridSearchCV(cv=5, estimator=Lasso(),\n",
       "             param_grid=[{'alpha': array([1.00000000e-02, 2.78255940e-02, 7.74263683e-02, 2.15443469e-01,\n",
       "       5.99484250e-01, 1.66810054e+00, 4.64158883e+00, 1.29154967e+01,\n",
       "       3.59381366e+01, 1.00000000e+02])}],\n",
       "             return_train_score=True, scoring='neg_mean_squared_error')"
      ]
     },
     "execution_count": 103,
     "metadata": {},
     "output_type": "execute_result"
    }
   ],
   "source": [
    "grid_search.fit(X_train, y_train)"
   ]
  },
  {
   "cell_type": "markdown",
   "metadata": {},
   "source": [
    "Affichez les attributs `best_params_`, `best_score_` et `cv_results_` de votre objet `grid_search`. Attention : nous avons utilisé la métrique de performance `neg_mean_squared_error`.\n",
    "\n",
    "Quel est le meilleur coefficient de régularisation ? Quel est le score correspondant ? Quel sont la moyenne (simple à trouver) et l'écart type (complexe à trouver, facultatif) de la validation croisée sur les 5 plis de notre grid search pour le meilleur coefficient de régularisation ?"
   ]
  },
  {
   "cell_type": "code",
   "execution_count": 108,
   "metadata": {},
   "outputs": [
    {
     "data": {
      "text/plain": [
       "{'alpha': 0.0774263682681127}"
      ]
     },
     "execution_count": 108,
     "metadata": {},
     "output_type": "execute_result"
    }
   ],
   "source": [
    "grid_search.best_params_"
   ]
  },
  {
   "cell_type": "code",
   "execution_count": 105,
   "metadata": {},
   "outputs": [
    {
     "data": {
      "text/plain": [
       "54.384146005140266"
      ]
     },
     "execution_count": 105,
     "metadata": {},
     "output_type": "execute_result"
    }
   ],
   "source": [
    "np.sqrt(-grid_search.best_score_)"
   ]
  },
  {
   "cell_type": "code",
   "execution_count": 106,
   "metadata": {
    "scrolled": true
   },
   "outputs": [
    {
     "data": {
      "text/plain": [
       "{'mean_fit_time': array([0.00442128, 0.00238581, 0.00227642, 0.00228343, 0.00249166,\n",
       "        0.00227957, 0.0022119 , 0.00217791, 0.00230117, 0.00274014]),\n",
       " 'std_fit_time': array([2.63933246e-03, 1.12375294e-04, 9.47686711e-05, 1.74688927e-04,\n",
       "        1.74754957e-04, 1.52882902e-04, 1.30422119e-04, 1.14312438e-04,\n",
       "        1.98135703e-04, 7.76975869e-04]),\n",
       " 'mean_score_time': array([0.00263381, 0.00178547, 0.00152183, 0.00153618, 0.00170722,\n",
       "        0.00153918, 0.00155101, 0.00150328, 0.00157413, 0.00179362]),\n",
       " 'std_score_time': array([9.55776711e-04, 3.31288064e-04, 1.14738752e-04, 9.07493148e-05,\n",
       "        1.63833753e-04, 9.61335405e-05, 1.23196913e-04, 9.68630342e-05,\n",
       "        1.23833940e-04, 3.33267115e-04]),\n",
       " 'param_alpha': masked_array(data=[0.01, 0.027825594022071243, 0.0774263682681127,\n",
       "                    0.21544346900318834, 0.5994842503189409,\n",
       "                    1.6681005372000592, 4.6415888336127775,\n",
       "                    12.915496650148826, 35.93813663804626, 100.0],\n",
       "              mask=[False, False, False, False, False, False, False, False,\n",
       "                    False, False],\n",
       "        fill_value='?',\n",
       "             dtype=object),\n",
       " 'params': [{'alpha': 0.01},\n",
       "  {'alpha': 0.027825594022071243},\n",
       "  {'alpha': 0.0774263682681127},\n",
       "  {'alpha': 0.21544346900318834},\n",
       "  {'alpha': 0.5994842503189409},\n",
       "  {'alpha': 1.6681005372000592},\n",
       "  {'alpha': 4.6415888336127775},\n",
       "  {'alpha': 12.915496650148826},\n",
       "  {'alpha': 35.93813663804626},\n",
       "  {'alpha': 100.0}],\n",
       " 'split0_test_score': array([-2766.91053443, -2742.41817372, -2697.22736149, -2659.12883279,\n",
       "        -2884.18152403, -4423.41568804, -5405.98538558, -5405.98538558,\n",
       "        -5405.98538558, -5405.98538558]),\n",
       " 'split1_test_score': array([-2912.93493014, -2888.18819435, -2836.91500814, -2822.43910784,\n",
       "        -3178.50610803, -4896.18779848, -5896.0186644 , -5896.0186644 ,\n",
       "        -5896.0186644 , -5896.0186644 ]),\n",
       " 'split2_test_score': array([-3367.04938403, -3363.39480846, -3357.9250792 , -3437.62519644,\n",
       "        -3831.37399578, -5301.26317142, -6302.88740046, -6302.88740046,\n",
       "        -6302.88740046, -6302.88740046]),\n",
       " 'split3_test_score': array([-3006.65245899, -3003.13918068, -3020.53329636, -3176.43174383,\n",
       "        -3531.97403948, -5067.18597554, -6080.37150349, -6080.37150349,\n",
       "        -6080.37150349, -6080.37150349]),\n",
       " 'split4_test_score': array([-2840.09302385, -2848.33091797, -2875.57593834, -2994.91984755,\n",
       "        -3377.92992878, -4825.59419391, -5659.07164298, -5659.07164298,\n",
       "        -5659.07164298, -5659.07164298]),\n",
       " 'mean_test_score': array([-2978.72806629, -2969.09425504, -2957.63533671, -3018.10894569,\n",
       "        -3360.79311922, -4902.72936548, -5868.86691938, -5868.86691938,\n",
       "        -5868.86691938, -5868.86691938]),\n",
       " 'std_test_score': array([209.75618993, 214.07643657, 225.0810909 , 271.56992994,\n",
       "        319.82185861, 290.38229948, 313.72553504, 313.72553504,\n",
       "        313.72553504, 313.72553504]),\n",
       " 'rank_test_score': array([3, 2, 1, 4, 5, 6, 7, 7, 7, 7], dtype=int32),\n",
       " 'split0_train_score': array([-2866.21702804, -2870.55713536, -2903.77390054, -2997.18734806,\n",
       "        -3397.94649767, -4940.55224389, -5947.26673709, -5947.26673709,\n",
       "        -5947.26673709, -5947.26673709]),\n",
       " 'split1_train_score': array([-2812.21149183, -2815.10802794, -2839.35569715, -2972.18699522,\n",
       "        -3360.40883987, -4913.72523663, -5820.79469091, -5820.79469091,\n",
       "        -5820.79469091, -5820.79469091]),\n",
       " 'split2_train_score': array([-2702.39584365, -2705.25198289, -2724.60085042, -2838.41568124,\n",
       "        -3198.07309031, -4689.0516094 , -5713.59197223, -5713.59197223,\n",
       "        -5713.59197223, -5713.59197223]),\n",
       " 'split3_train_score': array([-2775.50921086, -2780.60712086, -2802.52984067, -2928.50169346,\n",
       "        -3243.31302409, -4788.51262887, -5772.19780494, -5772.19780494,\n",
       "        -5772.19780494, -5772.19780494]),\n",
       " 'split4_train_score': array([-2835.72078251, -2838.01160622, -2855.18127881, -2970.3085211 ,\n",
       "        -3310.13133138, -4804.27542306, -5880.97171896, -5880.97171896,\n",
       "        -5880.97171896, -5880.97171896]),\n",
       " 'mean_train_score': array([-2798.41087138, -2801.90717465, -2825.08831352, -2941.32004782,\n",
       "        -3301.97455666, -4827.22342837, -5826.96458483, -5826.96458483,\n",
       "        -5826.96458483, -5826.96458483]),\n",
       " 'std_train_score': array([56.4332049 , 56.54472212, 59.84510229, 55.97834247, 73.38719507,\n",
       "        91.04127829, 81.58455176, 81.58455176, 81.58455176, 81.58455176])}"
      ]
     },
     "execution_count": 106,
     "metadata": {},
     "output_type": "execute_result"
    }
   ],
   "source": [
    "grid_search.cv_results_"
   ]
  },
  {
   "cell_type": "code",
   "execution_count": 110,
   "metadata": {},
   "outputs": [
    {
     "name": "stdout",
     "output_type": "stream",
     "text": [
      "54.384146005140266 std wrong way = 15.002702786645477 std proper way = 2.042339796731573\n"
     ]
    }
   ],
   "source": [
    "min_fold = grid_search.cv_results_['rank_test_score'].argmin()\n",
    "print(\n",
    "    np.sqrt(-grid_search.cv_results_['mean_test_score'][min_fold]),\n",
    "    'std wrong way =', np.sqrt(grid_search.cv_results_['std_test_score'][min_fold]),\n",
    "    'std proper way =',\n",
    "    np.std([np.sqrt(-grid_search.cv_results_[\"split{}_test_score\".format(i)][min_fold]) for i in range(5)])\n",
    ")"
   ]
  },
  {
   "cell_type": "markdown",
   "metadata": {},
   "source": [
    "`GridSearchCV` fournit directement une instance de notre estimateur avec les meilleurs hyper-paramètres via l'attribut `best_estimator_`. Stockez la sortie de cet attribut dans une variable `best_lasso_model` :"
   ]
  },
  {
   "cell_type": "code",
   "execution_count": 111,
   "metadata": {},
   "outputs": [],
   "source": [
    "best_lasso_model = grid_search.best_estimator_"
   ]
  },
  {
   "cell_type": "markdown",
   "metadata": {},
   "source": [
    "Appliquez une validation croisée sur cet estimateur avec 10 plis et stockez la racine carré des valeurs négatives des scores dans une variable `lasso_cv_scores`, puis affichez la moyenne et l'écart type obtenu :"
   ]
  },
  {
   "cell_type": "code",
   "execution_count": 113,
   "metadata": {},
   "outputs": [
    {
     "data": {
      "text/plain": [
       "(54.256887671735385, 4.373394237525864)"
      ]
     },
     "execution_count": 113,
     "metadata": {},
     "output_type": "execute_result"
    }
   ],
   "source": [
    "scores = cross_val_score(best_lasso_model, X_train, y_train, scoring=\"neg_mean_squared_error\", cv=10)\n",
    "lasso_cv_scores = np.sqrt(-scores)\n",
    "np.mean(lasso_cv_scores), np.std(lasso_cv_scores)"
   ]
  },
  {
   "cell_type": "markdown",
   "metadata": {},
   "source": [
    "Faites de même pour une regression Ridge avec les mêmes valeurs pour le coefficient de régularisation, stockez les scores dans la variable `ridge_cv_scores` :"
   ]
  },
  {
   "cell_type": "code",
   "execution_count": 115,
   "metadata": {},
   "outputs": [
    {
     "name": "stdout",
     "output_type": "stream",
     "text": [
      "Meilleur coefficient de régularisation :  0.0774263682681127\n",
      "rmse entraînement:  54.43907921057756\n"
     ]
    },
    {
     "data": {
      "text/plain": [
       "(54.26347685438877, 4.1708977327893235)"
      ]
     },
     "execution_count": 115,
     "metadata": {},
     "output_type": "execute_result"
    }
   ],
   "source": [
    "param_grid = [{'alpha': regul_coeffs}]\n",
    "grid_search = GridSearchCV(\n",
    "    ridge, param_grid, cv=5,\n",
    "    scoring=\"neg_mean_squared_error\", return_train_score=True\n",
    ")\n",
    "grid_search.fit(X_train, y_train)\n",
    "print('Meilleur coefficient de régularisation : ', grid_search.best_params_[\"alpha\"])\n",
    "rmse_best_train = np.sqrt(-grid_search.best_score_)\n",
    "print('rmse entraînement: ', rmse_best_train)\n",
    "best_ridge_model = grid_search.best_estimator_\n",
    "scores = cross_val_score(best_ridge_model, X_train, y_train, scoring=\"neg_mean_squared_error\", cv=10)\n",
    "ridge_cv_scores = np.sqrt(-scores)\n",
    "np.mean(ridge_cv_scores), np.std(ridge_cv_scores)"
   ]
  },
  {
   "cell_type": "markdown",
   "metadata": {},
   "source": [
    "## 4.8 Comparaison des modèles\n",
    "\n",
    "Nous pouvons maintenant comparer les performances de nos modèles objectivement (i.e. : avec des validations croisées sur notre dataset de test) au travers de leurs moyennes et de leurs écart-types. Si vous avez respecté les noms des variables pour les scores des régressions linéaires simple, Ridge et Lasso (sinon, changez le nom des variables sur la première ligne), vous pouvez exécuter la cellule suivante pour avoir un graphique comparant ces trois méthodes."
   ]
  },
  {
   "cell_type": "code",
   "execution_count": 116,
   "metadata": {
    "scrolled": true
   },
   "outputs": [
    {
     "data": {
      "image/png": "[encoded data removed]",
      "text/plain": [
       "<Figure size 432x288 with 1 Axes>"
      ]
     },
     "metadata": {
      "needs_background": "light"
     },
     "output_type": "display_data"
    }
   ],
   "source": [
    "model_scores = [linear_cv_scores, lasso_cv_scores, ridge_cv_scores]\n",
    "model_names = ['Linéaire', 'LASSO', 'ridge']\n",
    "figure = plt.figure()\n",
    "axis = figure.add_subplot(111)\n",
    "plt.boxplot(model_scores)\n",
    "axis.set_xticklabels(model_names, rotation = 45, ha=\"right\")\n",
    "axis.set_ylabel(\"Root Mean Squared Error (RMSE)\");"
   ]
  },
  {
   "cell_type": "markdown",
   "metadata": {},
   "source": [
    "## 4.9 Autres modèles (facultatif)\n",
    "\n",
    "Testez et comparez les modèles suivants avec les modèles précédents (pensez à recherchez les meilleurs hyper-paramètres indiqués entre parenthèse) :\n",
    "* [`sklearn.linear_model.ElasticNet`](https://scikit-learn.org/stable/modules/generated/sklearn.linear_model.ElasticNet.html) (`alpha` et `l1_ratio`)\n",
    "* [`sklearn.ensemble.RandomForestRegressor`](https://scikit-learn.org/stable/modules/generated/sklearn.ensemble.RandomForestRegressor.html) (`min_samples_leaf` et `max_features`)"
   ]
  },
  {
   "cell_type": "markdown",
   "metadata": {},
   "source": [
    "## 4.10 Evaluation du meilleur modèle sur le jeu de test\n",
    "\n",
    "Vous pouvez maintenant évaluer les performances du meilleur modèle obtenu avec la validation croisée sur le dataset de test :"
   ]
  },
  {
   "cell_type": "code",
   "execution_count": 117,
   "metadata": {},
   "outputs": [
    {
     "name": "stdout",
     "output_type": "stream",
     "text": [
      "Test RMSE :  55.98272672028123\n"
     ]
    }
   ],
   "source": [
    "from sklearn.metrics import mean_squared_error\n",
    "\n",
    "test_pred = lr.predict(X_test)\n",
    "test_rmse = np.sqrt(mean_squared_error(y_test, test_pred))\n",
    "print(\"Test RMSE : \", test_rmse)"
   ]
  },
  {
   "cell_type": "markdown",
   "metadata": {},
   "source": [
    "## 4.11 Comparaison de l'effet du coefficient de régularisation pour Ridge et Lasso\n",
    "\n",
    "Nous construisons plusieurs modèles de régression :\n",
    "* Une régression linéaire simple.\n",
    "* Une régression linéaire régularisée de type 'ridge'.\n",
    "* Une régression linéaire regularisée de type 'LASSO'.\n",
    "\n",
    "Pour les modèles régularisés, nous testons $10$ valeurs entre $10^{-2}$ et $10^2$ pour le coefficient de régularisation.\n",
    "\n",
    "Nous traçons l'évolution des poids associés aux variables de la régression linéaire en fonction de la valeur du coefficient de régularisation.\n",
    "\n",
    "Comment interprétez-vous la différence d'évolution de ces poids pour la régularisation ridge et LASSO ?\n",
    "\n",
    "Observez-vous des connexions avec l'étude de la corrélation entre les variables ?"
   ]
  },
  {
   "cell_type": "code",
   "execution_count": 118,
   "metadata": {
    "scrolled": false
   },
   "outputs": [
    {
     "data": {
      "image/png": "[encoded data removed]",
      "text/plain": [
       "<Figure size 1152x432 with 2 Axes>"
      ]
     },
     "metadata": {
      "needs_background": "light"
     },
     "output_type": "display_data"
    }
   ],
   "source": [
    "from sklearn import linear_model\n",
    "from sklearn.metrics import mean_squared_error\n",
    "\n",
    "linear = linear_model.LinearRegression()\n",
    "linear.fit(X_train, y_train)\n",
    "pred = linear.predict(X_test)\n",
    "rmse_linear = np.sqrt(mean_squared_error(y_test, pred))\n",
    "\n",
    "ridge = linear_model.Ridge()\n",
    "lasso = linear_model.Lasso()\n",
    "\n",
    "regul_coefs = np.logspace(-2, 2, 10)\n",
    "\n",
    "rmse_ridge = []\n",
    "rmse_lasso = []\n",
    "params_ridge = []\n",
    "params_lasso = []\n",
    "\n",
    "for c in regul_coefs:\n",
    "    ridge.set_params(alpha=c)\n",
    "    ridge.fit(X_train, y_train)\n",
    "    params_ridge.append(ridge.coef_)\n",
    "    pred = ridge.predict(X_test)\n",
    "    rmse_ridge.append(np.sqrt(mean_squared_error(y_test, pred)))\n",
    "    \n",
    "    lasso.set_params(alpha=c)\n",
    "    lasso.fit(X_train, y_train)\n",
    "    params_lasso.append(lasso.coef_)\n",
    "    pred = lasso.predict(X_test)\n",
    "    rmse_lasso.append(np.sqrt(mean_squared_error(y_test, pred)))\n",
    "\n",
    "plt.figure(figsize=(16, 6))\n",
    "plt.subplot(1,2,1)\n",
    "lines = plt.semilogx(regul_coefs, params_ridge)\n",
    "plt.legend(lines, df.columns.values)\n",
    "plt.xlabel('$C$',fontsize=18)\n",
    "plt.ylabel('$w_i$',fontsize=18)\n",
    "plt.title('Ridge')\n",
    "\n",
    "plt.subplot(1,2,2)\n",
    "lines = plt.semilogx(regul_coefs, params_lasso)\n",
    "plt.legend(lines, df.columns.values)\n",
    "plt.xlabel('$C$',fontsize=18)\n",
    "plt.ylabel('$w_i$',fontsize=18)\n",
    "plt.title('Lasso')\n",
    "\n",
    "plt.show()"
   ]
  },
  {
   "cell_type": "markdown",
   "metadata": {},
   "source": [
    "### Evaluation de la performance des modèles sur le jeu de test\n",
    "\n",
    "Que conclure de l'évaluation comparée des modèles sur le jeu de test ? La régularisation est-elle utile ?"
   ]
  },
  {
   "cell_type": "code",
   "execution_count": 119,
   "metadata": {
    "scrolled": true
   },
   "outputs": [
    {
     "data": {
      "image/png": "[encoded data removed]",
      "text/plain": [
       "<Figure size 432x288 with 1 Axes>"
      ]
     },
     "metadata": {
      "needs_background": "light"
     },
     "output_type": "display_data"
    }
   ],
   "source": [
    "plt.semilogx(regul_coefs, rmse_ridge, 'b', label='RMSE Ridge')\n",
    "plt.semilogx(regul_coefs, rmse_lasso, 'g', label='RMSE LASSO')\n",
    "plt.axhline(y=rmse_linear, color='r', linestyle='-', label='RMSE sans régularisation')\n",
    "plt.legend(loc='best')\n",
    "plt.xlabel('$C$', fontsize=18)\n",
    "plt.ylabel('RMSE', fontsize=18)\n",
    "plt.show()"
   ]
  }
 ],
 "metadata": {
  "kernelspec": {
   "display_name": "Python 3",
   "language": "python",
   "name": "python3"
  },
  "language_info": {
   "codemirror_mode": {
    "name": "ipython",
    "version": 3
   },
   "file_extension": ".py",
   "mimetype": "text/x-python",
   "name": "python",
   "nbconvert_exporter": "python",
   "pygments_lexer": "ipython3",
   "version": "3.8.8"
  }
 },
 "nbformat": 4,
 "nbformat_minor": 2
}
